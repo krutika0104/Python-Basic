{
 "cells": [
  {
   "cell_type": "code",
   "execution_count": 2,
   "id": "63727c85",
   "metadata": {},
   "outputs": [
    {
     "name": "stdout",
     "output_type": "stream",
     "text": [
      "[1, 2, 3]\n"
     ]
    },
    {
     "data": {
      "text/plain": [
       "list"
      ]
     },
     "execution_count": 2,
     "metadata": {},
     "output_type": "execute_result"
    }
   ],
   "source": [
    "#create list using []\n",
    "my_list=[1,2,3]\n",
    "print(my_list)\n",
    "#what data type\n",
    "type(my_list)"
   ]
  },
  {
   "cell_type": "code",
   "execution_count": 5,
   "id": "ca0d1872",
   "metadata": {},
   "outputs": [
    {
     "name": "stdout",
     "output_type": "stream",
     "text": [
      "[1, 2, 3]\n"
     ]
    },
    {
     "data": {
      "text/plain": [
       "list"
      ]
     },
     "execution_count": 5,
     "metadata": {},
     "output_type": "execute_result"
    }
   ],
   "source": [
    "#create list using list constructor\n",
    "my_list2=list((1,2,3))\n",
    "print(my_list)\n",
    "\n",
    "type(my_list2)"
   ]
  },
  {
   "cell_type": "code",
   "execution_count": 6,
   "id": "304cd6ea",
   "metadata": {},
   "outputs": [
    {
     "name": "stdout",
     "output_type": "stream",
     "text": [
      "[1, 2, 3, 4, 1]\n"
     ]
    }
   ],
   "source": [
    "#allow duplicate \n",
    "my_list3=[1,2,3,4,1]\n",
    "print(my_list3)"
   ]
  },
  {
   "cell_type": "code",
   "execution_count": 7,
   "id": "dbbc68b5",
   "metadata": {},
   "outputs": [
    {
     "name": "stdout",
     "output_type": "stream",
     "text": [
      "5\n"
     ]
    }
   ],
   "source": [
    "#checking length\n",
    "my_list3=[1,2,3,4,1]\n",
    "print(len(my_list3))"
   ]
  },
  {
   "cell_type": "code",
   "execution_count": 3,
   "id": "43ab212f",
   "metadata": {},
   "outputs": [
    {
     "name": "stdout",
     "output_type": "stream",
     "text": [
      "[1, 2, 3.5]\n",
      "['apple', 'banana', 'cherry']\n",
      "[True, False]\n"
     ]
    },
    {
     "data": {
      "text/plain": [
       "list"
      ]
     },
     "execution_count": 3,
     "metadata": {},
     "output_type": "execute_result"
    }
   ],
   "source": [
    "#list can access any data type\n",
    "a=[1,2,3.5]\n",
    "b=[\"apple\",\"banana\",\"cherry\"]\n",
    "c=[True,False]\n",
    "print(a)\n",
    "print(b)\n",
    "print(c)\n",
    "type(a)"
   ]
  },
  {
   "cell_type": "code",
   "execution_count": 5,
   "id": "54ae4a69",
   "metadata": {},
   "outputs": [
    {
     "name": "stdout",
     "output_type": "stream",
     "text": [
      "['cherry', 34, True, 6.8, 'male']\n"
     ]
    },
    {
     "data": {
      "text/plain": [
       "list"
      ]
     },
     "execution_count": 5,
     "metadata": {},
     "output_type": "execute_result"
    }
   ],
   "source": [
    "#heterogeneous\n",
    "a=[\"cherry\",34,True,6.8,\"male\"]\n",
    "print(a)\n",
    "type(a)"
   ]
  },
  {
   "cell_type": "code",
   "execution_count": 6,
   "id": "216caaab",
   "metadata": {},
   "outputs": [
    {
     "name": "stdout",
     "output_type": "stream",
     "text": [
      "['abc', 34, True, 40, 'male']\n"
     ]
    }
   ],
   "source": [
    "#Accessing element\n",
    "list1=[\"abc\",34,True,40,\"male\"]\n",
    "print(list1)"
   ]
  },
  {
   "cell_type": "code",
   "execution_count": 7,
   "id": "f661c6ce",
   "metadata": {},
   "outputs": [
    {
     "name": "stdout",
     "output_type": "stream",
     "text": [
      "abc\n"
     ]
    }
   ],
   "source": [
    "#positive forward indexing\n",
    "print(list1[0])"
   ]
  },
  {
   "cell_type": "code",
   "execution_count": 10,
   "id": "0555f201",
   "metadata": {},
   "outputs": [
    {
     "name": "stdout",
     "output_type": "stream",
     "text": [
      "34\n",
      "True\n"
     ]
    }
   ],
   "source": [
    "print(list1[1])\n",
    "print(list1[2])"
   ]
  },
  {
   "cell_type": "code",
   "execution_count": 9,
   "id": "cfcbd0f5",
   "metadata": {},
   "outputs": [
    {
     "ename": "IndexError",
     "evalue": "list index out of range",
     "output_type": "error",
     "traceback": [
      "\u001b[1;31m---------------------------------------------------------------------------\u001b[0m",
      "\u001b[1;31mIndexError\u001b[0m                                Traceback (most recent call last)",
      "\u001b[1;32m~\\AppData\\Local\\Temp/ipykernel_21044/4048086358.py\u001b[0m in \u001b[0;36m<module>\u001b[1;34m\u001b[0m\n\u001b[1;32m----> 1\u001b[1;33m \u001b[0mprint\u001b[0m\u001b[1;33m(\u001b[0m\u001b[0mlist1\u001b[0m\u001b[1;33m[\u001b[0m\u001b[1;36m5\u001b[0m\u001b[1;33m]\u001b[0m\u001b[1;33m)\u001b[0m\u001b[1;33m\u001b[0m\u001b[1;33m\u001b[0m\u001b[0m\n\u001b[0m",
      "\u001b[1;31mIndexError\u001b[0m: list index out of range"
     ]
    }
   ],
   "source": [
    "print(list1[5])"
   ]
  },
  {
   "cell_type": "code",
   "execution_count": 11,
   "id": "4d5dfaf0",
   "metadata": {},
   "outputs": [
    {
     "name": "stdout",
     "output_type": "stream",
     "text": [
      "male\n"
     ]
    }
   ],
   "source": [
    "#negative backword indexing\n",
    "list1=[\"abc\",34,True,40,\"male\"]\n",
    "print(list1[-1])"
   ]
  },
  {
   "cell_type": "code",
   "execution_count": 12,
   "id": "474768cc",
   "metadata": {},
   "outputs": [
    {
     "name": "stdout",
     "output_type": "stream",
     "text": [
      "40\n"
     ]
    }
   ],
   "source": [
    "print(list1[-2])"
   ]
  },
  {
   "cell_type": "code",
   "execution_count": 13,
   "id": "9122b2c3",
   "metadata": {},
   "outputs": [
    {
     "name": "stdout",
     "output_type": "stream",
     "text": [
      "34\n"
     ]
    }
   ],
   "source": [
    "print(list1[-4])"
   ]
  },
  {
   "cell_type": "code",
   "execution_count": 15,
   "id": "32acb1ed",
   "metadata": {},
   "outputs": [
    {
     "data": {
      "text/plain": [
       "4"
      ]
     },
     "execution_count": 15,
     "metadata": {},
     "output_type": "execute_result"
    }
   ],
   "source": [
    "#to check the position of element in the list\n",
    "list1.index(\"male\")"
   ]
  },
  {
   "cell_type": "code",
   "execution_count": 22,
   "id": "ca891c5e",
   "metadata": {},
   "outputs": [
    {
     "data": {
      "text/plain": [
       "2"
      ]
     },
     "execution_count": 22,
     "metadata": {},
     "output_type": "execute_result"
    }
   ],
   "source": [
    "list1.index(40)\n",
    "list1.index(True)"
   ]
  },
  {
   "cell_type": "code",
   "execution_count": 20,
   "id": "9e003d67",
   "metadata": {},
   "outputs": [
    {
     "ename": "ValueError",
     "evalue": "['cherry', 34, True, 6.8, 'male'] is not in list",
     "output_type": "error",
     "traceback": [
      "\u001b[1;31m---------------------------------------------------------------------------\u001b[0m",
      "\u001b[1;31mValueError\u001b[0m                                Traceback (most recent call last)",
      "\u001b[1;32m~\\AppData\\Local\\Temp/ipykernel_21044/1937661586.py\u001b[0m in \u001b[0;36m<module>\u001b[1;34m\u001b[0m\n\u001b[1;32m----> 1\u001b[1;33m \u001b[0mlist1\u001b[0m\u001b[1;33m.\u001b[0m\u001b[0mindex\u001b[0m\u001b[1;33m(\u001b[0m\u001b[0ma\u001b[0m\u001b[1;33m)\u001b[0m\u001b[1;33m\u001b[0m\u001b[1;33m\u001b[0m\u001b[0m\n\u001b[0m",
      "\u001b[1;31mValueError\u001b[0m: ['cherry', 34, True, 6.8, 'male'] is not in list"
     ]
    }
   ],
   "source": [
    "list1.index(a)"
   ]
  },
  {
   "cell_type": "code",
   "execution_count": 23,
   "id": "889c0df4",
   "metadata": {},
   "outputs": [
    {
     "name": "stdout",
     "output_type": "stream",
     "text": [
      "['abc', 34, True, 40, 'male']\n"
     ]
    }
   ],
   "source": [
    "#slicing\n",
    "#list1[::]   [start:stop:step]\n",
    "list1=[\"abc\",34,True,40,\"male\"]\n",
    "print(list1[0:])"
   ]
  },
  {
   "cell_type": "code",
   "execution_count": 24,
   "id": "bc21597a",
   "metadata": {},
   "outputs": [
    {
     "name": "stdout",
     "output_type": "stream",
     "text": [
      "['abc', 34, True]\n"
     ]
    }
   ],
   "source": [
    "print(list1[:3])"
   ]
  },
  {
   "cell_type": "code",
   "execution_count": 25,
   "id": "4bf7c27f",
   "metadata": {},
   "outputs": [
    {
     "name": "stdout",
     "output_type": "stream",
     "text": [
      "['abc', 34, True, 40, 'male']\n"
     ]
    }
   ],
   "source": [
    "print(list1[:])"
   ]
  },
  {
   "cell_type": "code",
   "execution_count": 26,
   "id": "da7f1c68",
   "metadata": {},
   "outputs": [
    {
     "name": "stdout",
     "output_type": "stream",
     "text": [
      "[True, 40, 'male']\n"
     ]
    }
   ],
   "source": [
    "print(list1[2:5])"
   ]
  },
  {
   "cell_type": "code",
   "execution_count": 27,
   "id": "d75d9601",
   "metadata": {},
   "outputs": [
    {
     "name": "stdout",
     "output_type": "stream",
     "text": [
      "['abc', True, 'male']\n"
     ]
    }
   ],
   "source": [
    "print(list1[::2])"
   ]
  },
  {
   "cell_type": "code",
   "execution_count": 28,
   "id": "632d4da7",
   "metadata": {},
   "outputs": [
    {
     "name": "stdout",
     "output_type": "stream",
     "text": [
      "['abc', 34, True, 40, 'male']\n"
     ]
    }
   ],
   "source": [
    "print(list1[::])"
   ]
  },
  {
   "cell_type": "code",
   "execution_count": 29,
   "id": "236f7577",
   "metadata": {},
   "outputs": [
    {
     "name": "stdout",
     "output_type": "stream",
     "text": [
      "['male', 40, True, 34, 'abc']\n"
     ]
    }
   ],
   "source": [
    "print(list1[::-1])"
   ]
  },
  {
   "cell_type": "code",
   "execution_count": 30,
   "id": "609d8590",
   "metadata": {},
   "outputs": [
    {
     "name": "stdout",
     "output_type": "stream",
     "text": [
      "[34, True, 40]\n"
     ]
    }
   ],
   "source": [
    "print(list1[1:-1])#skip 1 and last number"
   ]
  },
  {
   "cell_type": "code",
   "execution_count": 31,
   "id": "102c4a38",
   "metadata": {},
   "outputs": [
    {
     "name": "stdout",
     "output_type": "stream",
     "text": [
      "[34, True, 40, 'male']\n"
     ]
    }
   ],
   "source": [
    "print(list1[-4:5])"
   ]
  },
  {
   "cell_type": "code",
   "execution_count": 33,
   "id": "d5a15071",
   "metadata": {},
   "outputs": [
    {
     "name": "stdout",
     "output_type": "stream",
     "text": [
      "[34, True, 40]\n"
     ]
    }
   ],
   "source": [
    "print(list1[-4:-1])"
   ]
  },
  {
   "cell_type": "code",
   "execution_count": 36,
   "id": "3186f4f2",
   "metadata": {},
   "outputs": [
    {
     "name": "stdout",
     "output_type": "stream",
     "text": [
      "[34, 40]\n"
     ]
    }
   ],
   "source": [
    "list1=[\"abc\",34,True,40,\"male\"]\n",
    "print(list1[-4:-1:2])"
   ]
  },
  {
   "cell_type": "code",
   "execution_count": 37,
   "id": "caae9e00",
   "metadata": {},
   "outputs": [
    {
     "name": "stdout",
     "output_type": "stream",
     "text": [
      "[]\n"
     ]
    }
   ],
   "source": [
    "print(list1[-1:-4])"
   ]
  },
  {
   "cell_type": "code",
   "execution_count": 38,
   "id": "10287160",
   "metadata": {},
   "outputs": [
    {
     "name": "stdout",
     "output_type": "stream",
     "text": [
      "[34, True]\n"
     ]
    }
   ],
   "source": [
    "print(list1[1:-2])"
   ]
  },
  {
   "cell_type": "code",
   "execution_count": 39,
   "id": "2b4559f1",
   "metadata": {},
   "outputs": [
    {
     "name": "stdout",
     "output_type": "stream",
     "text": [
      "['abc']\n"
     ]
    }
   ],
   "source": [
    "print(list1[0:-4])"
   ]
  },
  {
   "cell_type": "code",
   "execution_count": 41,
   "id": "2300ebb4",
   "metadata": {},
   "outputs": [
    {
     "name": "stdout",
     "output_type": "stream",
     "text": [
      "['male', True]\n"
     ]
    }
   ],
   "source": [
    "print(list1[-1:-4:-2])"
   ]
  },
  {
   "cell_type": "code",
   "execution_count": 44,
   "id": "0c3ebf88",
   "metadata": {},
   "outputs": [
    {
     "data": {
      "text/plain": [
       "['abc', 34, True, 40, 'male', 'abc', 34, True, 40, 'male']"
      ]
     },
     "execution_count": 44,
     "metadata": {},
     "output_type": "execute_result"
    }
   ],
   "source": [
    "#print list 2 times\n",
    "list1*2"
   ]
  },
  {
   "cell_type": "code",
   "execution_count": 3,
   "id": "eb8010f2",
   "metadata": {},
   "outputs": [
    {
     "name": "stdout",
     "output_type": "stream",
     "text": [
      "watermelon\n"
     ]
    }
   ],
   "source": [
    "list1=[\"apple\",\"banana\",[\"watermelon\",\"kiwi\"],\"cherry\"]\n",
    "print(list1[2][0])"
   ]
  },
  {
   "cell_type": "code",
   "execution_count": 5,
   "id": "44427514",
   "metadata": {},
   "outputs": [
    {
     "name": "stdout",
     "output_type": "stream",
     "text": [
      "e\n",
      "r\n"
     ]
    }
   ],
   "source": [
    "print(list1[2][0][6])\n",
    "print(list1[2][0][4])"
   ]
  },
  {
   "cell_type": "code",
   "execution_count": 6,
   "id": "e15ad33a",
   "metadata": {},
   "outputs": [
    {
     "name": "stdout",
     "output_type": "stream",
     "text": [
      "mango\n"
     ]
    }
   ],
   "source": [
    "list1=[\"apple\",\"bananna\",[\"watermelon\",[\"mango\",\"orange\"],\"coconut\",\"kiwi\"],\"cherry\"]\n",
    "print(list1[2][1][0])"
   ]
  },
  {
   "cell_type": "code",
   "execution_count": 7,
   "id": "8084549e",
   "metadata": {},
   "outputs": [
    {
     "name": "stdout",
     "output_type": "stream",
     "text": [
      "n\n"
     ]
    }
   ],
   "source": [
    "print(list1[2][1][1][3])"
   ]
  },
  {
   "cell_type": "code",
   "execution_count": 8,
   "id": "96aa769f",
   "metadata": {},
   "outputs": [
    {
     "data": {
      "text/plain": [
       "'mango'"
      ]
     },
     "execution_count": 8,
     "metadata": {},
     "output_type": "execute_result"
    }
   ],
   "source": [
    "list1[2][1][0]"
   ]
  },
  {
   "cell_type": "code",
   "execution_count": 9,
   "id": "38c1d3eb",
   "metadata": {},
   "outputs": [
    {
     "data": {
      "text/plain": [
       "'ora'"
      ]
     },
     "execution_count": 9,
     "metadata": {},
     "output_type": "execute_result"
    }
   ],
   "source": [
    "list1[2][1][1][0:3]"
   ]
  },
  {
   "cell_type": "code",
   "execution_count": 2,
   "id": "decfc61d",
   "metadata": {},
   "outputs": [
    {
     "name": "stdout",
     "output_type": "stream",
     "text": [
      "['apple', 'banana', 'cherry']\n"
     ]
    }
   ],
   "source": [
    "#changing value/elements  Mutable\n",
    "a = [\"apple\",\"banana\",\"cherry\"]\n",
    "print(a)"
   ]
  },
  {
   "cell_type": "code",
   "execution_count": 3,
   "id": "35a67994",
   "metadata": {},
   "outputs": [
    {
     "name": "stdout",
     "output_type": "stream",
     "text": [
      "['kiwi', 'banana', 'cherry']\n"
     ]
    }
   ],
   "source": [
    "a[0]=\"kiwi\"\n",
    "print(a)"
   ]
  },
  {
   "cell_type": "code",
   "execution_count": 4,
   "id": "825852f3",
   "metadata": {},
   "outputs": [
    {
     "name": "stdout",
     "output_type": "stream",
     "text": [
      "['apple', 'watermelon', 'orange', 'mango']\n"
     ]
    }
   ],
   "source": [
    "b=[\"apple\",\"banana\",\"cherry\",\"mango\"]\n",
    "b[1:3]=[\"watermelon\",\"orange\"]\n",
    "print(b)"
   ]
  },
  {
   "cell_type": "code",
   "execution_count": 5,
   "id": "9f493b4f",
   "metadata": {},
   "outputs": [
    {
     "name": "stdout",
     "output_type": "stream",
     "text": [
      "['apple', 'papaya', 'orange', 'cherry', 'mango']\n"
     ]
    }
   ],
   "source": [
    "b=[\"apple\",\"banana\",\"cherry\",\"mango\"]\n",
    "b[1:2]=[\"papaya\",\"orange\"]\n",
    "print(b)"
   ]
  },
  {
   "cell_type": "code",
   "execution_count": 8,
   "id": "08dd7aec",
   "metadata": {},
   "outputs": [
    {
     "name": "stdout",
     "output_type": "stream",
     "text": [
      "['apple', 'papaya']\n"
     ]
    }
   ],
   "source": [
    "b[1:4]=[\"papaya\"]\n",
    "print(b)"
   ]
  },
  {
   "cell_type": "code",
   "execution_count": 9,
   "id": "0794849c",
   "metadata": {},
   "outputs": [
    {
     "name": "stdout",
     "output_type": "stream",
     "text": [
      "p\n"
     ]
    }
   ],
   "source": [
    "new=[\"apple\",\"banana\",[\"watermelon\",['grape','mango'],'kiwi'],'cherry']\n",
    "print(new[2][1][0][-2])"
   ]
  },
  {
   "cell_type": "code",
   "execution_count": 10,
   "id": "fc424515",
   "metadata": {},
   "outputs": [
    {
     "name": "stdout",
     "output_type": "stream",
     "text": [
      "r\n"
     ]
    }
   ],
   "source": [
    "print(new[2][0][4])"
   ]
  },
  {
   "cell_type": "code",
   "execution_count": 11,
   "id": "361f6d08",
   "metadata": {},
   "outputs": [
    {
     "name": "stdout",
     "output_type": "stream",
     "text": [
      "r\n"
     ]
    }
   ],
   "source": [
    "print(new[3][-2])"
   ]
  },
  {
   "cell_type": "code",
   "execution_count": 2,
   "id": "0629358b",
   "metadata": {},
   "outputs": [
    {
     "name": "stdout",
     "output_type": "stream",
     "text": [
      "['apple', 'mango', 'watermelon', ' banana']\n"
     ]
    }
   ],
   "source": [
    "#update and delete\n",
    "#insert\n",
    "a=[\"apple\",\"mango\",\" banana\"]\n",
    "a.insert(2,\"watermelon\")\n",
    "print(a)"
   ]
  },
  {
   "cell_type": "code",
   "execution_count": 3,
   "id": "e1a8b824",
   "metadata": {},
   "outputs": [
    {
     "name": "stdout",
     "output_type": "stream",
     "text": [
      "['apple', 'mango', ['watermelon', 'kiwi'], ' banana']\n"
     ]
    }
   ],
   "source": [
    "b=[\"apple\",\"mango\",\" banana\"]\n",
    "b.insert(2,[\"watermelon\",\"kiwi\"])\n",
    "print(b)"
   ]
  },
  {
   "cell_type": "code",
   "execution_count": 4,
   "id": "f5bc1b4e",
   "metadata": {},
   "outputs": [
    {
     "name": "stdout",
     "output_type": "stream",
     "text": [
      "['apple', 'mango', ' banana', 'watermelon']\n"
     ]
    }
   ],
   "source": [
    "#append()\n",
    "a=[\"apple\",\"mango\",\" banana\"]\n",
    "a.append(\"watermelon\")\n",
    "print(a)"
   ]
  },
  {
   "cell_type": "code",
   "execution_count": 5,
   "id": "7b6dca29",
   "metadata": {},
   "outputs": [
    {
     "name": "stdout",
     "output_type": "stream",
     "text": [
      "['apple', 'mango', ' banana', ['watermelon', 'kiwi']]\n"
     ]
    }
   ],
   "source": [
    "b=[\"apple\",\"mango\",\" banana\"]\n",
    "b.append([\"watermelon\",\"kiwi\"])\n",
    "print(b)"
   ]
  },
  {
   "cell_type": "code",
   "execution_count": 6,
   "id": "bae036b4",
   "metadata": {},
   "outputs": [
    {
     "name": "stdout",
     "output_type": "stream",
     "text": [
      "['apple', 'mango', ' banana', 'watermelon', 'kiwi']\n"
     ]
    }
   ],
   "source": [
    "#extend()\n",
    "a=[\"apple\",\"mango\",\" banana\"]\n",
    "a.extend([\"watermelon\",\"kiwi\"])\n",
    "print(a)"
   ]
  },
  {
   "cell_type": "code",
   "execution_count": 7,
   "id": "b90dd664",
   "metadata": {},
   "outputs": [
    {
     "name": "stdout",
     "output_type": "stream",
     "text": [
      "['apple', 'mango', ' banana', 'watermelon']\n"
     ]
    }
   ],
   "source": [
    "a=[\"apple\",\"mango\",\" banana\"]\n",
    "a.extend([\"watermelon\"])\n",
    "print(a)"
   ]
  },
  {
   "cell_type": "code",
   "execution_count": 9,
   "id": "3aad7e09",
   "metadata": {},
   "outputs": [
    {
     "name": "stdout",
     "output_type": "stream",
     "text": [
      "['apple', 'banana', 'cherry', 1, 2, 3]\n"
     ]
    }
   ],
   "source": [
    "a=[\"apple\",\"banana\",\"cherry\"]\n",
    "b=[1,2,3]\n",
    "a.extend(b)\n",
    "print(a)"
   ]
  },
  {
   "cell_type": "code",
   "execution_count": 10,
   "id": "5d34b3ff",
   "metadata": {},
   "outputs": [
    {
     "name": "stdout",
     "output_type": "stream",
     "text": [
      "['apple', 'cherry']\n"
     ]
    }
   ],
   "source": [
    "#remove list\n",
    "a=[\"apple\",\"banana\",\"cherry\"]\n",
    "a.remove(\"banana\")\n",
    "print(a)"
   ]
  },
  {
   "cell_type": "code",
   "execution_count": 12,
   "id": "1d910fdd",
   "metadata": {},
   "outputs": [
    {
     "name": "stdout",
     "output_type": "stream",
     "text": [
      "['True', True]\n"
     ]
    }
   ],
   "source": [
    "b=[\"True\",False,True]\n",
    "b.remove(False)\n",
    "print(b)"
   ]
  },
  {
   "cell_type": "code",
   "execution_count": 13,
   "id": "d4552717",
   "metadata": {},
   "outputs": [
    {
     "name": "stdout",
     "output_type": "stream",
     "text": [
      "['banana', 'cherry']\n"
     ]
    }
   ],
   "source": [
    "a=[\"apple\",\"banana\",\"cherry\"]\n",
    "a.remove(\"apple\")\n",
    "print(a)"
   ]
  },
  {
   "cell_type": "code",
   "execution_count": 15,
   "id": "55c8f92c",
   "metadata": {},
   "outputs": [
    {
     "name": "stdout",
     "output_type": "stream",
     "text": [
      "['apple', 'banana']\n"
     ]
    }
   ],
   "source": [
    "#pop()\n",
    "a=[\"apple\",\"banana\",\"cherry\"]\n",
    "a.pop()\n",
    "print(a)"
   ]
  },
  {
   "cell_type": "code",
   "execution_count": 18,
   "id": "3700aa11",
   "metadata": {},
   "outputs": [
    {
     "name": "stdout",
     "output_type": "stream",
     "text": [
      "['apple', 'cherry']\n"
     ]
    }
   ],
   "source": [
    "#del\n",
    "a=[\"apple\",\"banana\",\"cherry\"]\n",
    "del (a[1])\n",
    "print(a)"
   ]
  },
  {
   "cell_type": "code",
   "execution_count": 20,
   "id": "c8ee6b28",
   "metadata": {},
   "outputs": [
    {
     "ename": "NameError",
     "evalue": "name 'a' is not defined",
     "output_type": "error",
     "traceback": [
      "\u001b[1;31m---------------------------------------------------------------------------\u001b[0m",
      "\u001b[1;31mNameError\u001b[0m                                 Traceback (most recent call last)",
      "\u001b[1;32m~\\AppData\\Local\\Temp/ipykernel_14484/2291054780.py\u001b[0m in \u001b[0;36m<module>\u001b[1;34m\u001b[0m\n\u001b[0;32m      1\u001b[0m \u001b[0ma\u001b[0m\u001b[1;33m=\u001b[0m\u001b[1;33m[\u001b[0m\u001b[1;34m\"apple\"\u001b[0m\u001b[1;33m,\u001b[0m\u001b[1;34m\"banana\"\u001b[0m\u001b[1;33m,\u001b[0m\u001b[1;34m\"cherry\"\u001b[0m\u001b[1;33m]\u001b[0m\u001b[1;33m\u001b[0m\u001b[1;33m\u001b[0m\u001b[0m\n\u001b[0;32m      2\u001b[0m \u001b[1;32mdel\u001b[0m \u001b[0ma\u001b[0m\u001b[1;33m\u001b[0m\u001b[1;33m\u001b[0m\u001b[0m\n\u001b[1;32m----> 3\u001b[1;33m \u001b[0mprint\u001b[0m\u001b[1;33m(\u001b[0m\u001b[0ma\u001b[0m\u001b[1;33m)\u001b[0m\u001b[1;33m\u001b[0m\u001b[1;33m\u001b[0m\u001b[0m\n\u001b[0m",
      "\u001b[1;31mNameError\u001b[0m: name 'a' is not defined"
     ]
    }
   ],
   "source": [
    "#it can delete list\n",
    "a=[\"apple\",\"banana\",\"cherry\"]\n",
    "del a\n",
    "print(a)"
   ]
  },
  {
   "cell_type": "code",
   "execution_count": 21,
   "id": "9d913fa5",
   "metadata": {},
   "outputs": [
    {
     "name": "stdout",
     "output_type": "stream",
     "text": [
      "[]\n"
     ]
    }
   ],
   "source": [
    "#clear()\n",
    "a=[\"apple\",\"banana\",\"cherry\"]\n",
    "a.clear()\n",
    "print(a)"
   ]
  },
  {
   "cell_type": "code",
   "execution_count": 23,
   "id": "bbe9085b",
   "metadata": {},
   "outputs": [
    {
     "name": "stdout",
     "output_type": "stream",
     "text": [
      "[1, 2, 3, 4, 5, 6]\n"
     ]
    }
   ],
   "source": [
    "#concatination of list\n",
    "#using +\n",
    "list1=[1,2,3]\n",
    "list2=[4,5,6]\n",
    "list3=list1+list2\n",
    "print(list3)"
   ]
  },
  {
   "cell_type": "code",
   "execution_count": 22,
   "id": "26d5b199",
   "metadata": {},
   "outputs": [
    {
     "name": "stdout",
     "output_type": "stream",
     "text": [
      "['apple', 'banana', 'cherry', 1, 2, 3]\n"
     ]
    }
   ],
   "source": [
    "#concatination of list\n",
    "#using extend()\n",
    "a=[\"apple\",\"banana\",\"cherry\"]\n",
    "b=[1,2,3]\n",
    "a.extend(b)\n",
    "print(a)"
   ]
  },
  {
   "cell_type": "code",
   "execution_count": 26,
   "id": "70b9612d",
   "metadata": {},
   "outputs": [
    {
     "name": "stdout",
     "output_type": "stream",
     "text": [
      "[1, 2, 3]\n"
     ]
    }
   ],
   "source": [
    "#copying list = deep copy\n",
    "my_list1=[1,2,3]\n",
    "new_list=my_list1\n",
    "print(new_list)"
   ]
  },
  {
   "cell_type": "code",
   "execution_count": 27,
   "id": "891becf2",
   "metadata": {},
   "outputs": [
    {
     "name": "stdout",
     "output_type": "stream",
     "text": [
      "[1, 2, 3, 4]\n",
      "[1, 2, 3, 4]\n"
     ]
    }
   ],
   "source": [
    "my_list1.append(4)\n",
    "print(my_list1)\n",
    "print(new_list)"
   ]
  },
  {
   "cell_type": "code",
   "execution_count": 28,
   "id": "eaf430f6",
   "metadata": {},
   "outputs": [
    {
     "name": "stdout",
     "output_type": "stream",
     "text": [
      "['apple', 'banana', 'cherry']\n"
     ]
    }
   ],
   "source": [
    "#using copy method\n",
    "this_list=[\"apple\",\"banana\",\"cherry\"]\n",
    "new_list=this_list.copy()\n",
    "print(new_list)"
   ]
  },
  {
   "cell_type": "code",
   "execution_count": 6,
   "id": "3b46e46e",
   "metadata": {},
   "outputs": [
    {
     "name": "stdout",
     "output_type": "stream",
     "text": [
      "['apple', 'banana', 'cherry']\n",
      "['apple', 'banana', 'cherry', 'mango']\n",
      "['apple', 'banana', 'cherry']\n"
     ]
    }
   ],
   "source": [
    "thislist=[\"apple\",\"banana\",\"cherry\"]\n",
    "newlist=thislist.copy()\n",
    "print(newlist)\n",
    "thislist.append(\"mango\")\n",
    "print(thislist)\n",
    "print(newlist)"
   ]
  },
  {
   "cell_type": "code",
   "execution_count": 2,
   "id": "caf1042c",
   "metadata": {},
   "outputs": [
    {
     "name": "stdout",
     "output_type": "stream",
     "text": [
      "[1, 2, 3]\n"
     ]
    }
   ],
   "source": [
    "a=list((1,2,3))\n",
    "print(a)"
   ]
  },
  {
   "cell_type": "code",
   "execution_count": 7,
   "id": "b6865ce8",
   "metadata": {},
   "outputs": [
    {
     "name": "stdout",
     "output_type": "stream",
     "text": [
      "['apple', 'banana', 'cherry']\n"
     ]
    }
   ],
   "source": [
    "#copying list using list() method\n",
    "a=[\"apple\",\"banana\",\"cherry\"]\n",
    "b=list(a)\n",
    "print(b)"
   ]
  },
  {
   "cell_type": "code",
   "execution_count": 3,
   "id": "7f9d9aa9",
   "metadata": {},
   "outputs": [
    {
     "name": "stdout",
     "output_type": "stream",
     "text": [
      "['apple', 'banana', 'cherry', 'kiwi']\n",
      "['apple', 'banana', 'cherry']\n"
     ]
    }
   ],
   "source": [
    "a=[\"apple\",\"banana\",\"cherry\"]\n",
    "b=list(a)\n",
    "a.append(\"kiwi\")\n",
    "print(a)\n",
    "print(b)"
   ]
  },
  {
   "cell_type": "markdown",
   "id": "74366a2e",
   "metadata": {},
   "source": [
    "# Sort() and Reverse()"
   ]
  },
  {
   "cell_type": "code",
   "execution_count": 5,
   "id": "8078cd0f",
   "metadata": {},
   "outputs": [
    {
     "name": "stdout",
     "output_type": "stream",
     "text": [
      "[2, 3, 4, 5, 7, 8]\n"
     ]
    }
   ],
   "source": [
    "mylist=[3,5,7,2,4,8]\n",
    "mylist.sort()\n",
    "print(mylist)"
   ]
  },
  {
   "cell_type": "code",
   "execution_count": 6,
   "id": "e089c30d",
   "metadata": {},
   "outputs": [
    {
     "name": "stdout",
     "output_type": "stream",
     "text": [
      "['a', 'g', 'm', 'o', 'w']\n"
     ]
    }
   ],
   "source": [
    "list1=['g','w','o','a','m']\n",
    "list1.sort()\n",
    "print(list1)"
   ]
  },
  {
   "cell_type": "code",
   "execution_count": 7,
   "id": "75c2b547",
   "metadata": {},
   "outputs": [
    {
     "name": "stdout",
     "output_type": "stream",
     "text": [
      "[10, 8, 6, 4, 2]\n"
     ]
    }
   ],
   "source": [
    "mylist=[2,4,6,8,10]\n",
    "mylist.reverse()\n",
    "print(mylist)"
   ]
  },
  {
   "cell_type": "markdown",
   "id": "2ab083d8",
   "metadata": {},
   "source": [
    "# Function of list"
   ]
  },
  {
   "cell_type": "code",
   "execution_count": 8,
   "id": "5853a77b",
   "metadata": {},
   "outputs": [
    {
     "name": "stdout",
     "output_type": "stream",
     "text": [
      "6\n"
     ]
    }
   ],
   "source": [
    "#max()\n",
    "mylist=[3,4,5,6,1]\n",
    "print(max(mylist))"
   ]
  },
  {
   "cell_type": "code",
   "execution_count": 9,
   "id": "05771a04",
   "metadata": {},
   "outputs": [
    {
     "name": "stdout",
     "output_type": "stream",
     "text": [
      "1\n"
     ]
    }
   ],
   "source": [
    "#min()\n",
    "mylist=[3,4,5,6,1]\n",
    "print(min(mylist))"
   ]
  },
  {
   "cell_type": "code",
   "execution_count": 10,
   "id": "44b19c22",
   "metadata": {},
   "outputs": [
    {
     "name": "stdout",
     "output_type": "stream",
     "text": [
      "19\n"
     ]
    }
   ],
   "source": [
    "#sum\n",
    "mylist=[3,4,5,6,1]\n",
    "print(sum(mylist))"
   ]
  },
  {
   "cell_type": "code",
   "execution_count": 11,
   "id": "5b13150a",
   "metadata": {},
   "outputs": [
    {
     "name": "stdout",
     "output_type": "stream",
     "text": [
      "True\n"
     ]
    }
   ],
   "source": [
    "#all\n",
    "#all true values\n",
    "list1=[1,1,True]\n",
    "print(all(list1))"
   ]
  },
  {
   "cell_type": "code",
   "execution_count": 12,
   "id": "6ff63af4",
   "metadata": {},
   "outputs": [
    {
     "name": "stdout",
     "output_type": "stream",
     "text": [
      "False\n"
     ]
    }
   ],
   "source": [
    "#with 1 false\n",
    "list1=[1,False,True]\n",
    "print(all(list1))"
   ]
  },
  {
   "cell_type": "code",
   "execution_count": 13,
   "id": "96f8c49c",
   "metadata": {},
   "outputs": [
    {
     "name": "stdout",
     "output_type": "stream",
     "text": [
      "False\n"
     ]
    }
   ],
   "source": [
    "#with all false\n",
    "list1=[False,False,False]\n",
    "print(all(list1))"
   ]
  },
  {
   "cell_type": "code",
   "execution_count": 14,
   "id": "10f6024e",
   "metadata": {},
   "outputs": [
    {
     "name": "stdout",
     "output_type": "stream",
     "text": [
      "True\n"
     ]
    }
   ],
   "source": [
    "#with empty list\n",
    "list1=[]\n",
    "print(all(list1))\n"
   ]
  },
  {
   "cell_type": "code",
   "execution_count": 15,
   "id": "69fb1a93",
   "metadata": {},
   "outputs": [
    {
     "name": "stdout",
     "output_type": "stream",
     "text": [
      "True\n"
     ]
    }
   ],
   "source": [
    "#any\n",
    "#all true values\n",
    "list1=[1,1,True]\n",
    "print(any(list1))"
   ]
  },
  {
   "cell_type": "code",
   "execution_count": 16,
   "id": "fe9169e3",
   "metadata": {},
   "outputs": [
    {
     "name": "stdout",
     "output_type": "stream",
     "text": [
      "False\n"
     ]
    }
   ],
   "source": [
    "#with empty list\n",
    "list1=[]\n",
    "print(any(list1))\n"
   ]
  },
  {
   "cell_type": "code",
   "execution_count": 17,
   "id": "a68921f3",
   "metadata": {},
   "outputs": [
    {
     "name": "stdout",
     "output_type": "stream",
     "text": [
      "True\n"
     ]
    }
   ],
   "source": [
    "#with 1 false\n",
    "list1=[1,False,True]\n",
    "print(any(list1))"
   ]
  },
  {
   "cell_type": "markdown",
   "id": "fafa0cc5",
   "metadata": {},
   "source": [
    "# Stack and Queue"
   ]
  },
  {
   "cell_type": "code",
   "execution_count": 18,
   "id": "c0ff57ae",
   "metadata": {},
   "outputs": [
    {
     "name": "stdout",
     "output_type": "stream",
     "text": [
      "['Amar', 'Akbar', 'Anthony', 'ram', 'shaam']\n"
     ]
    }
   ],
   "source": [
    "stack=[\"Amar\",\"Akbar\",\"Anthony\"]\n",
    "stack.append(\"ram\")\n",
    "stack.append(\"shaam\")\n",
    "print(stack)"
   ]
  },
  {
   "cell_type": "code",
   "execution_count": 19,
   "id": "feed341e",
   "metadata": {},
   "outputs": [
    {
     "name": "stdout",
     "output_type": "stream",
     "text": [
      "shaam\n",
      "ram\n"
     ]
    }
   ],
   "source": [
    "#remove last item\n",
    "print(stack.pop())\n",
    "print(stack.pop())\n"
   ]
  },
  {
   "cell_type": "code",
   "execution_count": 20,
   "id": "06bbbccc",
   "metadata": {},
   "outputs": [
    {
     "name": "stdout",
     "output_type": "stream",
     "text": [
      "['Amar', 'Akbar', 'Anthony']\n"
     ]
    }
   ],
   "source": [
    "print(stack)"
   ]
  },
  {
   "cell_type": "code",
   "execution_count": 21,
   "id": "a019ea39",
   "metadata": {},
   "outputs": [
    {
     "name": "stdout",
     "output_type": "stream",
     "text": [
      "['banana', 'apple', 'mango', 'orange']\n",
      "orange\n",
      "['banana', 'apple', 'mango']\n",
      "mango\n",
      "['banana', 'apple']\n"
     ]
    }
   ],
   "source": [
    "fruits=[]\n",
    "#add fruits\n",
    "fruits.append('banana')\n",
    "fruits.append('apple')\n",
    "fruits.append('mango')\n",
    "fruits.append('orange')\n",
    "print(fruits)\n",
    "\n",
    "a=fruits.pop()\n",
    "print(a)\n",
    "print(fruits)\n",
    "\n",
    "a=fruits.pop()\n",
    "print(a)\n",
    "\n",
    "print(fruits)\n"
   ]
  },
  {
   "cell_type": "code",
   "execution_count": 22,
   "id": "e07a2aaa",
   "metadata": {},
   "outputs": [
    {
     "name": "stdout",
     "output_type": "stream",
     "text": [
      "['Amar', 'Akbar', 'Anthony', 'ram', 'shaam']\n",
      "Amar\n",
      "['Akbar', 'Anthony', 'ram', 'shaam']\n",
      "Akbar\n",
      "['Anthony', 'ram', 'shaam']\n"
     ]
    }
   ],
   "source": [
    "#Queue using list\n",
    "queue=[\"Amar\",\"Akbar\",\"Anthony\"]\n",
    "queue.append(\"ram\")\n",
    "queue.append(\"shaam\")\n",
    "print(queue)\n",
    "\n",
    "#remove last item\n",
    "print(queue.pop(0))\n",
    "print(queue)\n",
    "\n",
    "\n",
    "print(queue.pop(0))\n",
    "print(queue)"
   ]
  },
  {
   "cell_type": "code",
   "execution_count": 23,
   "id": "ee770896",
   "metadata": {},
   "outputs": [
    {
     "name": "stdout",
     "output_type": "stream",
     "text": [
      "['banana', 'apple', 'mango', 'orange']\n",
      "banana\n",
      "['apple', 'mango', 'orange']\n",
      "apple\n",
      "['mango', 'orange']\n"
     ]
    }
   ],
   "source": [
    "fruits=[]\n",
    "#add fruits\n",
    "fruits.append('banana')\n",
    "fruits.append('apple')\n",
    "fruits.append('mango')\n",
    "fruits.append('orange')\n",
    "print(fruits)\n",
    "\n",
    "a=fruits.pop(0)\n",
    "print(a)\n",
    "print(fruits)\n",
    "\n",
    "a=fruits.pop(0)\n",
    "print(a)\n",
    "\n",
    "print(fruits)\n"
   ]
  },
  {
   "cell_type": "code",
   "execution_count": 24,
   "id": "96c25f5b",
   "metadata": {},
   "outputs": [
    {
     "name": "stdout",
     "output_type": "stream",
     "text": [
      "[('krutika', 89), ('shital', 72), ('mansi', 60), ('anu', 55)]\n"
     ]
    }
   ],
   "source": [
    "#zip 2 list Use of zip\n",
    "name=[\"krutika\",\"shital\",\"mansi\",\"anu\"]\n",
    "marks=[89,72,60,55]\n",
    "\n",
    "mapped=zip(name,marks)\n",
    "\n",
    "mapped=list(mapped)\n",
    "print(mapped)"
   ]
  },
  {
   "cell_type": "code",
   "execution_count": 26,
   "id": "3cd6283f",
   "metadata": {},
   "outputs": [
    {
     "name": "stdout",
     "output_type": "stream",
     "text": [
      "[1, 2, 3]\n"
     ]
    }
   ],
   "source": [
    "#using list constructor\n",
    "l1=list((1,2,3))\n",
    "print(l1)"
   ]
  },
  {
   "cell_type": "code",
   "execution_count": 27,
   "id": "287d6178",
   "metadata": {},
   "outputs": [
    {
     "name": "stdout",
     "output_type": "stream",
     "text": [
      "[('krutika', 1, 89), ('shital', 2, 72), ('mansi', 3, 60), ('anu', 4, 55)]\n"
     ]
    }
   ],
   "source": [
    "#3 list\n",
    "name=[\"krutika\",\"shital\",\"mansi\",\"anu\"]\n",
    "marks=[89,72,60,55]\n",
    "rollno=[1,2,3,4]\n",
    "\n",
    "mapped=zip(name,rollno,marks)\n",
    "\n",
    "mapped=list(mapped)\n",
    "print(mapped)"
   ]
  },
  {
   "cell_type": "code",
   "execution_count": 29,
   "id": "8f28fb3a",
   "metadata": {},
   "outputs": [
    {
     "name": "stdout",
     "output_type": "stream",
     "text": [
      "('krutika', 'shital', 'mansi', 'anu')\n",
      "(1, 2, 3, 4)\n",
      "(89, 72, 60, 55)\n"
     ]
    }
   ],
   "source": [
    "#unzipping\n",
    "namez,rollnoz,marksz=zip(*mapped)\n",
    "print(namez)\n",
    "print(rollnoz)\n",
    "print(marksz)"
   ]
  }
 ],
 "metadata": {
  "kernelspec": {
   "display_name": "Python 3 (ipykernel)",
   "language": "python",
   "name": "python3"
  },
  "language_info": {
   "codemirror_mode": {
    "name": "ipython",
    "version": 3
   },
   "file_extension": ".py",
   "mimetype": "text/x-python",
   "name": "python",
   "nbconvert_exporter": "python",
   "pygments_lexer": "ipython3",
   "version": "3.9.7"
  }
 },
 "nbformat": 4,
 "nbformat_minor": 5
}
