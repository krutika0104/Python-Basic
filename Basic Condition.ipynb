{
 "cells": [
  {
   "cell_type": "markdown",
   "id": "cb986a16",
   "metadata": {},
   "source": [
    "1.check wether the number is divisible by 7"
   ]
  },
  {
   "cell_type": "code",
   "execution_count": 14,
   "id": "a93bdf26",
   "metadata": {},
   "outputs": [
    {
     "name": "stdout",
     "output_type": "stream",
     "text": [
      "enter the value num:8\n",
      "8 is not divisible by 7 \n"
     ]
    }
   ],
   "source": [
    "num=int(input(\"enter the value num:\"))\n",
    "if num%7==0:\n",
    "    print(num,\"is divisible by 7 \")\n",
    "else:\n",
    "    print(num,\"is not divisible by 7 \")\n",
    "    "
   ]
  },
  {
   "cell_type": "markdown",
   "id": "d5b57d2d",
   "metadata": {},
   "source": [
    "2.check wether the given number is odd or even"
   ]
  },
  {
   "cell_type": "code",
   "execution_count": 13,
   "id": "a8f40264",
   "metadata": {},
   "outputs": [
    {
     "name": "stdout",
     "output_type": "stream",
     "text": [
      "enter num:6\n",
      "6  is even\n"
     ]
    }
   ],
   "source": [
    "num=int(input(\"enter num:\"))\n",
    "if num%2==0: print(num,\" is even\")\n",
    "else: print(num,\"num is odd\")"
   ]
  },
  {
   "cell_type": "markdown",
   "id": "2ea2c11c",
   "metadata": {},
   "source": [
    "3.check wether the given number is positive negative or zero"
   ]
  },
  {
   "cell_type": "code",
   "execution_count": 11,
   "id": "0557723d",
   "metadata": {},
   "outputs": [
    {
     "name": "stdout",
     "output_type": "stream",
     "text": [
      "enter value for a : 4\n",
      "4  is positive\n"
     ]
    }
   ],
   "source": [
    "a=int(input(\"enter value for a : \"))\n",
    "if a<0: print(a, \"is negative\")\n",
    "elif a==0: print(a,\"is zero\")\n",
    "else: print(a,\" is positive\")"
   ]
  },
  {
   "cell_type": "code",
   "execution_count": null,
   "id": "24bb5bfd",
   "metadata": {},
   "outputs": [],
   "source": [
    "4.check wether 'a' is present in 'python'"
   ]
  },
  {
   "cell_type": "code",
   "execution_count": 10,
   "id": "46983403",
   "metadata": {},
   "outputs": [
    {
     "name": "stdout",
     "output_type": "stream",
     "text": [
      "a is not in the python\n"
     ]
    }
   ],
   "source": [
    "b='python'\n",
    "if 'a' in 'python': print(\"a is present in python\")\n",
    "else: print(\"a is not in the python\")"
   ]
  },
  {
   "cell_type": "markdown",
   "id": "272a7ab2",
   "metadata": {},
   "source": [
    "5.find the largest number among the number enter by user"
   ]
  },
  {
   "cell_type": "code",
   "execution_count": 15,
   "id": "4d887c37",
   "metadata": {},
   "outputs": [
    {
     "name": "stdout",
     "output_type": "stream",
     "text": [
      "enter value for a:6\n",
      "enter value for b:2\n",
      "enter value for c:4\n",
      "6  is greater\n"
     ]
    }
   ],
   "source": [
    "a=int(input(\"enter value for a:\"))\n",
    "b=int(input(\"enter value for b:\"))\n",
    "c=int(input(\"enter value for c:\"))\n",
    "if a>b and a>c: print(a,\" is greater\")\n",
    "elif b>a and b>c: print(b,\" is greater\")\n",
    "else: print(c,\"is greater\")"
   ]
  }
 ],
 "metadata": {
  "kernelspec": {
   "display_name": "Python 3 (ipykernel)",
   "language": "python",
   "name": "python3"
  },
  "language_info": {
   "codemirror_mode": {
    "name": "ipython",
    "version": 3
   },
   "file_extension": ".py",
   "mimetype": "text/x-python",
   "name": "python",
   "nbconvert_exporter": "python",
   "pygments_lexer": "ipython3",
   "version": "3.9.7"
  }
 },
 "nbformat": 4,
 "nbformat_minor": 5
}
