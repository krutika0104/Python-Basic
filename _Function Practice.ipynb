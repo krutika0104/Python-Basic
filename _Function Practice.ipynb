{
 "cells": [
  {
   "cell_type": "code",
   "execution_count": 5,
   "id": "ebba869e",
   "metadata": {},
   "outputs": [],
   "source": [
    "#Function with no parameter\n",
    "def message():\n",
    "    print(\"Welcome to Nettech\")"
   ]
  },
  {
   "cell_type": "code",
   "execution_count": 6,
   "id": "777ff1b8",
   "metadata": {},
   "outputs": [
    {
     "name": "stdout",
     "output_type": "stream",
     "text": [
      "Welcome to Nettech\n"
     ]
    }
   ],
   "source": [
    "message()"
   ]
  },
  {
   "cell_type": "code",
   "execution_count": 7,
   "id": "5ed8aa6f",
   "metadata": {},
   "outputs": [
    {
     "data": {
      "text/plain": [
       "15"
      ]
     },
     "execution_count": 7,
     "metadata": {},
     "output_type": "execute_result"
    }
   ],
   "source": [
    "#function with parameter\n",
    "def add(a,b):\n",
    "    return a+b\n",
    "add(7,8)"
   ]
  },
  {
   "cell_type": "code",
   "execution_count": 1,
   "id": "4308ccb8",
   "metadata": {},
   "outputs": [
    {
     "name": "stdout",
     "output_type": "stream",
     "text": [
      "Hello students Welcome to Nettech\n",
      "your course name is python\n"
     ]
    }
   ],
   "source": [
    "def coursef(name,course_name):\n",
    "    print(\"Hello\",name,\"Welcome to Nettech\")\n",
    "    print(\"your course name is\",course_name)\n",
    "coursef('students','python')"
   ]
  },
  {
   "cell_type": "code",
   "execution_count": 2,
   "id": "75752824",
   "metadata": {},
   "outputs": [
    {
     "ename": "SyntaxError",
     "evalue": "invalid syntax (Temp/ipykernel_8748/714206281.py, line 2)",
     "output_type": "error",
     "traceback": [
      "\u001b[1;36m  File \u001b[1;32m\"C:\\Users\\Krutika\\AppData\\Local\\Temp/ipykernel_8748/714206281.py\"\u001b[1;36m, line \u001b[1;32m2\u001b[0m\n\u001b[1;33m    print(fname +\" \"_lname)\u001b[0m\n\u001b[1;37m                    ^\u001b[0m\n\u001b[1;31mSyntaxError\u001b[0m\u001b[1;31m:\u001b[0m invalid syntax\n"
     ]
    }
   ],
   "source": [
    "def my_fun(fname,lname):\n",
    "    print(fname +\" \"_lname)\n",
    "my_fun(\"email\")"
   ]
  },
  {
   "cell_type": "code",
   "execution_count": 3,
   "id": "3d609117",
   "metadata": {},
   "outputs": [
    {
     "name": "stdout",
     "output_type": "stream",
     "text": [
      "The youngest child is c\n"
     ]
    }
   ],
   "source": [
    "#arbitary arguments\n",
    "def my_func(*kids):\n",
    "    print(\"The youngest child is \"+kids[2])\n",
    "my_func(\"a\",\"b\",\"c\")"
   ]
  },
  {
   "cell_type": "code",
   "execution_count": 4,
   "id": "cce60679",
   "metadata": {},
   "outputs": [
    {
     "name": "stdout",
     "output_type": "stream",
     "text": [
      "The youngest child is b\n"
     ]
    }
   ],
   "source": [
    "def my_func(c3,c2,c1):\n",
    "    print(\"The youngest child is \"+c2)\n",
    "my_func(c1=\"a\",c2=\"b\",c3=\"c\")"
   ]
  },
  {
   "cell_type": "code",
   "execution_count": 11,
   "id": "107ae0ec",
   "metadata": {},
   "outputs": [
    {
     "name": "stdout",
     "output_type": "stream",
     "text": [
      "her last name iskale\n"
     ]
    }
   ],
   "source": [
    "#arbitary keywords arguments,**kwargs\n",
    "def my_func(**girl):\n",
    "    print(\"her last name is\" + girl[\"lname\"])\n",
    "my_func(fname=\"krutika\",lname=\"kale\")"
   ]
  },
  {
   "cell_type": "code",
   "execution_count": 14,
   "id": "05a50e98",
   "metadata": {},
   "outputs": [
    {
     "name": "stdout",
     "output_type": "stream",
     "text": [
      "Iam fromIndia\n",
      "Iam fromSweden\n",
      "Iam fromSouth Korea\n",
      "Iam fromFrance\n"
     ]
    }
   ],
   "source": [
    "def my_func(country=\"South Korea\"):\n",
    "    print(\"Iam from\" + country)\n",
    "my_func(\"India\")\n",
    "my_func(\"Sweden\")\n",
    "my_func()\n",
    "my_func(\"France\")\n"
   ]
  },
  {
   "cell_type": "code",
   "execution_count": 16,
   "id": "92aad73b",
   "metadata": {},
   "outputs": [
    {
     "name": "stdout",
     "output_type": "stream",
     "text": [
      "apple\n",
      "cherry\n",
      "kiwi\n"
     ]
    }
   ],
   "source": [
    "def my(food):\n",
    "    for x in food:\n",
    "        print(x)\n",
    "fruits=[\"apple\",\"cherry\",\"kiwi\"]\n",
    "my(fruits)"
   ]
  },
  {
   "cell_type": "code",
   "execution_count": 18,
   "id": "5ddb7b6b",
   "metadata": {},
   "outputs": [
    {
     "name": "stdout",
     "output_type": "stream",
     "text": [
      "35\n"
     ]
    }
   ],
   "source": [
    "#return val\n",
    "def math(x):\n",
    "    return 7*x\n",
    "print(math(5))"
   ]
  },
  {
   "cell_type": "code",
   "execution_count": 20,
   "id": "d0290907",
   "metadata": {},
   "outputs": [
    {
     "name": "stdout",
     "output_type": "stream",
     "text": [
      "Addition : 144\n"
     ]
    }
   ],
   "source": [
    "#function\n",
    "def calc(a,b):\n",
    "    add=a+b\n",
    "    return add\n",
    "c=calc(88,56)\n",
    "print(\"Addition :\",c)"
   ]
  },
  {
   "cell_type": "code",
   "execution_count": 21,
   "id": "ec179141",
   "metadata": {},
   "outputs": [
    {
     "name": "stdout",
     "output_type": "stream",
     "text": [
      "30\n",
      "35\n"
     ]
    }
   ],
   "source": [
    "def sum(a,b):\n",
    "    return a+b\n",
    "total=sum(10,20)\n",
    "print(total)\n",
    "total=sum(5,sum(10,20))\n",
    "print(total)"
   ]
  },
  {
   "cell_type": "code",
   "execution_count": 25,
   "id": "54defe4e",
   "metadata": {},
   "outputs": [
    {
     "name": "stdout",
     "output_type": "stream",
     "text": [
      "15\n",
      "5\n",
      "2.0\n",
      "50\n"
     ]
    }
   ],
   "source": [
    "def arith(a,b):\n",
    "    add=a+b\n",
    "    sub=a-b\n",
    "    mul=a*b\n",
    "    div=a/b\n",
    "    return add,sub,div,mul\n",
    "a,b,c,d=arith(10,5)\n",
    "\n",
    "print(a)\n",
    "print(b)\n",
    "print(c)\n",
    "print(d)\n",
    "\n",
    "\n"
   ]
  },
  {
   "cell_type": "code",
   "execution_count": 28,
   "id": "8c022d43",
   "metadata": {},
   "outputs": [
    {
     "name": "stdout",
     "output_type": "stream",
     "text": [
      "Hello  Sanvee\n"
     ]
    }
   ],
   "source": [
    "def greet():\n",
    "    n1 = 'Sanvee'\n",
    "    print('Hello ', n1)\n",
    "greet()\n"
   ]
  },
  {
   "cell_type": "code",
   "execution_count": 29,
   "id": "b5960b6e",
   "metadata": {},
   "outputs": [
    {
     "ename": "NameError",
     "evalue": "name 'n1' is not defined",
     "output_type": "error",
     "traceback": [
      "\u001b[1;31m---------------------------------------------------------------------------\u001b[0m",
      "\u001b[1;31mNameError\u001b[0m                                 Traceback (most recent call last)",
      "\u001b[1;32m~\\AppData\\Local\\Temp/ipykernel_8748/3673098375.py\u001b[0m in \u001b[0;36m<module>\u001b[1;34m\u001b[0m\n\u001b[1;32m----> 1\u001b[1;33m \u001b[0mprint\u001b[0m\u001b[1;33m(\u001b[0m\u001b[0mn1\u001b[0m\u001b[1;33m)\u001b[0m\u001b[1;33m\u001b[0m\u001b[1;33m\u001b[0m\u001b[0m\n\u001b[0m",
      "\u001b[1;31mNameError\u001b[0m: name 'n1' is not defined"
     ]
    }
   ],
   "source": [
    "print(n1)"
   ]
  },
  {
   "cell_type": "code",
   "execution_count": 33,
   "id": "16fe0d27",
   "metadata": {},
   "outputs": [
    {
     "name": "stdout",
     "output_type": "stream",
     "text": [
      "Hello  Sanvee\n",
      "Sanvee\n"
     ]
    }
   ],
   "source": [
    "n1 = 'Sanvee'\n",
    "def greet():\n",
    "    print('Hello ', n1)\n",
    "greet()\n",
    "print (n1)"
   ]
  },
  {
   "cell_type": "code",
   "execution_count": 34,
   "id": "2e1c1f13",
   "metadata": {},
   "outputs": [
    {
     "name": "stdout",
     "output_type": "stream",
     "text": [
      "Hello Bill Gates\n"
     ]
    }
   ],
   "source": [
    "def greet():\n",
    "    global name\n",
    "    name = 'Bill Gates'\n",
    "    print('Hello', name)\n",
    "greet()"
   ]
  },
  {
   "cell_type": "code",
   "execution_count": 37,
   "id": "3a65e011",
   "metadata": {},
   "outputs": [
    {
     "name": "stdout",
     "output_type": "stream",
     "text": [
      "Hello  Steve\n"
     ]
    }
   ],
   "source": [
    "name = 'Steve'\n",
    "def greet():\n",
    "    global name\n",
    "    name = 'Bill'\n",
    "print('Hello ', name)\n"
   ]
  },
  {
   "cell_type": "code",
   "execution_count": 38,
   "id": "70f74f62",
   "metadata": {},
   "outputs": [
    {
     "name": "stdout",
     "output_type": "stream",
     "text": [
      "Steve\n"
     ]
    }
   ],
   "source": [
    "print(name)\n"
   ]
  },
  {
   "cell_type": "code",
   "execution_count": 39,
   "id": "00cac429",
   "metadata": {},
   "outputs": [],
   "source": [
    "greet() "
   ]
  },
  {
   "cell_type": "code",
   "execution_count": 44,
   "id": "5d999f4d",
   "metadata": {},
   "outputs": [
    {
     "name": "stdout",
     "output_type": "stream",
     "text": [
      "Value is : 888\n"
     ]
    },
    {
     "ename": "NameError",
     "evalue": "name 'loc_var' is not defined",
     "output_type": "error",
     "traceback": [
      "\u001b[1;31m---------------------------------------------------------------------------\u001b[0m",
      "\u001b[1;31mNameError\u001b[0m                                 Traceback (most recent call last)",
      "\u001b[1;32m~\\AppData\\Local\\Temp/ipykernel_8748/517808868.py\u001b[0m in \u001b[0;36m<module>\u001b[1;34m\u001b[0m\n\u001b[0;32m      5\u001b[0m     \u001b[0mprint\u001b[0m\u001b[1;33m(\u001b[0m\u001b[1;34m\"Value is :\"\u001b[0m\u001b[1;33m,\u001b[0m \u001b[0mloc_var\u001b[0m\u001b[1;33m)\u001b[0m\u001b[1;33m\u001b[0m\u001b[1;33m\u001b[0m\u001b[0m\n\u001b[0;32m      6\u001b[0m \u001b[0mfunction1\u001b[0m\u001b[1;33m(\u001b[0m\u001b[1;33m)\u001b[0m\u001b[1;33m\u001b[0m\u001b[1;33m\u001b[0m\u001b[0m\n\u001b[1;32m----> 7\u001b[1;33m \u001b[0mfunction2\u001b[0m\u001b[1;33m(\u001b[0m\u001b[1;33m)\u001b[0m\u001b[1;33m\u001b[0m\u001b[1;33m\u001b[0m\u001b[0m\n\u001b[0m",
      "\u001b[1;32m~\\AppData\\Local\\Temp/ipykernel_8748/517808868.py\u001b[0m in \u001b[0;36mfunction2\u001b[1;34m()\u001b[0m\n\u001b[0;32m      3\u001b[0m     \u001b[0mprint\u001b[0m\u001b[1;33m(\u001b[0m\u001b[1;34m\"Value is :\"\u001b[0m\u001b[1;33m,\u001b[0m \u001b[0mloc_var\u001b[0m\u001b[1;33m)\u001b[0m\u001b[1;33m\u001b[0m\u001b[1;33m\u001b[0m\u001b[0m\n\u001b[0;32m      4\u001b[0m \u001b[1;32mdef\u001b[0m \u001b[0mfunction2\u001b[0m\u001b[1;33m(\u001b[0m\u001b[1;33m)\u001b[0m\u001b[1;33m:\u001b[0m\u001b[1;33m\u001b[0m\u001b[1;33m\u001b[0m\u001b[0m\n\u001b[1;32m----> 5\u001b[1;33m     \u001b[0mprint\u001b[0m\u001b[1;33m(\u001b[0m\u001b[1;34m\"Value is :\"\u001b[0m\u001b[1;33m,\u001b[0m \u001b[0mloc_var\u001b[0m\u001b[1;33m)\u001b[0m\u001b[1;33m\u001b[0m\u001b[1;33m\u001b[0m\u001b[0m\n\u001b[0m\u001b[0;32m      6\u001b[0m \u001b[0mfunction1\u001b[0m\u001b[1;33m(\u001b[0m\u001b[1;33m)\u001b[0m\u001b[1;33m\u001b[0m\u001b[1;33m\u001b[0m\u001b[0m\n\u001b[0;32m      7\u001b[0m \u001b[0mfunction2\u001b[0m\u001b[1;33m(\u001b[0m\u001b[1;33m)\u001b[0m\u001b[1;33m\u001b[0m\u001b[1;33m\u001b[0m\u001b[0m\n",
      "\u001b[1;31mNameError\u001b[0m: name 'loc_var' is not defined"
     ]
    }
   ],
   "source": [
    "def function1():\n",
    "    loc_var = 888\n",
    "    print(\"Value is :\", loc_var)\n",
    "def function2():\n",
    "    print(\"Value is :\", loc_var)\n",
    "function1()\n",
    "function2()"
   ]
  },
  {
   "cell_type": "code",
   "execution_count": 1,
   "id": "3fdaed9e",
   "metadata": {},
   "outputs": [
    {
     "name": "stdout",
     "output_type": "stream",
     "text": [
      "Value in 1nd function : 999\n",
      "Value in 2nd function : 999\n"
     ]
    }
   ],
   "source": [
    "global_var = 999\n",
    "def function1():\n",
    "    print(\"Value in 1nd function :\", global_var)\n",
    "def function2():\n",
    "    print(\"Value in 2nd function :\", global_var)\n",
    "function1()\n",
    "function2()"
   ]
  },
  {
   "cell_type": "code",
   "execution_count": 2,
   "id": "ad03988b",
   "metadata": {},
   "outputs": [
    {
     "name": "stdout",
     "output_type": "stream",
     "text": [
      "Value in 1st function : 5\n",
      "Value in 2nd function : 555\n",
      "Value in 3rd function : 5\n"
     ]
    }
   ],
   "source": [
    "# Global variable\n",
    "global_var = 5\n",
    "def function1():\n",
    " print(\"Value in 1st function :\", global_var)\n",
    "def function2():\n",
    " # Modify global variable\n",
    " # function will treat it as a local variable\n",
    " global_var = 555\n",
    " print(\"Value in 2nd function :\", global_var)\n",
    "def function3():\n",
    " print(\"Value in 3rd function :\", global_var)\n",
    "function1()\n",
    "function2()\n",
    "function3()"
   ]
  },
  {
   "cell_type": "code",
   "execution_count": 3,
   "id": "19dd2c9c",
   "metadata": {},
   "outputs": [
    {
     "name": "stdout",
     "output_type": "stream",
     "text": [
      "Value in 1st function : 5\n",
      "Value in 2nd function : 555\n",
      "Value in 3rd function : 555\n"
     ]
    }
   ],
   "source": [
    "# Global variable\n",
    "x = 5\n",
    "# defining 1st function\n",
    "def function1():\n",
    " print(\"Value in 1st function :\", x)\n",
    "# defining 2nd function\n",
    "def function2():\n",
    " # Modify global variable using global keyword\n",
    " global x\n",
    " x = 555\n",
    " print(\"Value in 2nd function :\", x)\n",
    "# defining 3rd function\n",
    "def function3():\n",
    " print(\"Value in 3rd function :\", x)\n",
    "function1()\n",
    "function2()\n",
    "function3()\n"
   ]
  },
  {
   "cell_type": "code",
   "execution_count": 4,
   "id": "e0fb0f31",
   "metadata": {},
   "outputs": [
    {
     "name": "stdout",
     "output_type": "stream",
     "text": [
      "15\n"
     ]
    }
   ],
   "source": [
    "x = lambda a : a + 10\n",
    "print(x(5))"
   ]
  },
  {
   "cell_type": "code",
   "execution_count": 5,
   "id": "b8c1bca7",
   "metadata": {},
   "outputs": [
    {
     "name": "stdout",
     "output_type": "stream",
     "text": [
      "16\n"
     ]
    }
   ],
   "source": [
    "x=lambda a:a*4\n",
    "print(x(4))"
   ]
  },
  {
   "cell_type": "code",
   "execution_count": 7,
   "id": "24b741ca",
   "metadata": {},
   "outputs": [
    {
     "name": "stdout",
     "output_type": "stream",
     "text": [
      "48\n"
     ]
    }
   ],
   "source": [
    "y=lambda a,b:a*b\n",
    "print(y(8,6))"
   ]
  },
  {
   "cell_type": "code",
   "execution_count": 8,
   "id": "f06ac4bd",
   "metadata": {},
   "outputs": [
    {
     "name": "stdout",
     "output_type": "stream",
     "text": [
      "[2, 10, 8, 12, 16, 22, 6, 24]\n"
     ]
    }
   ],
   "source": [
    "my_list = [1, 5, 4, 6, 8, 11, 3, 12]\n",
    "new_list = list(map(lambda x: x * 2 , my_list))\n",
    "print(new_list)"
   ]
  },
  {
   "cell_type": "code",
   "execution_count": null,
   "id": "5a8212ff",
   "metadata": {},
   "outputs": [],
   "source": []
  }
 ],
 "metadata": {
  "kernelspec": {
   "display_name": "Python 3 (ipykernel)",
   "language": "python",
   "name": "python3"
  },
  "language_info": {
   "codemirror_mode": {
    "name": "ipython",
    "version": 3
   },
   "file_extension": ".py",
   "mimetype": "text/x-python",
   "name": "python",
   "nbconvert_exporter": "python",
   "pygments_lexer": "ipython3",
   "version": "3.9.7"
  }
 },
 "nbformat": 4,
 "nbformat_minor": 5
}
