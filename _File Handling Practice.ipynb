{
 "cells": [
  {
   "cell_type": "code",
   "execution_count": 10,
   "id": "262c5ee6",
   "metadata": {},
   "outputs": [],
   "source": [
    "f=open(\"coding.txt\",\"w\")"
   ]
  },
  {
   "cell_type": "code",
   "execution_count": 11,
   "id": "66f49d80",
   "metadata": {},
   "outputs": [
    {
     "data": {
      "text/plain": [
       "16"
      ]
     },
     "execution_count": 11,
     "metadata": {},
     "output_type": "execute_result"
    }
   ],
   "source": [
    "f.write(\"I love Python\")\n",
    "f.write(\"\\n Python is Easy\")"
   ]
  },
  {
   "cell_type": "code",
   "execution_count": 12,
   "id": "277f0160",
   "metadata": {},
   "outputs": [
    {
     "name": "stdout",
     "output_type": "stream",
     "text": [
      "I love PythonPython is EasyI love Python\n",
      " Python is Easy\n"
     ]
    }
   ],
   "source": [
    "f1=open(\"coding.txt\",\"r\")\n",
    "print(f1.read())"
   ]
  },
  {
   "cell_type": "code",
   "execution_count": 15,
   "id": "b124a5e8",
   "metadata": {},
   "outputs": [],
   "source": [
    "f2=open(\"coding1.txt\",\"w\")"
   ]
  },
  {
   "cell_type": "code",
   "execution_count": 16,
   "id": "571909e6",
   "metadata": {},
   "outputs": [
    {
     "data": {
      "text/plain": [
       "14"
      ]
     },
     "execution_count": 16,
     "metadata": {},
     "output_type": "execute_result"
    }
   ],
   "source": [
    "f2.write(\"Python is awesome\")\n",
    "f2.write(\"I love python \")"
   ]
  },
  {
   "cell_type": "code",
   "execution_count": null,
   "id": "b71241d8",
   "metadata": {},
   "outputs": [],
   "source": [
    "f3=open(\"P1.txt\",\"a\")\n",
    "f3.write(\"Python is my favouraite programming langauge\")"
   ]
  }
 ],
 "metadata": {
  "kernelspec": {
   "display_name": "Python 3 (ipykernel)",
   "language": "python",
   "name": "python3"
  },
  "language_info": {
   "codemirror_mode": {
    "name": "ipython",
    "version": 3
   },
   "file_extension": ".py",
   "mimetype": "text/x-python",
   "name": "python",
   "nbconvert_exporter": "python",
   "pygments_lexer": "ipython3",
   "version": "3.9.7"
  }
 },
 "nbformat": 4,
 "nbformat_minor": 5
}
