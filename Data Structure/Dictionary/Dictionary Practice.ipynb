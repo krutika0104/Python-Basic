{
 "cells": [
  {
   "cell_type": "code",
   "execution_count": 1,
   "id": "4f32ebd7",
   "metadata": {},
   "outputs": [
    {
     "name": "stdout",
     "output_type": "stream",
     "text": [
      "{'name': 'krutika', 'country': 'India', 'telephone': 1234}\n"
     ]
    }
   ],
   "source": [
    "#create dictionary {}\n",
    "p1={\"name\":\"krutika\",\"country\":\"India\",\"telephone\":1234}\n",
    "print(p1)"
   ]
  },
  {
   "cell_type": "code",
   "execution_count": 2,
   "id": "4e748fbd",
   "metadata": {},
   "outputs": [
    {
     "name": "stdout",
     "output_type": "stream",
     "text": [
      "{'name': 'krutika', 'country': 'India', 'telephone': 1234}\n"
     ]
    }
   ],
   "source": [
    "p1=dict({\"name\":\"krutika\",\"country\":\"India\",\"telephone\":1234})\n",
    "print(p1)"
   ]
  },
  {
   "cell_type": "code",
   "execution_count": 6,
   "id": "5c506655",
   "metadata": {},
   "outputs": [
    {
     "name": "stdout",
     "output_type": "stream",
     "text": [
      "[('name', 'krutika'), ('country', 'India'), ('telephone', 1234)]\n"
     ]
    }
   ],
   "source": [
    "p1=([(\"name\",\"krutika\"),(\"country\",\"India\"),(\"telephone\",1234)])\n",
    "print(p1)"
   ]
  },
  {
   "cell_type": "code",
   "execution_count": 7,
   "id": "235f88ce",
   "metadata": {},
   "outputs": [
    {
     "name": "stdout",
     "output_type": "stream",
     "text": [
      "{'name': 'krutika', 10: 'Mobile'}\n"
     ]
    }
   ],
   "source": [
    "#first key integer and second is an inte\n",
    "sd={\"name\":\"krutika\",10:\"Mobile\"}\n",
    "print(sd)\n"
   ]
  },
  {
   "cell_type": "code",
   "execution_count": 8,
   "id": "e8618ece",
   "metadata": {},
   "outputs": [
    {
     "name": "stdout",
     "output_type": "stream",
     "text": [
      "<class 'dict'>\n"
     ]
    }
   ],
   "source": [
    "emptydict={}\n",
    "print(type(emptydict))"
   ]
  },
  {
   "cell_type": "code",
   "execution_count": 9,
   "id": "e064f11a",
   "metadata": {},
   "outputs": [
    {
     "name": "stdout",
     "output_type": "stream",
     "text": [
      "{'name': 'krutika', 'country': 'India', 'telephone': 1122}\n"
     ]
    }
   ],
   "source": [
    "p1={\"name\":\"krutika\",\"country\":\"India\",\"telephone\":1234,\"telephone\":1122}\n",
    "print(p1)"
   ]
  },
  {
   "cell_type": "code",
   "execution_count": 10,
   "id": "5e14e915",
   "metadata": {},
   "outputs": [
    {
     "name": "stdout",
     "output_type": "stream",
     "text": [
      "{'name': 'krutika', 'country': 'India', 'telephone': [1234, 1122]}\n"
     ]
    }
   ],
   "source": [
    "p1={\"name\":\"krutika\",\"country\":\"India\",\"telephone\":[1234,1122]}\n",
    "print(p1)"
   ]
  },
  {
   "cell_type": "code",
   "execution_count": 12,
   "id": "d8793d35",
   "metadata": {},
   "outputs": [
    {
     "name": "stdout",
     "output_type": "stream",
     "text": [
      "krutika\n"
     ]
    }
   ],
   "source": [
    "#accesing element getting keys\n",
    "p1={\"name\":\"krutika\",\"country\":\"India\",\"telephone\":1234,\"telephone\":1122}\n",
    "print(p1['name'])"
   ]
  },
  {
   "cell_type": "code",
   "execution_count": 13,
   "id": "af9996b3",
   "metadata": {},
   "outputs": [
    {
     "name": "stdout",
     "output_type": "stream",
     "text": [
      "1122\n"
     ]
    }
   ],
   "source": [
    "p1={\"name\":\"krutika\",\"country\":\"India\",\"telephone\":1234,\"telephone\":1122}\n",
    "print(p1['telephone'])"
   ]
  },
  {
   "cell_type": "code",
   "execution_count": 15,
   "id": "cc0b718f",
   "metadata": {},
   "outputs": [
    {
     "name": "stdout",
     "output_type": "stream",
     "text": [
      "dict_keys(['name', 'country', 'telephone'])\n",
      "<class 'dict_keys'>\n",
      "dict_values(['krutika', 'India', 1122])\n",
      "<class 'dict_values'>\n",
      "dict_items([('name', 'krutika'), ('country', 'India'), ('telephone', 1122)])\n",
      "<class 'dict_items'>\n"
     ]
    }
   ],
   "source": [
    "#accesing element getting all value\n",
    "p1={\"name\":\"krutika\",\"country\":\"India\",\"telephone\":1234,\"telephone\":1122}\n",
    "#get all value\n",
    "print(p1.keys())\n",
    "print(type(p1.keys()))\n",
    "\n",
    "print(p1.values())\n",
    "print(type(p1.values()))\n",
    "\n",
    "print(p1.items())\n",
    "print(type(p1.items()))\n",
    "\n",
    "\n"
   ]
  },
  {
   "cell_type": "code",
   "execution_count": 16,
   "id": "de6512de",
   "metadata": {},
   "outputs": [
    {
     "name": "stdout",
     "output_type": "stream",
     "text": [
      "3\n"
     ]
    }
   ],
   "source": [
    "#print length\n",
    "print(len(p1))"
   ]
  },
  {
   "cell_type": "markdown",
   "id": "cbed3ae4",
   "metadata": {},
   "source": [
    "# adding item to dictionary"
   ]
  },
  {
   "cell_type": "code",
   "execution_count": 2,
   "id": "37b4f7ca",
   "metadata": {},
   "outputs": [
    {
     "name": "stdout",
     "output_type": "stream",
     "text": [
      "{'name': 'krutika', 'country': 'India', 'telephone': 1234, 'weight': 50, 'height': 5.4}\n",
      "{'name': 'krutika', 'country': 'India', 'telephone': 1234, 'weight': 50, 'height': 5.4, 'city': 'mumbai', 'comp': 'TCS'}\n"
     ]
    }
   ],
   "source": [
    "p1={\"name\":\"krutika\",\"country\":\"India\",\"telephone\":1234}\n",
    "\n",
    "#update\n",
    "p1.update({\"weight\":50,\"height\":5.4})\n",
    "print(p1)\n",
    "\n",
    "p1.update([(\"city\",\"mumbai\"),(\"comp\",\"TCS\")])\n",
    "print(p1)"
   ]
  },
  {
   "cell_type": "code",
   "execution_count": 3,
   "id": "c3069c5d",
   "metadata": {},
   "outputs": [
    {
     "name": "stdout",
     "output_type": "stream",
     "text": [
      "{'Sanvee': 70, 'Komal': 80, 'Shreya': 55, 'Pratham': 68, 'Suraj': 50, 'Siddhesh': 66}\n"
     ]
    }
   ],
   "source": [
    "dict1 = {'Sanvee': 70, 'Komal': 80, 'Shreya': 55}\n",
    "dict2 = {'Pratham': 68, 'Suraj': 50, 'Siddhesh': 66}\n",
    "dict1.update(dict2)\n",
    "print(dict1)"
   ]
  },
  {
   "cell_type": "code",
   "execution_count": 4,
   "id": "056895f7",
   "metadata": {},
   "outputs": [
    {
     "name": "stdout",
     "output_type": "stream",
     "text": [
      "{'Sanvee': 70, 'Komal': 80, 'Shreya': 75, 'Pratham': 68, 'Suraj': 50}\n"
     ]
    }
   ],
   "source": [
    "dict1 = {'Sanvee': 70, 'Komal': 80, 'Shreya': 75}\n",
    "dict2 = {'Pratham': 68, 'Suraj': 50, 'Shreya': 75}\n",
    "\n",
    "dict1.update(dict2)\n",
    "\n",
    "print(dict1)"
   ]
  },
  {
   "cell_type": "code",
   "execution_count": 5,
   "id": "2bf3c33c",
   "metadata": {},
   "outputs": [
    {
     "name": "stdout",
     "output_type": "stream",
     "text": [
      "{'Arnav': 1, 'Aashi': 2, 'Yash': 5, 'Rudra': 6, 'Vini': 7, 'Simi': 9}\n"
     ]
    }
   ],
   "source": [
    "student_dict1 = {'Arnav': 1, 'Aashi': 2, }\n",
    "student_dict2 = {'Yash': 5, 'Rudra': 6}\n",
    "student_dict3 = {'Vini': 7, 'Simi': 9}\n",
    "\n",
    "student_dict = {**student_dict1, **student_dict2, **student_dict3}\n",
    "print(student_dict)"
   ]
  },
  {
   "cell_type": "markdown",
   "id": "bd0ff3f1",
   "metadata": {},
   "source": [
    "modify value"
   ]
  },
  {
   "cell_type": "code",
   "execution_count": 6,
   "id": "5a19248b",
   "metadata": {},
   "outputs": [
    {
     "name": "stdout",
     "output_type": "stream",
     "text": [
      "{'name': 'Sanvee', 'country': 'India'}\n",
      "USA\n",
      "{'name': 'Sanvee', 'country': 'USA'}\n",
      "Canada\n",
      "{'name': 'Sanvee', 'country': 'Canada'}\n"
     ]
    }
   ],
   "source": [
    "person = {\"name\": \"Sanvee\", \"country\": \"India\"}\n",
    "print(person)\n",
    "# updating the country name\n",
    "person[\"country\"] = \"USA\"\n",
    "# print the updated country\n",
    "print(person['country'])\n",
    "print(person)\n",
    "# updating the country name using update() method\n",
    "person.update({\"country\": \"Canada\"})\n",
    "# print the updated country\n",
    "print(person['country'])\n",
    "print(person)\n"
   ]
  },
  {
   "cell_type": "markdown",
   "id": "d0de2316",
   "metadata": {},
   "source": [
    "removing item"
   ]
  },
  {
   "cell_type": "code",
   "execution_count": 15,
   "id": "2ec2f1f5",
   "metadata": {},
   "outputs": [
    {
     "name": "stdout",
     "output_type": "stream",
     "text": [
      "('height', 5.4)\n",
      "{'name': 'Sanvee', 'country': 'India', 'telephone': 1178, 'weight': 50}\n"
     ]
    }
   ],
   "source": [
    "person = {'name': 'Sanvee', 'country': 'India', 'telephone': 1178, 'weight': 50, 'height':5.4}\n",
    "deleted_item = person.popitem()\n",
    "print(deleted_item)\n",
    "print(person) "
   ]
  },
  {
   "cell_type": "code",
   "execution_count": 16,
   "id": "af9d24e1",
   "metadata": {},
   "outputs": [
    {
     "name": "stdout",
     "output_type": "stream",
     "text": [
      "1178\n",
      "{'name': 'Sanvee', 'country': 'India', 'weight': 50, 'height': 5.5}\n"
     ]
    }
   ],
   "source": [
    "person = {'name': 'Sanvee', 'country': 'India', 'telephone': 1178, 'weight': 50, 'height':5.5} \n",
    "deleted_item = person.pop('telephone')\n",
    "print(deleted_item) \n",
    "print(person)"
   ]
  },
  {
   "cell_type": "code",
   "execution_count": 17,
   "id": "b17e8d7f",
   "metadata": {},
   "outputs": [
    {
     "name": "stdout",
     "output_type": "stream",
     "text": [
      "{'name': 'Sanvee', 'country': 'India', 'height': 5.5}\n"
     ]
    }
   ],
   "source": [
    "del person['weight']\n",
    "print(person)\n"
   ]
  },
  {
   "cell_type": "code",
   "execution_count": 18,
   "id": "a4666afd",
   "metadata": {},
   "outputs": [
    {
     "name": "stdout",
     "output_type": "stream",
     "text": [
      "{}\n"
     ]
    }
   ],
   "source": [
    "person.clear()\n",
    "print(person)"
   ]
  },
  {
   "cell_type": "code",
   "execution_count": 19,
   "id": "2d4bb031",
   "metadata": {},
   "outputs": [
    {
     "ename": "NameError",
     "evalue": "name 'person' is not defined",
     "output_type": "error",
     "traceback": [
      "\u001b[1;31m---------------------------------------------------------------------------\u001b[0m",
      "\u001b[1;31mNameError\u001b[0m                                 Traceback (most recent call last)",
      "\u001b[1;32m~\\AppData\\Local\\Temp/ipykernel_16412/4292763083.py\u001b[0m in \u001b[0;36m<module>\u001b[1;34m\u001b[0m\n\u001b[0;32m      1\u001b[0m \u001b[1;32mdel\u001b[0m \u001b[0mperson\u001b[0m\u001b[1;33m\u001b[0m\u001b[1;33m\u001b[0m\u001b[0m\n\u001b[1;32m----> 2\u001b[1;33m \u001b[0mprint\u001b[0m\u001b[1;33m(\u001b[0m\u001b[0mperson\u001b[0m\u001b[1;33m)\u001b[0m\u001b[1;33m\u001b[0m\u001b[1;33m\u001b[0m\u001b[0m\n\u001b[0m",
      "\u001b[1;31mNameError\u001b[0m: name 'person' is not defined"
     ]
    }
   ],
   "source": [
    "del person\n",
    "print(person)"
   ]
  },
  {
   "cell_type": "code",
   "execution_count": 20,
   "id": "676494d8",
   "metadata": {},
   "outputs": [
    {
     "name": "stdout",
     "output_type": "stream",
     "text": [
      "{'Sanvee': 75, 'Siddhesh': 55}\n"
     ]
    }
   ],
   "source": [
    "dict1 = {'Sanvee': 75, 'Siddhesh': 55}\n",
    "\n",
    "dict2 = dict1.copy()\n",
    "print(dict2)"
   ]
  },
  {
   "cell_type": "code",
   "execution_count": 21,
   "id": "0fd60b47",
   "metadata": {},
   "outputs": [
    {
     "name": "stdout",
     "output_type": "stream",
     "text": [
      "{'Sanvee': 75, 'Siddhesh': 55}\n"
     ]
    }
   ],
   "source": [
    "dict1 = {'Sanvee': 75, 'Siddhesh': 55}\n",
    "# Copy dictionary using assignment = operator\n",
    "dict2 = dict1\n",
    "print(dict2)\n"
   ]
  },
  {
   "cell_type": "code",
   "execution_count": 22,
   "id": "0464ef10",
   "metadata": {},
   "outputs": [
    {
     "name": "stdout",
     "output_type": "stream",
     "text": [
      "{'Sanvee': 90, 'Siddhesh': 55}\n",
      "{'Sanvee': 90, 'Siddhesh': 55}\n"
     ]
    }
   ],
   "source": [
    "dict2.update({'Sanvee': 90})\n",
    "print(dict2)\n",
    "print(dict1)"
   ]
  },
  {
   "cell_type": "code",
   "execution_count": 23,
   "id": "9d30b226",
   "metadata": {},
   "outputs": [
    {
     "name": "stdout",
     "output_type": "stream",
     "text": [
      "[('a', 35), ('b', 95), ('c', 45)]\n",
      "['a', 'b', 'c']\n",
      "[35, 45, 95]\n"
     ]
    }
   ],
   "source": [
    "#sort\n",
    "dict1 = {'c': 45, 'b': 95, 'a': 35}\n",
    "# sorting dictionary by keys\n",
    "print(sorted(dict1.items()))\n",
    "# sort dict eys\n",
    "print(sorted(dict1))\n",
    "# sort dictionary values\n",
    "print(sorted(dict1.values()))\n"
   ]
  },
  {
   "cell_type": "code",
   "execution_count": 24,
   "id": "8afe261e",
   "metadata": {},
   "outputs": [
    {
     "name": "stdout",
     "output_type": "stream",
     "text": [
      "Maximum Key 3\n",
      "Minimum Key 1\n"
     ]
    }
   ],
   "source": [
    "dict = {1:'aaa',2:'bbb',3:'AAA'}\n",
    "print('Maximum Key',max(dict)) \n",
    "print('Minimum Key',min(dict)) "
   ]
  }
 ],
 "metadata": {
  "kernelspec": {
   "display_name": "Python 3 (ipykernel)",
   "language": "python",
   "name": "python3"
  },
  "language_info": {
   "codemirror_mode": {
    "name": "ipython",
    "version": 3
   },
   "file_extension": ".py",
   "mimetype": "text/x-python",
   "name": "python",
   "nbconvert_exporter": "python",
   "pygments_lexer": "ipython3",
   "version": "3.9.7"
  }
 },
 "nbformat": 4,
 "nbformat_minor": 5
}
