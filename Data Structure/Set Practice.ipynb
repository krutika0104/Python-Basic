{
 "cells": [
  {
   "cell_type": "code",
   "execution_count": 1,
   "id": "6541e73f",
   "metadata": {},
   "outputs": [
    {
     "name": "stdout",
     "output_type": "stream",
     "text": [
      "{1, 2, 3, 4, 5}\n"
     ]
    }
   ],
   "source": [
    "#create ser\n",
    "set={1,2,3,4,5}\n",
    "print(set)"
   ]
  },
  {
   "cell_type": "code",
   "execution_count": 3,
   "id": "1cd2dff7",
   "metadata": {},
   "outputs": [
    {
     "name": "stdout",
     "output_type": "stream",
     "text": [
      "{'krutika', 2, 'a'}\n"
     ]
    }
   ],
   "source": [
    "sample_set={'krutika',2,'a'}\n",
    "print(sample_set)"
   ]
  },
  {
   "cell_type": "code",
   "execution_count": 1,
   "id": "592880e9",
   "metadata": {},
   "outputs": [
    {
     "name": "stdout",
     "output_type": "stream",
     "text": [
      "{1, 2, 3}\n"
     ]
    }
   ],
   "source": [
    "#using set cons\n",
    "S1=set((1,2,3))\n",
    "print(S1)"
   ]
  },
  {
   "cell_type": "code",
   "execution_count": 2,
   "id": "386731f5",
   "metadata": {},
   "outputs": [
    {
     "data": {
      "text/plain": [
       "set"
      ]
     },
     "execution_count": 2,
     "metadata": {},
     "output_type": "execute_result"
    }
   ],
   "source": [
    "type(S1)"
   ]
  },
  {
   "cell_type": "code",
   "execution_count": 3,
   "id": "569ca698",
   "metadata": {},
   "outputs": [
    {
     "data": {
      "text/plain": [
       "3"
      ]
     },
     "execution_count": 3,
     "metadata": {},
     "output_type": "execute_result"
    }
   ],
   "source": [
    "len(S1)"
   ]
  },
  {
   "cell_type": "markdown",
   "id": "63f14111",
   "metadata": {},
   "source": [
    "# add item"
   ]
  },
  {
   "cell_type": "code",
   "execution_count": 4,
   "id": "ac9c6275",
   "metadata": {},
   "outputs": [
    {
     "name": "stdout",
     "output_type": "stream",
     "text": [
      "{'apple', 'cherry', 'peru', 'banana'}\n"
     ]
    }
   ],
   "source": [
    "#once it created we cant change but add new \n",
    "s1={\"apple\",\"banana\",\"cherry\"}\n",
    "s1.add(\"peru\")\n",
    "print(s1)"
   ]
  },
  {
   "cell_type": "code",
   "execution_count": 5,
   "id": "7c6dc29f",
   "metadata": {},
   "outputs": [
    {
     "name": "stdout",
     "output_type": "stream",
     "text": [
      "{'mango', 'apple', 'cherry', 'banana'}\n"
     ]
    }
   ],
   "source": [
    "s1={\"apple\",\"banana\",\"cherry\"}\n",
    "s1.update([\"mango\"])\n",
    "print(s1)"
   ]
  },
  {
   "cell_type": "code",
   "execution_count": 6,
   "id": "b222506b",
   "metadata": {},
   "outputs": [
    {
     "name": "stdout",
     "output_type": "stream",
     "text": [
      "{'chiku', 'cherry', 'banana', 'apple', 'kiwi', 'orange'}\n"
     ]
    }
   ],
   "source": [
    "a={\"apple\",\"banana\",\"cherry\"}\n",
    "b={\"chiku\",\"orange\",\"kiwi\"}\n",
    "a.update(b)\n",
    "print(a)"
   ]
  },
  {
   "cell_type": "markdown",
   "id": "311d227b",
   "metadata": {},
   "source": [
    "# remove item"
   ]
  },
  {
   "cell_type": "code",
   "execution_count": 10,
   "id": "ae36a7f5",
   "metadata": {},
   "outputs": [
    {
     "name": "stdout",
     "output_type": "stream",
     "text": [
      "{'red', 'grey', 'black', 'pink', 'white', 'orange', 'blue'}\n"
     ]
    }
   ],
   "source": [
    "#remove method\n",
    "color_set={'red','pink','blue','white','black','orange','grey','yellow'}\n",
    "color_set.remove('yellow')\n",
    "print(color_set)"
   ]
  },
  {
   "cell_type": "code",
   "execution_count": 11,
   "id": "7be6d247",
   "metadata": {},
   "outputs": [
    {
     "name": "stdout",
     "output_type": "stream",
     "text": [
      "{'red', 'grey', 'black', 'pink', 'white', 'orange', 'blue'}\n"
     ]
    }
   ],
   "source": [
    "#discard method\n",
    "color_set={'red','pink','blue','white','black','orange','grey','yellow'}\n",
    "color_set.discard('yellow')\n",
    "print(color_set)"
   ]
  },
  {
   "cell_type": "code",
   "execution_count": 12,
   "id": "67f77d7a",
   "metadata": {},
   "outputs": [
    {
     "name": "stdout",
     "output_type": "stream",
     "text": [
      "{'grey', 'black', 'pink', 'white', 'orange', 'blue'}\n"
     ]
    }
   ],
   "source": [
    "#pop method\n",
    "color_set.pop()\n",
    "print(color_set)"
   ]
  },
  {
   "cell_type": "code",
   "execution_count": 13,
   "id": "3c0fc590",
   "metadata": {},
   "outputs": [
    {
     "name": "stdout",
     "output_type": "stream",
     "text": [
      "set()\n"
     ]
    }
   ],
   "source": [
    "#remove all\n",
    "color_set.clear()\n",
    "print(color_set)"
   ]
  },
  {
   "cell_type": "code",
   "execution_count": 14,
   "id": "42ff082d",
   "metadata": {},
   "outputs": [
    {
     "name": "stdout",
     "output_type": "stream",
     "text": [
      "{'red', 'grey', 'black', 'pink', 'white', 'orange', 'blue', 'yellow'}\n"
     ]
    }
   ],
   "source": [
    "color_set={'red','pink','blue','white','black','orange','grey','yellow'}\n",
    "\n",
    "print(color_set)"
   ]
  },
  {
   "cell_type": "code",
   "execution_count": 16,
   "id": "89e30ffc",
   "metadata": {},
   "outputs": [
    {
     "ename": "SyntaxError",
     "evalue": "cannot delete function call (Temp/ipykernel_888/69864329.py, line 1)",
     "output_type": "error",
     "traceback": [
      "\u001b[1;36m  File \u001b[1;32m\"C:\\Users\\Krutika\\AppData\\Local\\Temp/ipykernel_888/69864329.py\"\u001b[1;36m, line \u001b[1;32m1\u001b[0m\n\u001b[1;33m    del color_set()\u001b[0m\n\u001b[1;37m        ^\u001b[0m\n\u001b[1;31mSyntaxError\u001b[0m\u001b[1;31m:\u001b[0m cannot delete function call\n"
     ]
    }
   ],
   "source": [
    "del color_set()\n",
    "print(color_set)"
   ]
  },
  {
   "cell_type": "markdown",
   "id": "49347684",
   "metadata": {},
   "source": [
    "# Set operation "
   ]
  },
  {
   "cell_type": "code",
   "execution_count": 17,
   "id": "ce1b4cf2",
   "metadata": {},
   "outputs": [
    {
     "name": "stdout",
     "output_type": "stream",
     "text": [
      "{'red', 'grey', 'black', 'pink', 'white', 'orange', 'blue', 'yellow'}\n"
     ]
    }
   ],
   "source": [
    "#union\n",
    "c1={'red', 'grey', 'black', 'pink', 'white', 'orange'}\n",
    "c2={'white', 'orange', 'blue', 'yellow'}\n",
    "c3=c1|c2\n",
    "print(c3)"
   ]
  },
  {
   "cell_type": "code",
   "execution_count": 18,
   "id": "d0793dbe",
   "metadata": {},
   "outputs": [
    {
     "name": "stdout",
     "output_type": "stream",
     "text": [
      "{'red', 'grey', 'black', 'pink', 'white', 'orange', 'blue', 'yellow'}\n"
     ]
    }
   ],
   "source": [
    "c3=c1.union(c2)\n",
    "print(c3)"
   ]
  },
  {
   "cell_type": "code",
   "execution_count": 19,
   "id": "4cab88eb",
   "metadata": {},
   "outputs": [
    {
     "name": "stdout",
     "output_type": "stream",
     "text": [
      "{'orange', 'white'}\n"
     ]
    }
   ],
   "source": [
    "#intersection\n",
    "c1={'red', 'grey', 'black', 'pink', 'white', 'orange'}\n",
    "c2={'white', 'orange', 'blue', 'yellow'}\n",
    "c3=c1&c2\n",
    "print(c3)"
   ]
  },
  {
   "cell_type": "code",
   "execution_count": 20,
   "id": "c49f51a3",
   "metadata": {},
   "outputs": [
    {
     "name": "stdout",
     "output_type": "stream",
     "text": [
      "{'orange', 'white'}\n"
     ]
    }
   ],
   "source": [
    "c3=c1.intersection(c2)\n",
    "print(c3)"
   ]
  },
  {
   "cell_type": "code",
   "execution_count": 24,
   "id": "4b52a569",
   "metadata": {},
   "outputs": [
    {
     "name": "stdout",
     "output_type": "stream",
     "text": [
      "{'black', 'red', 'grey', 'pink'}\n",
      "{'black', 'red', 'grey', 'pink'}\n"
     ]
    }
   ],
   "source": [
    "#diffrence\n",
    "c1={'red', 'grey', 'black', 'pink', 'white', 'orange'}\n",
    "c2={'white', 'orange', 'blue', 'yellow'}\n",
    "c3=c1-c2\n",
    "print(c3)\n",
    "\n",
    "\n",
    "c3=(c1.difference(c2))\n",
    "print(c3)"
   ]
  },
  {
   "cell_type": "code",
   "execution_count": 25,
   "id": "6a65c731",
   "metadata": {},
   "outputs": [
    {
     "name": "stdout",
     "output_type": "stream",
     "text": [
      "{'red', 'grey', 'black', 'pink', 'blue', 'yellow'}\n"
     ]
    }
   ],
   "source": [
    "#symmetric diffrence\n",
    "c1={'red', 'grey', 'black', 'pink', 'white', 'orange'}\n",
    "c2={'white', 'orange', 'blue', 'yellow'}\n",
    "c3=c1^c2\n",
    "print(c3)\n"
   ]
  },
  {
   "cell_type": "code",
   "execution_count": 27,
   "id": "e5e7614b",
   "metadata": {},
   "outputs": [
    {
     "name": "stdout",
     "output_type": "stream",
     "text": [
      "{'red', 'grey', 'black', 'pink', 'blue', 'yellow'}\n"
     ]
    }
   ],
   "source": [
    "c3=(c1. symmetric_difference(c2))\n",
    "print(c3)"
   ]
  },
  {
   "cell_type": "code",
   "execution_count": 29,
   "id": "c7e7d47f",
   "metadata": {},
   "outputs": [
    {
     "name": "stdout",
     "output_type": "stream",
     "text": [
      "False\n",
      "True\n"
     ]
    }
   ],
   "source": [
    "#subset\n",
    "c1={'red', 'grey', 'black', 'pink', 'white', 'orange'}\n",
    "c2={'white', 'orange'}\n",
    "print(c1.issubset(c2))\n",
    "print(c2.issubset(c1))"
   ]
  },
  {
   "cell_type": "code",
   "execution_count": 30,
   "id": "ecc07afd",
   "metadata": {},
   "outputs": [
    {
     "name": "stdout",
     "output_type": "stream",
     "text": [
      "False\n",
      "True\n"
     ]
    }
   ],
   "source": [
    "color_set1 = {'violet', 'blue', 'yellow', 'red'}\n",
    "color_set2 = {'orange', 'red'}\n",
    "color_set3 = {'green', 'orange'}\n",
    "\n",
    "print(color_set2.isdisjoint(color_set1))\n",
    "\n",
    "print(color_set3.isdisjoint(color_set1))\n"
   ]
  },
  {
   "cell_type": "code",
   "execution_count": 31,
   "id": "ea0e21a6",
   "metadata": {},
   "outputs": [
    {
     "name": "stdout",
     "output_type": "stream",
     "text": [
      "all() With all true values: True\n",
      "any() with all true Values: True\n"
     ]
    }
   ],
   "source": [
    "set1 = {1, 2, 3, 4}\n",
    "set2 = {0, 2, 4, 6, 8} # set with one false value '0'\n",
    "set3 = {True, True} # set with all true\n",
    "set4 = {True, False} # set with one false\n",
    "set5 = {False, 0} # set with both false values\n",
    "# checking all true value set\n",
    "print('all() With all true values:', all(set1)) \n",
    "print('any() with all true Values:', any(set1)) "
   ]
  },
  {
   "cell_type": "code",
   "execution_count": 32,
   "id": "a63d4f8e",
   "metadata": {},
   "outputs": [
    {
     "name": "stdout",
     "output_type": "stream",
     "text": [
      "15\n",
      "abc\n",
      "2\n",
      "ABC\n"
     ]
    }
   ],
   "source": [
    "set1 = {2, 4, 6, 10, 8, 15}\n",
    "set2 = {'ABC', 'abc'}\n",
    "\n",
    "print(max(set1))  \n",
    "print(max(set2))  \n",
    "print(min(set1))  \n",
    "print(min(set2))"
   ]
  }
 ],
 "metadata": {
  "kernelspec": {
   "display_name": "Python 3 (ipykernel)",
   "language": "python",
   "name": "python3"
  },
  "language_info": {
   "codemirror_mode": {
    "name": "ipython",
    "version": 3
   },
   "file_extension": ".py",
   "mimetype": "text/x-python",
   "name": "python",
   "nbconvert_exporter": "python",
   "pygments_lexer": "ipython3",
   "version": "3.9.7"
  }
 },
 "nbformat": 4,
 "nbformat_minor": 5
}
