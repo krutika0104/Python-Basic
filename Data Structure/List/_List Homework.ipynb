{
 "cells": [
  {
   "cell_type": "code",
   "execution_count": null,
   "id": "4ff7cada",
   "metadata": {},
   "outputs": [],
   "source": [
    " 1.Create list of your name,age, field ,location using [] and list constructor"
   ]
  },
  {
   "cell_type": "code",
   "execution_count": 2,
   "id": "82552272",
   "metadata": {},
   "outputs": [
    {
     "name": "stdout",
     "output_type": "stream",
     "text": [
      "['Krutika', 21, 'Bsc.IT', 'Kalyan']\n"
     ]
    }
   ],
   "source": [
    "a=list((\"Krutika\",21,\"Bsc.IT\",\"Kalyan\"))\n",
    "print(a)"
   ]
  },
  {
   "cell_type": "code",
   "execution_count": null,
   "id": "2250e27e",
   "metadata": {},
   "outputs": [],
   "source": [
    "2.print only your field using index method"
   ]
  },
  {
   "cell_type": "code",
   "execution_count": 9,
   "id": "de063005",
   "metadata": {},
   "outputs": [
    {
     "name": "stdout",
     "output_type": "stream",
     "text": [
      "Bsc.IT\n"
     ]
    }
   ],
   "source": [
    "a=list((\"Krutika\",21,\"Bsc.IT\",\"Kalyan\"))\n",
    "print(a[2])"
   ]
  },
  {
   "cell_type": "code",
   "execution_count": null,
   "id": "781ffefd",
   "metadata": {},
   "outputs": [],
   "source": [
    "3.print the position of location element"
   ]
  },
  {
   "cell_type": "code",
   "execution_count": 11,
   "id": "8fb46c37",
   "metadata": {
    "scrolled": true
   },
   "outputs": [
    {
     "data": {
      "text/plain": [
       "3"
      ]
     },
     "execution_count": 11,
     "metadata": {},
     "output_type": "execute_result"
    }
   ],
   "source": [
    "a=list((\"Krutika\",21,\"Bsc.IT\",\"Kalyan\"))\n",
    "a.index(\"Kalyan\")"
   ]
  },
  {
   "cell_type": "code",
   "execution_count": null,
   "id": "ee27ed4e",
   "metadata": {},
   "outputs": [],
   "source": [
    "4.print element btw age and locaton ,using forward and backward indexing"
   ]
  },
  {
   "cell_type": "code",
   "execution_count": 15,
   "id": "18e3ed86",
   "metadata": {},
   "outputs": [
    {
     "name": "stdout",
     "output_type": "stream",
     "text": [
      "['Bsc.IT']\n"
     ]
    }
   ],
   "source": [
    "a=list((\"Krutika\",21,\"Bsc.IT\",\"Kalyan\"))\n",
    "print(a[-2:-1:1])\n"
   ]
  },
  {
   "cell_type": "code",
   "execution_count": 1,
   "id": "7ffb1dfd",
   "metadata": {},
   "outputs": [
    {
     "name": "stdout",
     "output_type": "stream",
     "text": [
      "[21, 'Bsc.IT']\n"
     ]
    }
   ],
   "source": [
    "a=list((\"Krutika\",21,\"Bsc.IT\",\"Kalyan\"))\n",
    "print(a[1:3])"
   ]
  },
  {
   "cell_type": "code",
   "execution_count": null,
   "id": "a411c17e",
   "metadata": {},
   "outputs": [],
   "source": [
    "5.replace the element of name with surname"
   ]
  },
  {
   "cell_type": "code",
   "execution_count": 20,
   "id": "556f04d0",
   "metadata": {},
   "outputs": [
    {
     "name": "stdout",
     "output_type": "stream",
     "text": [
      "['Kale', 21, 'Bsc.IT', 'Kalyan']\n"
     ]
    }
   ],
   "source": [
    "a=[\"Krutika\",21,\"Bsc.IT\",\"Kalyan\"]\n",
    "a[0:1]=[\"Kale\"]\n",
    "print(a)"
   ]
  },
  {
   "cell_type": "code",
   "execution_count": null,
   "id": "361af68c",
   "metadata": {},
   "outputs": [],
   "source": [
    "6. replace the element of name ,age and field"
   ]
  },
  {
   "cell_type": "code",
   "execution_count": 18,
   "id": "96ab81cc",
   "metadata": {},
   "outputs": [
    {
     "name": "stdout",
     "output_type": "stream",
     "text": [
      "['pink', 'dancing', 'kale', 'Kalyan']\n"
     ]
    }
   ],
   "source": [
    "a=[\"Krutika\",21,\"Bsc.IT\",\"Kalyan\"]\n",
    "a[0:3]=[\"pink\",\"dancing\",\"kale\"]\n",
    "print(a)"
   ]
  },
  {
   "cell_type": "code",
   "execution_count": null,
   "id": "eb1c0e96",
   "metadata": {},
   "outputs": [],
   "source": [
    "7 replace the element of name,age with only surname "
   ]
  },
  {
   "cell_type": "code",
   "execution_count": 17,
   "id": "025a9440",
   "metadata": {},
   "outputs": [
    {
     "name": "stdout",
     "output_type": "stream",
     "text": [
      "['kale', 'Bsc.IT', 'Kalyan']\n"
     ]
    }
   ],
   "source": [
    "a=[\"Krutika\",21,\"Bsc.IT\",\"Kalyan\"]\n",
    "a[0:2]=[\"kale\"]\n",
    "print(a)"
   ]
  },
  {
   "cell_type": "code",
   "execution_count": null,
   "id": "2618f577",
   "metadata": {},
   "outputs": [],
   "source": [
    "8 replace the element of name with your nickname and surname' "
   ]
  },
  {
   "cell_type": "code",
   "execution_count": 14,
   "id": "975a7792",
   "metadata": {},
   "outputs": [
    {
     "name": "stdout",
     "output_type": "stream",
     "text": [
      "[['mani', 'kale'], 21, 'Bsc.IT', 'Kalyan']\n"
     ]
    }
   ],
   "source": [
    "a=[\"Krutika\",21,\"Bsc.IT\",\"Kalyan\"]\n",
    "a[0]=[\"mani\",\"kale\"]\n",
    "print(a)"
   ]
  },
  {
   "cell_type": "code",
   "execution_count": null,
   "id": "82a425e3",
   "metadata": {},
   "outputs": [],
   "source": [
    "10 add your only one hobby at the end of the list"
   ]
  },
  {
   "cell_type": "code",
   "execution_count": 13,
   "id": "bd21e5c2",
   "metadata": {},
   "outputs": [
    {
     "name": "stdout",
     "output_type": "stream",
     "text": [
      "['Krutika', 21, 'Bsc.IT', 'Kalyan', 'dancing']\n"
     ]
    }
   ],
   "source": [
    "a=[\"Krutika\",21,\"Bsc.IT\",\"Kalyan\"]\n",
    "a.append(\"dancing\")\n",
    "print(a)"
   ]
  },
  {
   "cell_type": "code",
   "execution_count": null,
   "id": "dfc58303",
   "metadata": {},
   "outputs": [],
   "source": [
    "11 add your n-numbers of hobbies at the end of list"
   ]
  },
  {
   "cell_type": "code",
   "execution_count": 10,
   "id": "12ec19ac",
   "metadata": {},
   "outputs": [
    {
     "name": "stdout",
     "output_type": "stream",
     "text": [
      "['Krutika', 21, 'Bsc.IT', 'Kalyan', 'dancing', 'reading book', 'singing', 'playing game']\n"
     ]
    }
   ],
   "source": [
    "a=[\"Krutika\",21,\"Bsc.IT\",\"Kalyan\"]\n",
    "a.extend([\"dancing\",\"reading book\",\"singing\",\"playing game\"])\n",
    "print(a)"
   ]
  },
  {
   "cell_type": "code",
   "execution_count": null,
   "id": "7d46a374",
   "metadata": {},
   "outputs": [],
   "source": [
    "12 remove your location from list"
   ]
  },
  {
   "cell_type": "code",
   "execution_count": 7,
   "id": "7d19f2f5",
   "metadata": {},
   "outputs": [
    {
     "name": "stdout",
     "output_type": "stream",
     "text": [
      "['Krutika', 21, 'Bsc.IT']\n"
     ]
    }
   ],
   "source": [
    "a=[\"Krutika\",21,\"Bsc.IT\",\"Kalyan\"]\n",
    "a.pop()\n",
    "print(a)"
   ]
  },
  {
   "cell_type": "code",
   "execution_count": null,
   "id": "3845c56e",
   "metadata": {},
   "outputs": [],
   "source": [
    "13 remove your age from list[using 2 methods]"
   ]
  },
  {
   "cell_type": "code",
   "execution_count": 5,
   "id": "0440b211",
   "metadata": {},
   "outputs": [
    {
     "name": "stdout",
     "output_type": "stream",
     "text": [
      "['Krutika', 'Bsc.IT', 'Kalyan']\n"
     ]
    }
   ],
   "source": [
    "a=[\"Krutika\",21,\"Bsc.IT\",\"Kalyan\"]\n",
    "#using pop\n",
    "a.pop(1)\n",
    "print(a)"
   ]
  },
  {
   "cell_type": "code",
   "execution_count": 6,
   "id": "fcaf02db",
   "metadata": {},
   "outputs": [
    {
     "name": "stdout",
     "output_type": "stream",
     "text": [
      "['Krutika', 'Bsc.IT', 'Kalyan']\n"
     ]
    }
   ],
   "source": [
    "a=[\"Krutika\",21,\"Bsc.IT\",\"Kalyan\"]\n",
    "#using remove()\n",
    "a.remove(21)\n",
    "print(a)"
   ]
  },
  {
   "cell_type": "code",
   "execution_count": null,
   "id": "33907420",
   "metadata": {},
   "outputs": [],
   "source": [
    "14 remove last element from the list"
   ]
  },
  {
   "cell_type": "code",
   "execution_count": 4,
   "id": "612c5e9d",
   "metadata": {},
   "outputs": [
    {
     "name": "stdout",
     "output_type": "stream",
     "text": [
      "['red', 'pink', 'blue']\n"
     ]
    }
   ],
   "source": [
    "colour=[\"red\",\"pink\",\"blue\",\"white\"]\n",
    "colour.pop()\n",
    "print(colour)"
   ]
  },
  {
   "cell_type": "code",
   "execution_count": null,
   "id": "09a68d42",
   "metadata": {},
   "outputs": [],
   "source": [
    "15 remove all element from the list(empty)"
   ]
  },
  {
   "cell_type": "code",
   "execution_count": 2,
   "id": "d6f69d3e",
   "metadata": {},
   "outputs": [
    {
     "name": "stdout",
     "output_type": "stream",
     "text": [
      "[]\n"
     ]
    }
   ],
   "source": [
    "fruit= [\"apple\", \"banana\", \"cherry\"]\n",
    "fruit.clear()\n",
    "print(fruit)\n"
   ]
  },
  {
   "cell_type": "code",
   "execution_count": null,
   "id": "61877079",
   "metadata": {},
   "outputs": [],
   "source": [
    "16 delete the list"
   ]
  },
  {
   "cell_type": "code",
   "execution_count": 3,
   "id": "97033452",
   "metadata": {},
   "outputs": [
    {
     "ename": "NameError",
     "evalue": "name 'math' is not defined",
     "output_type": "error",
     "traceback": [
      "\u001b[1;31m---------------------------------------------------------------------------\u001b[0m",
      "\u001b[1;31mNameError\u001b[0m                                 Traceback (most recent call last)",
      "\u001b[1;32m~\\AppData\\Local\\Temp/ipykernel_13316/2668500869.py\u001b[0m in \u001b[0;36m<module>\u001b[1;34m\u001b[0m\n\u001b[0;32m      2\u001b[0m \u001b[0mmath\u001b[0m\u001b[1;33m=\u001b[0m\u001b[1;33m[\u001b[0m\u001b[1;34m\"add\"\u001b[0m\u001b[1;33m,\u001b[0m\u001b[1;34m\"sub\"\u001b[0m\u001b[1;33m,\u001b[0m\u001b[1;34m\"mul\"\u001b[0m\u001b[1;33m,\u001b[0m\u001b[1;34m\"div\"\u001b[0m\u001b[1;33m]\u001b[0m\u001b[1;33m\u001b[0m\u001b[1;33m\u001b[0m\u001b[0m\n\u001b[0;32m      3\u001b[0m \u001b[1;32mdel\u001b[0m \u001b[0mmath\u001b[0m\u001b[1;33m\u001b[0m\u001b[1;33m\u001b[0m\u001b[0m\n\u001b[1;32m----> 4\u001b[1;33m \u001b[0mprint\u001b[0m\u001b[1;33m(\u001b[0m\u001b[0mmath\u001b[0m\u001b[1;33m)\u001b[0m\u001b[1;33m\u001b[0m\u001b[1;33m\u001b[0m\u001b[0m\n\u001b[0m",
      "\u001b[1;31mNameError\u001b[0m: name 'math' is not defined"
     ]
    }
   ],
   "source": [
    "#using del \n",
    "math=[\"add\",\"sub\",\"mul\",\"div\"]\n",
    "del math\n",
    "print(math)"
   ]
  },
  {
   "cell_type": "code",
   "execution_count": null,
   "id": "94d37b60",
   "metadata": {},
   "outputs": [],
   "source": [
    "17 create a list of prime numbers till 20 and find the length of it"
   ]
  },
  {
   "cell_type": "code",
   "execution_count": 16,
   "id": "eeebbedb",
   "metadata": {},
   "outputs": [
    {
     "data": {
      "text/plain": [
       "8"
      ]
     },
     "execution_count": 16,
     "metadata": {},
     "output_type": "execute_result"
    }
   ],
   "source": [
    "new_list=[2,3,5,7,11,13,17,19]\n",
    "len(new_list)\n"
   ]
  },
  {
   "cell_type": "code",
   "execution_count": null,
   "id": "10472c02",
   "metadata": {},
   "outputs": [],
   "source": [
    "18 create a list of 5,2,18,7,12 and print in ascending and descending order"
   ]
  },
  {
   "cell_type": "code",
   "execution_count": 1,
   "id": "064c1d6b",
   "metadata": {},
   "outputs": [
    {
     "name": "stdout",
     "output_type": "stream",
     "text": [
      "[2, 5, 7, 12, 18]\n",
      "[18, 12, 7, 5, 2]\n"
     ]
    }
   ],
   "source": [
    "#ascending\n",
    "my_list=[5,2,18,7,12]\n",
    "my_list.sort()\n",
    "print(my_list)\n",
    "my_list.sort(reverse=True)\n",
    "print(my_list)"
   ]
  },
  {
   "cell_type": "code",
   "execution_count": null,
   "id": "e3c944bf",
   "metadata": {},
   "outputs": [],
   "source": [
    "19 merge two list"
   ]
  },
  {
   "cell_type": "code",
   "execution_count": 2,
   "id": "029e4a32",
   "metadata": {},
   "outputs": [
    {
     "name": "stdout",
     "output_type": "stream",
     "text": [
      "[1, 2, 3, 4, 5, 6, 7, 8]\n"
     ]
    }
   ],
   "source": [
    "#Using + operator\n",
    "a=[1,2,3,4]\n",
    "b=[5,6,7,8]\n",
    "c=a+b\n",
    "print(c)\n"
   ]
  },
  {
   "cell_type": "code",
   "execution_count": 3,
   "id": "44bc20c5",
   "metadata": {},
   "outputs": [
    {
     "name": "stdout",
     "output_type": "stream",
     "text": [
      "['Kalyan', 'Thane', 'Pune', 'Mumbai', 'Dadar']\n"
     ]
    }
   ],
   "source": [
    "#Using extend\n",
    "a=[\"Kalyan\",\"Thane\",\"Pune\"]\n",
    "b=[\"Mumbai\",\"Dadar\"]\n",
    "a.extend(b)\n",
    "print(a)"
   ]
  },
  {
   "cell_type": "code",
   "execution_count": null,
   "id": "4e9a7c98",
   "metadata": {},
   "outputs": [],
   "source": [
    "20 make a deep copy of list and check whether it is copying deeply or not"
   ]
  },
  {
   "cell_type": "code",
   "execution_count": 11,
   "id": "49d25a27",
   "metadata": {},
   "outputs": [
    {
     "name": "stdout",
     "output_type": "stream",
     "text": [
      "['apple', 'mango', 'banana']\n",
      "['apple', 'mango', 'banana', 'cherry']\n",
      "['apple', 'mango', 'banana', 'cherry']\n"
     ]
    }
   ],
   "source": [
    "p = [\"apple\",\"mango\",\"banana\"]\n",
    "# Using = operator\n",
    "q = p\n",
    "# printing the new list\n",
    "print(q)\n",
    "\n",
    "# making changes in the original list\n",
    "p.append(\"cherry\")\n",
    "print(p)\n",
    "print(q)"
   ]
  }
 ],
 "metadata": {
  "kernelspec": {
   "display_name": "Python 3 (ipykernel)",
   "language": "python",
   "name": "python3"
  },
  "language_info": {
   "codemirror_mode": {
    "name": "ipython",
    "version": 3
   },
   "file_extension": ".py",
   "mimetype": "text/x-python",
   "name": "python",
   "nbconvert_exporter": "python",
   "pygments_lexer": "ipython3",
   "version": "3.9.7"
  }
 },
 "nbformat": 4,
 "nbformat_minor": 5
}
