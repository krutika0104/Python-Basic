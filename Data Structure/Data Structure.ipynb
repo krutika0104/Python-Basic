{
 "cells": [
  {
   "cell_type": "code",
   "execution_count": null,
   "id": "731e356b",
   "metadata": {},
   "outputs": [],
   "source": [
    "1. Make new list from two existing list which contain duplicate values,  \n",
    "output should be unique."
   ]
  },
  {
   "cell_type": "code",
   "execution_count": 11,
   "id": "0394da1e",
   "metadata": {},
   "outputs": [
    {
     "name": "stdout",
     "output_type": "stream",
     "text": [
      "[1, 2, 3, 4, 5, 6]\n"
     ]
    }
   ],
   "source": [
    "a=[1,2,2,3]\n",
    "b=[4,5,6,6]\n",
    "a=set((1,2,2,3))\n",
    "b=set((4,5,6,6))\n",
    "c=a|b\n",
    "c=list((a|b))\n",
    "print(c)"
   ]
  },
  {
   "cell_type": "code",
   "execution_count": null,
   "id": "8dfee26e",
   "metadata": {},
   "outputs": [],
   "source": [
    "2. Find unique tuple from existing tuple which contains lot of duplicate values."
   ]
  },
  {
   "cell_type": "code",
   "execution_count": 9,
   "id": "56d50140",
   "metadata": {},
   "outputs": [
    {
     "name": "stdout",
     "output_type": "stream",
     "text": [
      "(1, 2, 3, 4)\n"
     ]
    }
   ],
   "source": [
    "a=(1,1,1,4)\n",
    "b=(2,3,4,4)\n",
    "a=set((1,1,1,4))\n",
    "b=set((2,3,4,4))\n",
    "c=a|b\n",
    "c=tuple((a|b))\n",
    "print(c)"
   ]
  },
  {
   "cell_type": "code",
   "execution_count": null,
   "id": "08f152ac",
   "metadata": {},
   "outputs": [],
   "source": [
    "3.  A = [1,2,3,4,5]\n",
    "    B = [1,6,7,8]\n",
    "    C = [8,9,10]\n",
    "\n",
    " Expected output : [1,2,3,4,5,6,7,8,9,10] & [1,8]"
   ]
  },
  {
   "cell_type": "code",
   "execution_count": 17,
   "id": "6f131662",
   "metadata": {},
   "outputs": [
    {
     "name": "stdout",
     "output_type": "stream",
     "text": [
      "[1, 2, 3, 4, 5, 6, 7, 8, 9, 10]\n",
      "[1, 8]\n"
     ]
    }
   ],
   "source": [
    "A = [1,2,3,4,5]\n",
    "B = [1,6,7,8]\n",
    "C = [8,9,10]\n",
    "A=set((1,2,3,4,5))\n",
    "B=set((1,6,7,8))\n",
    "C=set((8,9,10))\n",
    "D1=A|B|C\n",
    "D1=list((A|B|C))\n",
    "D1=list((D1))\n",
    "D2=A&B\n",
    "D3=B&C\n",
    "D2=list((D2))\n",
    "D3=list((D3))\n",
    "print(D1)\n",
    "print(D2+D3) "
   ]
  }
 ],
 "metadata": {
  "kernelspec": {
   "display_name": "Python 3 (ipykernel)",
   "language": "python",
   "name": "python3"
  },
  "language_info": {
   "codemirror_mode": {
    "name": "ipython",
    "version": 3
   },
   "file_extension": ".py",
   "mimetype": "text/x-python",
   "name": "python",
   "nbconvert_exporter": "python",
   "pygments_lexer": "ipython3",
   "version": "3.9.7"
  }
 },
 "nbformat": 4,
 "nbformat_minor": 5
}
