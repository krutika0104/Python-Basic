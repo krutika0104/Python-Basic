{
 "cells": [
  {
   "cell_type": "code",
   "execution_count": null,
   "id": "6b599c30",
   "metadata": {},
   "outputs": [],
   "source": [
    "22 Take any example to  explain stack and queue \n",
    "23 zip four list contain with natural number your name,age, rollno\n",
    "24 unzip the above list"
   ]
  },
  {
   "cell_type": "code",
   "execution_count": 3,
   "id": "a4f785fc",
   "metadata": {},
   "outputs": [
    {
     "name": "stdout",
     "output_type": "stream",
     "text": [
      "['pink', 'red', 'blue', 'white', 'purple', 'black']\n",
      "black\n",
      "purple\n",
      "['pink', 'red', 'blue', 'white']\n"
     ]
    }
   ],
   "source": [
    "#stack\n",
    "colour=[\"pink\",\"red\",\"blue\",\"white\"]\n",
    "colour.append(\"purple\")\n",
    "colour.append(\"black\")\n",
    "print(colour)\n",
    "\n",
    "#remove element\n",
    "print(colour.pop())\n",
    "print(colour.pop())\n",
    "\n",
    "print(colour)"
   ]
  },
  {
   "cell_type": "code",
   "execution_count": 4,
   "id": "6d282ac3",
   "metadata": {},
   "outputs": [
    {
     "name": "stdout",
     "output_type": "stream",
     "text": [
      "['pink', 'red', 'blue', 'white', 'purple', 'black']\n",
      "pink\n",
      "red\n",
      "['blue', 'white', 'purple', 'black']\n"
     ]
    }
   ],
   "source": [
    "#queue\n",
    "colour=[\"pink\",\"red\",\"blue\",\"white\"]\n",
    "colour.append(\"purple\")\n",
    "colour.append(\"black\")\n",
    "print(colour)\n",
    "\n",
    "#remove element\n",
    "print(colour.pop(0))\n",
    "print(colour.pop(0))\n",
    "\n",
    "\n",
    "print(colour)"
   ]
  },
  {
   "cell_type": "code",
   "execution_count": null,
   "id": "4f5e0369",
   "metadata": {},
   "outputs": [],
   "source": [
    "23 zip four list contain with natural number your name,age, rollno"
   ]
  },
  {
   "cell_type": "code",
   "execution_count": 5,
   "id": "d8f0415d",
   "metadata": {},
   "outputs": [
    {
     "name": "stdout",
     "output_type": "stream",
     "text": [
      "[(1, 'krutika', 20, 44), (2, 'mansi', 21, 45), (3, 'sayali', 22, 48), (4, 'divya', 23, 61)]\n"
     ]
    }
   ],
   "source": [
    "natural_no=[1,2,3,4]\n",
    "name=[\"krutika\",\"mansi\",\"sayali\",\"divya\"]\n",
    "age=[20,21,22,23]\n",
    "roll_no=[44,45,48,61]\n",
    "\n",
    "mapped = zip(natural_no, name, age, roll_no)\n",
    "mapped = list(mapped)\n",
    "print(mapped)"
   ]
  },
  {
   "cell_type": "code",
   "execution_count": null,
   "id": "c265ca69",
   "metadata": {},
   "outputs": [],
   "source": [
    "24 unzip the above list"
   ]
  },
  {
   "cell_type": "code",
   "execution_count": 7,
   "id": "3700789a",
   "metadata": {},
   "outputs": [
    {
     "name": "stdout",
     "output_type": "stream",
     "text": [
      "(1, 2, 3, 4)\n",
      "('krutika', 'mansi', 'sayali', 'divya')\n",
      "(20, 21, 22, 23)\n",
      "(44, 45, 48, 61)\n"
     ]
    }
   ],
   "source": [
    "natural_noz, namez, agez, roll_noz = zip(*mapped)\n",
    "print(natural_noz)\n",
    "print(namez)\n",
    "print(agez)\n",
    "print(roll_noz)\n",
    " "
   ]
  },
  {
   "cell_type": "code",
   "execution_count": null,
   "id": "2a290dc2",
   "metadata": {},
   "outputs": [],
   "source": []
  }
 ],
 "metadata": {
  "kernelspec": {
   "display_name": "Python 3 (ipykernel)",
   "language": "python",
   "name": "python3"
  },
  "language_info": {
   "codemirror_mode": {
    "name": "ipython",
    "version": 3
   },
   "file_extension": ".py",
   "mimetype": "text/x-python",
   "name": "python",
   "nbconvert_exporter": "python",
   "pygments_lexer": "ipython3",
   "version": "3.9.7"
  }
 },
 "nbformat": 4,
 "nbformat_minor": 5
}
