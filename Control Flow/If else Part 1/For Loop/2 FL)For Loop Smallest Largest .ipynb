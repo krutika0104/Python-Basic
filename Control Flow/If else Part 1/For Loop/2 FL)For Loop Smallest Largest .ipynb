{
 "cells": [
  {
   "cell_type": "markdown",
   "id": "6325bb9e",
   "metadata": {},
   "source": [
    "Q8. Write a program to accept 10 numbers from the user and display largest & smallest number."
   ]
  },
  {
   "cell_type": "code",
   "execution_count": 1,
   "id": "f37b0b78",
   "metadata": {},
   "outputs": [
    {
     "name": "stdout",
     "output_type": "stream",
     "text": [
      "Enter Number1\n",
      "Enter Number3\n",
      "Enter Number5\n",
      "Enter Number0\n",
      "Enter Number99\n",
      "Enter Number45\n",
      "Enter Number34\n",
      "Enter Number30\n",
      "Enter Number999\n",
      "Enter Number08\n",
      "Max number in list 999\n",
      "Min number in list 0\n"
     ]
    }
   ],
   "source": [
    "a=[]\n",
    "for i in range(10):\n",
    "    num=int(input(\"Enter Number\"))\n",
    "    a.append(num)\n",
    "print(\"Max number in list\",max(a))\n",
    "print(\"Min number in list\",min(a))\n",
    " "
   ]
  },
  {
   "cell_type": "code",
   "execution_count": null,
   "id": "b69adb24",
   "metadata": {},
   "outputs": [],
   "source": []
  }
 ],
 "metadata": {
  "kernelspec": {
   "display_name": "Python 3 (ipykernel)",
   "language": "python",
   "name": "python3"
  },
  "language_info": {
   "codemirror_mode": {
    "name": "ipython",
    "version": 3
   },
   "file_extension": ".py",
   "mimetype": "text/x-python",
   "name": "python",
   "nbconvert_exporter": "python",
   "pygments_lexer": "ipython3",
   "version": "3.9.7"
  }
 },
 "nbformat": 4,
 "nbformat_minor": 5
}
