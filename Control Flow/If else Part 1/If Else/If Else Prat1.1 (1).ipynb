{
 "cells": [
  {
   "cell_type": "markdown",
   "id": "d75e15da",
   "metadata": {},
   "source": [
    "8.check wether the letter is vowel or not"
   ]
  },
  {
   "cell_type": "code",
   "execution_count": 1,
   "id": "e946ae97",
   "metadata": {},
   "outputs": [
    {
     "name": "stdout",
     "output_type": "stream",
     "text": [
      "enter a:q\n",
      "q is not vowel\n"
     ]
    }
   ],
   "source": [
    "vowel=['a','e','i','o','u','A','E','I','O','U']\n",
    "a=(input(\"enter a:\"))\n",
    "if a in vowel: print(a,\"is vowel\")\n",
    "else: print(a,\"is not vowel\")"
   ]
  },
  {
   "cell_type": "markdown",
   "id": "6acf4adc",
   "metadata": {},
   "source": [
    "9.write a program to accept the number from 1 to 7 display the name like sunday, monday."
   ]
  },
  {
   "cell_type": "code",
   "execution_count": 9,
   "id": "09445c0b",
   "metadata": {},
   "outputs": [
    {
     "name": "stdout",
     "output_type": "stream",
     "text": [
      "enter number from 1 to 78\n",
      "8 is invalid number\n"
     ]
    }
   ],
   "source": [
    "a=int(input(\"enter number from 1 to 7\"))\n",
    "if a==1: print(\"Sunday\")\n",
    "elif a==2: print(\"Monday\")\n",
    "elif a==3: print(\"Tuesday\")\n",
    "elif a==4: print(\"Wednesday\")\n",
    "elif a==5: print(\"Thursday\")\n",
    "elif a==6: print(\"Friday\")\n",
    "elif a==7: print(\"Saturday\")\n",
    "else: print(a,\"is invalid number\")"
   ]
  },
  {
   "cell_type": "markdown",
   "id": "c3d4c176",
   "metadata": {},
   "source": [
    "13.check wether the figure is square or not by giving its length and breadth"
   ]
  },
  {
   "cell_type": "code",
   "execution_count": 8,
   "id": "412080a4",
   "metadata": {},
   "outputs": [
    {
     "name": "stdout",
     "output_type": "stream",
     "text": [
      "enter length:4\n",
      "enter breadth:6\n",
      "It is not square\n"
     ]
    }
   ],
   "source": [
    "length=int(input(\"enter length:\"))\n",
    "breadth=int(input(\"enter breadth:\"))\n",
    "if length==breadth: print(\"It is square\")\n",
    "else:print(\"It is not square\")"
   ]
  },
  {
   "cell_type": "markdown",
   "id": "52a068f9",
   "metadata": {},
   "source": [
    "6.check wether the year is leap year or not"
   ]
  },
  {
   "cell_type": "code",
   "execution_count": 12,
   "id": "72b43112",
   "metadata": {},
   "outputs": [
    {
     "name": "stdout",
     "output_type": "stream",
     "text": [
      "enter year:1990\n",
      "The year is not leap year\n"
     ]
    }
   ],
   "source": [
    "year=int(input(\"enter year:\"))\n",
    "if year%4==0 and year%100!=0: print(\"The year is leap year\")\n",
    "elif year%400==0 and year%100==0: print(\"The year is leap year\")\n",
    "else: print(\"The year is not leap year\")"
   ]
  }
 ],
 "metadata": {
  "kernelspec": {
   "display_name": "Python 3 (ipykernel)",
   "language": "python",
   "name": "python3"
  },
  "language_info": {
   "codemirror_mode": {
    "name": "ipython",
    "version": 3
   },
   "file_extension": ".py",
   "mimetype": "text/x-python",
   "name": "python",
   "nbconvert_exporter": "python",
   "pygments_lexer": "ipython3",
   "version": "3.9.7"
  }
 },
 "nbformat": 4,
 "nbformat_minor": 5
}
