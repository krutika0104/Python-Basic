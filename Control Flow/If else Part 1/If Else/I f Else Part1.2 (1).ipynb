{
 "cells": [
  {
   "cell_type": "markdown",
   "id": "085b445d",
   "metadata": {},
   "source": [
    "7.Accept the following user and calculate the class attendence.\n",
    "a .total number of working days\n",
    "b .total number of days present \n",
    "after calculating percentage show that , if percentage is less tha 75 then student is not eligible for sit in the exam"
   ]
  },
  {
   "cell_type": "code",
   "execution_count": 7,
   "id": "c9de143f",
   "metadata": {},
   "outputs": [
    {
     "name": "stdout",
     "output_type": "stream",
     "text": [
      "Enter total number of woring days:240\n",
      "Enter total number of days present:200\n",
      "83.33333333333334\n",
      "Student is eligible\n"
     ]
    }
   ],
   "source": [
    "a=int(input(\"Enter total number of woring days:\"))\n",
    "b=int(input(\"Enter total number of days present:\"))\n",
    "c=(b/a) * 100\n",
    "print(c)\n",
    "if c<75: print(\"Student is not Eligible\")\n",
    "else:print(\"Student is Eligible\")"
   ]
  },
  {
   "cell_type": "markdown",
   "id": "364e2ef2",
   "metadata": {},
   "source": [
    "11.check wether the user is eligible for voting or not"
   ]
  },
  {
   "cell_type": "code",
   "execution_count": 8,
   "id": "62e4ba6f",
   "metadata": {},
   "outputs": [
    {
     "name": "stdout",
     "output_type": "stream",
     "text": [
      "Enter age:22\n",
      "The person is Eligible for voting\n"
     ]
    }
   ],
   "source": [
    "age=int(input(\"Enter age:\"))\n",
    "if age<21: print(\"The person is not Eligible for voting\")\n",
    "else: print(\"The person is Eligible for voting\")"
   ]
  },
  {
   "cell_type": "markdown",
   "id": "080d843f",
   "metadata": {},
   "source": [
    "10.Accept any city from user and print the monument"
   ]
  },
  {
   "cell_type": "code",
   "execution_count": 36,
   "id": "3f53697d",
   "metadata": {},
   "outputs": [
    {
     "name": "stdout",
     "output_type": "stream",
     "text": [
      "Enter city from Delhi,Agra and Jaipur:Agra\n",
      "Taj mahal is monument in Agra\n"
     ]
    }
   ],
   "source": [
    "city=str(input(\"Enter city from Delhi,Agra and Jaipur:\"))\n",
    "if  city == 'Delhi' : print(\"Red fort is monument in Delhi\")\n",
    "elif city == 'Agra' :   print(\"Taj mahal is monument in Agra\")\n",
    "elif city == 'Jaipur': print(\"Jal mahal is monument in Jaipur\")\n",
    "else: print(\"Invalid Syntax\")"
   ]
  }
 ],
 "metadata": {
  "kernelspec": {
   "display_name": "Python 3 (ipykernel)",
   "language": "python",
   "name": "python3"
  },
  "language_info": {
   "codemirror_mode": {
    "name": "ipython",
    "version": 3
   },
   "file_extension": ".py",
   "mimetype": "text/x-python",
   "name": "python",
   "nbconvert_exporter": "python",
   "pygments_lexer": "ipython3",
   "version": "3.9.7"
  }
 },
 "nbformat": 4,
 "nbformat_minor": 5
}
