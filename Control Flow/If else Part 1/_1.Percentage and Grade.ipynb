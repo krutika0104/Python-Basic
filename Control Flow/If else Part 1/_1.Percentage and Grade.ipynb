{
 "cells": [
  {
   "cell_type": "markdown",
   "id": "5ed091b1",
   "metadata": {},
   "source": [
    "1. Accept the percentage from the user and display the  grade according to the following criteria:\n",
    "\n",
    "    Below 25 —- D\n",
    "    25 to 45 —- C\n",
    "    45 to 50 —- B\n",
    "    50 to 60 –– B+\n",
    "    60 to 80 —- A\n",
    "    Above 80 –- A+"
   ]
  },
  {
   "cell_type": "code",
   "execution_count": 11,
   "id": "e9c84415",
   "metadata": {},
   "outputs": [
    {
     "name": "stdout",
     "output_type": "stream",
     "text": [
      "marks in Physics:77\n",
      "marks in Maths:90\n",
      "marks in Biology:35\n",
      "marks in English:78\n",
      "marks in Chemistry:99\n",
      "Maximum marks:500\n",
      "75.8\n",
      "Student is Fail\n"
     ]
    }
   ],
   "source": [
    "t1=int(input(\"marks in Physics:\"))\n",
    "t2=int(input(\"marks in Maths:\"))\n",
    "t3=int(input(\"marks in Biology:\"))\n",
    "t4=int(input(\"marks in English:\"))\n",
    "t5=int(input(\"marks in Chemistry:\"))\n",
    "T=(t1+t2+t3+t4+t5)\n",
    "m=int(input(\"Maximum marks:\"))\n",
    "percent=(T/m)*100\n",
    "print(percent) \n",
    "if t1>35 and t2>35 and t3>35 and t4>35 and t5>35:\n",
    "    if percent<25: print(\"Student get D grade\")\n",
    "    elif percent>=25 and percent<=45: print(\"Student get C grade\")\n",
    "    elif percent>=45 and percent<=50: print(\"Student get B grade\")\n",
    "    elif percent>=50 and percent<=60: print(\"Student get B+ grade\")\n",
    "    elif percent>=60 and percent<=80: print(\"Student get A grade\")\n",
    "    else: print(\"Student get A+ grade\")\n",
    "else: print(\"Student is Fail\")"
   ]
  }
 ],
 "metadata": {
  "kernelspec": {
   "display_name": "Python 3 (ipykernel)",
   "language": "python",
   "name": "python3"
  },
  "language_info": {
   "codemirror_mode": {
    "name": "ipython",
    "version": 3
   },
   "file_extension": ".py",
   "mimetype": "text/x-python",
   "name": "python",
   "nbconvert_exporter": "python",
   "pygments_lexer": "ipython3",
   "version": "3.9.7"
  }
 },
 "nbformat": 4,
 "nbformat_minor": 5
}
