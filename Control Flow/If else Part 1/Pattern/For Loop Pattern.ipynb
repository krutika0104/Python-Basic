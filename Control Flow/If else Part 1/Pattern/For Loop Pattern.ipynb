{
 "cells": [
  {
   "cell_type": "markdown",
   "id": "8fc119ad",
   "metadata": {},
   "source": [
    "a)\n",
    "1\n",
    "\n",
    "1 2\n",
    "\n",
    "1 2 3\n",
    "\n",
    "1 2 3 4\n",
    "\n",
    "1 2 3 4 5\n"
   ]
  },
  {
   "cell_type": "code",
   "execution_count": 5,
   "id": "db70921b",
   "metadata": {
    "scrolled": true
   },
   "outputs": [
    {
     "name": "stdout",
     "output_type": "stream",
     "text": [
      "1 \n",
      "1 2 \n",
      "1 2 3 \n",
      "1 2 3 4 \n",
      "1 2 3 4 5 \n"
     ]
    }
   ],
   "source": [
    "for i in range(1,6):\n",
    "    for j in range(1,i+1):\n",
    "        print(j,end=\" \")\n",
    "    print()"
   ]
  },
  {
   "cell_type": "markdown",
   "id": "eb5e218c",
   "metadata": {},
   "source": [
    "b)\n",
    "\n",
    "5 4 3 2 1\n",
    "\n",
    "5 4 3 2\n",
    "\n",
    "5 4 3\n",
    "\n",
    "5 4\n",
    "\n",
    "5\n"
   ]
  },
  {
   "cell_type": "code",
   "execution_count": 12,
   "id": "6c04486e",
   "metadata": {},
   "outputs": [
    {
     "name": "stdout",
     "output_type": "stream",
     "text": [
      "5 4 3 2 1 \n",
      "5 4 3 2 \n",
      "5 4 3 \n",
      "5 4 \n",
      "5 \n"
     ]
    }
   ],
   "source": [
    "for i in range(5,0,-1):\n",
    "    for j in range(5,5-i,-1):\n",
    "        print(j,end=\" \")\n",
    "    print()"
   ]
  },
  {
   "cell_type": "markdown",
   "id": "f079d40a",
   "metadata": {},
   "source": [
    "c)\n",
    "\n",
    "5 5 5 5 5\n",
    "\n",
    "4 4 4 4\n",
    "\n",
    "3 3 3\n",
    "\n",
    "2 2\n",
    "\n",
    "1"
   ]
  },
  {
   "cell_type": "code",
   "execution_count": 19,
   "id": "e96d90bd",
   "metadata": {},
   "outputs": [
    {
     "name": "stdout",
     "output_type": "stream",
     "text": [
      "5 5 5 5 5 \n",
      "4 4 4 4 \n",
      "3 3 3 \n",
      "2 2 \n",
      "1 \n"
     ]
    }
   ],
   "source": [
    "for i in range(5,0,-1):\n",
    "    for j in range(0,i):\n",
    "        print(i,end=\" \")\n",
    "    print()"
   ]
  },
  {
   "cell_type": "markdown",
   "id": "082eb162",
   "metadata": {},
   "source": [
    "d)\n",
    "\n",
    "1 2 3 4 5\n",
    "\n",
    "1 2 3 4\n",
    "\n",
    "1 2 3\n",
    "\n",
    "1 2\n",
    "\n",
    "1"
   ]
  },
  {
   "cell_type": "code",
   "execution_count": 21,
   "id": "74bc3bf4",
   "metadata": {},
   "outputs": [
    {
     "name": "stdout",
     "output_type": "stream",
     "text": [
      "1 2 3 4 5 \n",
      "1 2 3 4 \n",
      "1 2 3 \n",
      "1 2 \n",
      "1 \n"
     ]
    }
   ],
   "source": [
    "for i in range(6,1,-1):\n",
    "    for j in range(1,i):\n",
    "        print(j,end=\" \")\n",
    "    print()"
   ]
  },
  {
   "cell_type": "markdown",
   "id": "131fd51a",
   "metadata": {},
   "source": [
    "e)\n",
    "\n",
    "1\n",
    "\n",
    "2 2\n",
    "\n",
    "3 3 3\n",
    "\n",
    "4 4 4 4\n",
    "\n",
    "5 5 5 5 5"
   ]
  },
  {
   "cell_type": "code",
   "execution_count": 23,
   "id": "310a18ee",
   "metadata": {},
   "outputs": [
    {
     "name": "stdout",
     "output_type": "stream",
     "text": [
      "1 \n",
      "2 2 \n",
      "3 3 3 \n",
      "4 4 4 4 \n",
      "5 5 5 5 5 \n"
     ]
    }
   ],
   "source": [
    "for i in range(1,6,1):\n",
    "    for j in range(0,i):\n",
    "        print(i,end=\" \")\n",
    "    print()"
   ]
  },
  {
   "cell_type": "markdown",
   "id": "e0353dba",
   "metadata": {},
   "source": [
    "# f)\n",
    "\n",
    "5\n",
    "4 4\n",
    "3 3 3\n",
    "2 2 2 2\n",
    "1 1 1 1 1\n"
   ]
  },
  {
   "cell_type": "code",
   "execution_count": 4,
   "id": "f34acfeb",
   "metadata": {},
   "outputs": [
    {
     "name": "stdout",
     "output_type": "stream",
     "text": [
      "5 \n",
      "4 4 \n",
      "3 3 3 \n",
      "2 2 2 2 \n",
      "1 1 1 1 1 \n"
     ]
    }
   ],
   "source": [
    "for i in range(5,0,-1):\n",
    "    for j in range(i,6):\n",
    "        print(i,end=\" \")\n",
    "    print()"
   ]
  },
  {
   "cell_type": "markdown",
   "id": "b1a9476f",
   "metadata": {},
   "source": [
    "# g)\n",
    "\n",
    "5\n",
    "5 4\n",
    "5 4 3\n",
    "5 4 3 2\n",
    "5 4 3 2 1\n"
   ]
  },
  {
   "cell_type": "code",
   "execution_count": 12,
   "id": "dc18df61",
   "metadata": {},
   "outputs": [
    {
     "name": "stdout",
     "output_type": "stream",
     "text": [
      "\n",
      "5 \n",
      "5 4 \n",
      "5 4 3 \n",
      "5 4 3 2 \n",
      "5 4 3 2 1 \n"
     ]
    }
   ],
   "source": [
    "for i in range(5,-1,-1):\n",
    "    for j in range(5,i,-1):\n",
    "        print(j,end=\" \")\n",
    "    print()"
   ]
  },
  {
   "cell_type": "code",
   "execution_count": null,
   "id": "d0c9fbcf",
   "metadata": {},
   "outputs": [],
   "source": [
    "h)\n",
    "\n",
    "           1    \n",
    "      \t1  2  \n",
    "      1 2  3 \n",
    "    1 2 3  4 \n",
    " 1 2 3  4  5 "
   ]
  },
  {
   "cell_type": "code",
   "execution_count": null,
   "id": "0b0b60c6",
   "metadata": {},
   "outputs": [],
   "source": [
    "i)\n",
    "\n",
    "            1    \n",
    "         2  2  \n",
    "      3  3  3 \n",
    "    4 4  4  4 \n",
    "  5 5 5  5  5 \n"
   ]
  },
  {
   "cell_type": "code",
   "execution_count": null,
   "id": "8989f2a0",
   "metadata": {},
   "outputs": [],
   "source": []
  },
  {
   "cell_type": "code",
   "execution_count": null,
   "id": "7e157bd5",
   "metadata": {},
   "outputs": [],
   "source": [
    "j)\n",
    "\n",
    "           1    \n",
    "         2 1  \n",
    "      3  2 1 \n",
    "    4 3  2 1 \n",
    "  5 4 3  2 1\n"
   ]
  },
  {
   "cell_type": "code",
   "execution_count": null,
   "id": "20a34f37",
   "metadata": {},
   "outputs": [],
   "source": [
    "k)\n",
    "\n",
    "1\n",
    "\n",
    "2 1\n",
    "\n",
    "3 2 1\n",
    "\n",
    "4 3 2 1\n",
    "\n",
    "5 4 3 2 1    "
   ]
  },
  {
   "cell_type": "code",
   "execution_count": null,
   "id": "1538b492",
   "metadata": {},
   "outputs": [],
   "source": [
    "l)\n",
    "\n",
    "1\n",
    "\n",
    "2 3\n",
    "\n",
    "4 5 6\n",
    "\n",
    "7 8 9 10\n"
   ]
  },
  {
   "cell_type": "code",
   "execution_count": null,
   "id": "3f91a1de",
   "metadata": {
    "collapsed": true
   },
   "outputs": [],
   "source": [
    "m)\n",
    "\n",
    "1\n",
    "\n",
    "2 3 4\n",
    "\n",
    "5 6 7 8 9\n",
    "\n",
    "\n",
    "\n",
    "\n"
   ]
  },
  {
   "cell_type": "code",
   "execution_count": null,
   "id": "6316d6d4",
   "metadata": {},
   "outputs": [],
   "source": [
    "k="
   ]
  },
  {
   "cell_type": "code",
   "execution_count": null,
   "id": "86c7e35c",
   "metadata": {},
   "outputs": [],
   "source": [
    "n)\n",
    "\n",
    "0  \n",
    "\n",
    "0 1  \n",
    "\n",
    "0 2 4  \n",
    "\n",
    "0 3 6 9  \n",
    "\n",
    "0 4 8 12 16  \n"
   ]
  },
  {
   "cell_type": "code",
   "execution_count": null,
   "id": "09c988da",
   "metadata": {},
   "outputs": [],
   "source": [
    "o)\n",
    "\n",
    "0\n",
    "0 1\n",
    "0 1 4\n",
    "0 1 4 9\n",
    "0 1 4 9 16\n"
   ]
  },
  {
   "cell_type": "code",
   "execution_count": null,
   "id": "4b76e994",
   "metadata": {},
   "outputs": [],
   "source": [
    "p)\n",
    "\n",
    "1\n",
    "4 4\n",
    "9 9 9\n",
    "16 16 16 16\n",
    "25 25 25 25 25"
   ]
  },
  {
   "cell_type": "code",
   "execution_count": null,
   "id": "68cee237",
   "metadata": {},
   "outputs": [],
   "source": [
    "q)\n",
    "\n",
    "1\n",
    "3 3\n",
    "5 5 5\n",
    "7 7 7 7\n",
    "9 9 9 9 9"
   ]
  },
  {
   "cell_type": "code",
   "execution_count": 17,
   "id": "fbbe2b86",
   "metadata": {},
   "outputs": [
    {
     "name": "stdout",
     "output_type": "stream",
     "text": [
      "1 2 3 4 5 6 7 8 9 \n",
      "3 4 5 6 7 8 9 \n",
      "5 6 7 8 9 \n",
      "7 8 9 \n",
      "9 \n"
     ]
    }
   ],
   "source": [
    "for i in range(1,10,2):\n",
    "    for j in range():\n",
    "        print(i,end=\" \")\n",
    "    print()"
   ]
  },
  {
   "cell_type": "code",
   "execution_count": null,
   "id": "f3184b4d",
   "metadata": {},
   "outputs": [],
   "source": [
    "r)\n",
    "\n",
    "*\n",
    "*   *\n",
    "*   *   *\n",
    "*   *   *   *\n",
    "*   *   *   *   *\n"
   ]
  },
  {
   "cell_type": "code",
   "execution_count": null,
   "id": "c42cf91f",
   "metadata": {},
   "outputs": [],
   "source": [
    "s)\n",
    "\n",
    "*   *   *   *   *\n",
    "*   *   *   *\n",
    "*   *   *\n",
    "*   *\n",
    "*"
   ]
  },
  {
   "cell_type": "code",
   "execution_count": null,
   "id": "8e79705c",
   "metadata": {},
   "outputs": [],
   "source": [
    "t)\n",
    "\n",
    "          *\n",
    "        * *\n",
    "      * * *\n",
    "    * * * *\n",
    "  * * * * *         \n",
    "\n"
   ]
  },
  {
   "cell_type": "code",
   "execution_count": null,
   "id": "933a1131",
   "metadata": {},
   "outputs": [],
   "source": [
    "u)\n",
    "\n",
    "1  2  3  4  5\n",
    "1  2  3  4  5\n",
    "1  2  3  4  5\n",
    "1  2  3  4  5\n",
    "1  2  3  4  5"
   ]
  },
  {
   "cell_type": "code",
   "execution_count": 15,
   "id": "a4fcf52d",
   "metadata": {},
   "outputs": [
    {
     "name": "stdout",
     "output_type": "stream",
     "text": [
      "12345\n",
      "2345\n",
      "345\n",
      "45\n",
      "5\n"
     ]
    }
   ],
   "source": [
    "for i in range(1,6,1):\n",
    "    for j in range(i,6):\n",
    "        print(j,end=\"\")\n",
    "    print()"
   ]
  },
  {
   "cell_type": "code",
   "execution_count": null,
   "id": "ae463195",
   "metadata": {},
   "outputs": [],
   "source": []
  }
 ],
 "metadata": {
  "kernelspec": {
   "display_name": "Python 3 (ipykernel)",
   "language": "python",
   "name": "python3"
  },
  "language_info": {
   "codemirror_mode": {
    "name": "ipython",
    "version": 3
   },
   "file_extension": ".py",
   "mimetype": "text/x-python",
   "name": "python",
   "nbconvert_exporter": "python",
   "pygments_lexer": "ipython3",
   "version": "3.9.7"
  }
 },
 "nbformat": 4,
 "nbformat_minor": 5
}
