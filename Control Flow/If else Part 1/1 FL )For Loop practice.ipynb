{
 "cells": [
  {
   "cell_type": "markdown",
   "id": "2e410f0c",
   "metadata": {},
   "source": [
    " Q1. Write a program to print first 10 even numbers.\n"
   ]
  },
  {
   "cell_type": "code",
   "execution_count": 3,
   "id": "82b71624",
   "metadata": {},
   "outputs": [
    {
     "name": "stdout",
     "output_type": "stream",
     "text": [
      "2\n",
      "4\n",
      "6\n",
      "8\n",
      "10\n",
      "12\n",
      "14\n",
      "16\n",
      "18\n"
     ]
    }
   ],
   "source": [
    " for i in range(2,20,2):\n",
    "    print(i)"
   ]
  },
  {
   "cell_type": "markdown",
   "id": "bf3beab5",
   "metadata": {},
   "source": [
    "Q2. Write a program to print first 10 odd numbers.\n"
   ]
  },
  {
   "cell_type": "code",
   "execution_count": 2,
   "id": "484368bb",
   "metadata": {},
   "outputs": [
    {
     "name": "stdout",
     "output_type": "stream",
     "text": [
      "1\n",
      "3\n",
      "5\n",
      "7\n",
      "9\n",
      "11\n",
      "13\n",
      "15\n",
      "17\n",
      "19\n"
     ]
    }
   ],
   "source": [
    "for i in range(1,20,2):\n",
    "    print(i)"
   ]
  },
  {
   "cell_type": "markdown",
   "id": "f62cd7d5",
   "metadata": {},
   "source": [
    " Q3. Write a program to print first 10 even numbers in reverse order.\n"
   ]
  },
  {
   "cell_type": "code",
   "execution_count": 3,
   "id": "a265fb08",
   "metadata": {},
   "outputs": [
    {
     "name": "stdout",
     "output_type": "stream",
     "text": [
      "21\n",
      "19\n",
      "17\n",
      "15\n",
      "13\n",
      "11\n",
      "9\n",
      "7\n",
      "5\n",
      "3\n"
     ]
    }
   ],
   "source": [
    "for i in range(21,2,-2):\n",
    "    print(i)\n"
   ]
  },
  {
   "cell_type": "markdown",
   "id": "56190bea",
   "metadata": {},
   "source": [
    " Q4. Write a program to find the factorial of a number.\n"
   ]
  },
  {
   "cell_type": "code",
   "execution_count": 17,
   "id": "fd080218",
   "metadata": {},
   "outputs": [
    {
     "name": "stdout",
     "output_type": "stream",
     "text": [
      "Enter Number:3\n",
      "6\n"
     ]
    }
   ],
   "source": [
    "n=int(input(\"Enter Number:\"))\n",
    "f=1\n",
    "for i in range(1,n+1):\n",
    "    f=f*i\n",
    "print(f)"
   ]
  },
  {
   "cell_type": "markdown",
   "id": "e0381b70",
   "metadata": {},
   "source": [
    "Q5. Write a program to check whether a number is prime or not."
   ]
  },
  {
   "cell_type": "code",
   "execution_count": 23,
   "id": "9fe23598",
   "metadata": {},
   "outputs": [
    {
     "name": "stdout",
     "output_type": "stream",
     "text": [
      "Enter Number:2\n",
      "2 is prime number\n"
     ]
    }
   ],
   "source": [
    "n=int(input(\"Enter Number:\"))\n",
    "k=0\n",
    "if n==0 or n==1: \n",
    "    print(\"It is  not prime number\")\n",
    "else:\n",
    "    for i in range(2,n):\n",
    "        if n%i==0:\n",
    "            k += 1\n",
    "if k==0:\n",
    "    print(n,\"is prime number\")\n",
    "else:\n",
    "    print(n,\"is not prime number\")\n",
    "    \n"
   ]
  },
  {
   "cell_type": "markdown",
   "id": "d4e08304",
   "metadata": {},
   "source": [
    "Q6. Write a program to print numbers from 1 to 20 except multiple of 2 & 3.\n"
   ]
  },
  {
   "cell_type": "code",
   "execution_count": 14,
   "id": "843a147d",
   "metadata": {},
   "outputs": [
    {
     "name": "stdout",
     "output_type": "stream",
     "text": [
      "1\n",
      "2\n",
      "3\n",
      "4\n",
      "5\n",
      "-\n",
      "7\n",
      "8\n",
      "9\n",
      "10\n",
      "11\n",
      "-\n",
      "13\n",
      "14\n",
      "15\n",
      "16\n",
      "17\n",
      "-\n",
      "19\n",
      "20\n"
     ]
    }
   ],
   "source": [
    "for n in range(1,21):\n",
    "    if (n%2==0 and n%3==0):\n",
    "        print('-')\n",
    "    else:\n",
    "        print(n)\n",
    "     \n",
    "    "
   ]
  },
  {
   "cell_type": "markdown",
   "id": "4fae03a3",
   "metadata": {},
   "source": [
    "Q7. Write a program to accept 10 numbers from the user and display it’s average."
   ]
  },
  {
   "cell_type": "code",
   "execution_count": 21,
   "id": "ca055c26",
   "metadata": {},
   "outputs": [
    {
     "name": "stdout",
     "output_type": "stream",
     "text": [
      "Enter Number1\n",
      "Enter Number2\n",
      "Enter Number3\n",
      "Enter Number4\n",
      "Enter Number5\n",
      "Enter Number6\n",
      "Enter Number7\n",
      "Enter Number8\n",
      "Enter Number9\n",
      "Enter Number10\n",
      "Average of numbers is 5.5\n"
     ]
    }
   ],
   "source": [
    "sum =0\n",
    "for i in range(10):\n",
    "    num=int(input(\"Enter Number\"))\n",
    "    sum=sum+num\n",
    "average=sum/10\n",
    "print(\"Average of numbers is\",average)\n",
    " "
   ]
  }
 ],
 "metadata": {
  "kernelspec": {
   "display_name": "Python 3 (ipykernel)",
   "language": "python",
   "name": "python3"
  },
  "language_info": {
   "codemirror_mode": {
    "name": "ipython",
    "version": 3
   },
   "file_extension": ".py",
   "mimetype": "text/x-python",
   "name": "python",
   "nbconvert_exporter": "python",
   "pygments_lexer": "ipython3",
   "version": "3.9.7"
  }
 },
 "nbformat": 4,
 "nbformat_minor": 5
}
