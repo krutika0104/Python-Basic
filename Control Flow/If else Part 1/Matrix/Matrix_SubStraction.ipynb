{
 "cells": [
  {
   "cell_type": "markdown",
   "id": "f1f7d9f4",
   "metadata": {},
   "source": [
    "2. Program to substract matrix of 4*4 using loop and list comprehension\n",
    " X = [[9, 8, 7, 6],\n",
    "     [8, 7, 6, 5],\n",
    "     [7, 6, 5, 4],\n",
    "     [6, 5, 4, 3]]\n",
    "\n",
    "Y = [[1, 2, 3, 4],\n",
    "     [2, 3, 4, 5],\n",
    "     [3, 4, 5, 6],\n",
    "     [4, 5, 6, 7]]"
   ]
  },
  {
   "cell_type": "code",
   "execution_count": 1,
   "id": "638888be",
   "metadata": {},
   "outputs": [
    {
     "name": "stdout",
     "output_type": "stream",
     "text": [
      "[8, 6, 4, 2]\n",
      "[6, 4, 2, 0]\n",
      "[4, 2, 0, -2]\n",
      "[2, 0, -2, -4]\n"
     ]
    }
   ],
   "source": [
    "X = [[9, 8, 7, 6],\n",
    "     [8, 7, 6, 5],\n",
    "     [7, 6, 5, 4],\n",
    "     [6, 5, 4, 3]]\n",
    "\n",
    "Y = [[1, 2, 3, 4],\n",
    "     [2, 3, 4, 5],\n",
    "     [3, 4, 5, 6],\n",
    "     [4, 5, 6, 7]]\n",
    "R=[[0,0,0,0],\n",
    "   [0,0,0,0],\n",
    "   [0,0,0,0],\n",
    "   [0,0,0,0]]\n",
    "for i in range(len(X)):\n",
    "    for j in range(len(Y)):\n",
    "        R[i][j] = X[i][j] - Y[i][j]\n",
    "for p in R:\n",
    "    print(p)\n"
   ]
  },
  {
   "cell_type": "code",
   "execution_count": 2,
   "id": "66ef8e6b",
   "metadata": {},
   "outputs": [
    {
     "name": "stdout",
     "output_type": "stream",
     "text": [
      "[8, 6, 4, 2]\n",
      "[6, 4, 2, 0]\n",
      "[4, 2, 0, -2]\n",
      "[2, 0, -2, -4]\n"
     ]
    }
   ],
   "source": [
    "#list comphension\n",
    "x = [[9, 8, 7, 6],\n",
    "     [8, 7, 6, 5],\n",
    "     [7, 6, 5, 4],\n",
    "     [6, 5, 4, 3]]\n",
    "\n",
    "y = [[1, 2, 3, 4],\n",
    "     [2, 3, 4, 5],\n",
    "     [3, 4, 5, 6],\n",
    "     [4, 5, 6, 7]]\n",
    "r=[[x[i][j] - y[i][j] for j in range(len(x[0]))] for i in range(len(x))]\n",
    "for p in r:\n",
    "    print(p)"
   ]
  },
  {
   "cell_type": "code",
   "execution_count": null,
   "id": "a4b542db",
   "metadata": {},
   "outputs": [],
   "source": []
  }
 ],
 "metadata": {
  "kernelspec": {
   "display_name": "Python 3 (ipykernel)",
   "language": "python",
   "name": "python3"
  },
  "language_info": {
   "codemirror_mode": {
    "name": "ipython",
    "version": 3
   },
   "file_extension": ".py",
   "mimetype": "text/x-python",
   "name": "python",
   "nbconvert_exporter": "python",
   "pygments_lexer": "ipython3",
   "version": "3.9.7"
  }
 },
 "nbformat": 4,
 "nbformat_minor": 5
}
