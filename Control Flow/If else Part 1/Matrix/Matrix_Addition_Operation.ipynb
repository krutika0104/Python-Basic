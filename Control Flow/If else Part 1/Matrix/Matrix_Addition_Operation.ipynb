{
 "cells": [
  {
   "cell_type": "markdown",
   "id": "50f72c73",
   "metadata": {},
   "source": [
    " 1. Add a matrix of 2*2 using nested loop and list comprehension"
   ]
  },
  {
   "cell_type": "code",
   "execution_count": 8,
   "id": "6a255336",
   "metadata": {},
   "outputs": [
    {
     "name": "stdout",
     "output_type": "stream",
     "text": [
      "[6, 8]\n",
      "[9, 12]\n"
     ]
    }
   ],
   "source": [
    "x=[[1,2],\n",
    "   [2,4]]\n",
    "y=[[5,6],\n",
    "  [7,8]]\n",
    "r=[[0,0],\n",
    "  [0,0]]\n",
    "for i in range(len(x)):\n",
    "    for j in range(len(y)):\n",
    "        r[i][j] = x[i][j] + y[i][j]\n",
    "for p in r:\n",
    "    print(p)\n",
    "   "
   ]
  },
  {
   "cell_type": "code",
   "execution_count": 4,
   "id": "c5015c77",
   "metadata": {},
   "outputs": [
    {
     "name": "stdout",
     "output_type": "stream",
     "text": [
      "[6, 8]\n",
      "[9, 12]\n"
     ]
    }
   ],
   "source": [
    "x=[[1,2],\n",
    "   [2,4]]\n",
    "y=[[5,6],\n",
    "  [7,8]]\n",
    "r=[[x[i][j] + y[i][j] for j in range(len(x[0]))] for i in range(len(x))]\n",
    "for p in r:\n",
    "    print(p)"
   ]
  },
  {
   "cell_type": "markdown",
   "id": "359fa997",
   "metadata": {},
   "source": [
    "5. Add a matrix of 2*2 using nested loop and list comprehension\n",
    "X = [[2, 4],\n",
    "     [5, 6]]\n",
    "\n",
    "Y = [[3, 1],\n",
    "     [6, 2]]"
   ]
  },
  {
   "cell_type": "code",
   "execution_count": 12,
   "id": "51ef62fa",
   "metadata": {},
   "outputs": [
    {
     "name": "stdout",
     "output_type": "stream",
     "text": [
      "[5, 5]\n",
      "[11, 8]\n"
     ]
    }
   ],
   "source": [
    "X = [[2, 4],\n",
    "     [5, 6]]\n",
    "\n",
    "Y = [[3, 1],\n",
    "     [6, 2]]\n",
    "R= [[0,0],\n",
    "     [0,0]]\n",
    "for i in range(len(X)):\n",
    "    for j in range(len(Y)):\n",
    "        R[i][j] = X[i][j] + Y[i][j]\n",
    "for p in R:\n",
    "    print(p)"
   ]
  },
  {
   "cell_type": "code",
   "execution_count": 5,
   "id": "2478d9b7",
   "metadata": {},
   "outputs": [
    {
     "name": "stdout",
     "output_type": "stream",
     "text": [
      "[5, 5]\n",
      "[11, 8]\n"
     ]
    }
   ],
   "source": [
    "#List Compensation\n",
    "X =[[2, 4],\n",
    "     [5, 6]]\n",
    "\n",
    "Y = [[3, 1],\n",
    "     [6, 2]]\n",
    "R=[[X[i][j]+Y[i][j] for j in range(len(Y))]  for i in range(len(X))]\n",
    "for p in R:\n",
    "    print(p)"
   ]
  }
 ],
 "metadata": {
  "kernelspec": {
   "display_name": "Python 3 (ipykernel)",
   "language": "python",
   "name": "python3"
  },
  "language_info": {
   "codemirror_mode": {
    "name": "ipython",
    "version": 3
   },
   "file_extension": ".py",
   "mimetype": "text/x-python",
   "name": "python",
   "nbconvert_exporter": "python",
   "pygments_lexer": "ipython3",
   "version": "3.9.7"
  }
 },
 "nbformat": 4,
 "nbformat_minor": 5
}
