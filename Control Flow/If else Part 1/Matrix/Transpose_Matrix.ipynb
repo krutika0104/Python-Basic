{
 "cells": [
  {
   "cell_type": "markdown",
   "id": "e89de3af",
   "metadata": {},
   "source": [
    "3. Program to find the transpose of a matrix:\n",
    "X =[[1, 2, 3],\n",
    "    [2, 3, 4]]\n",
    "\n",
    "result = [[0, 0],\n",
    "          [0, 0],\n",
    "          [0, 0]]\n",
    " \n",
    "Y = [[2, 3, 4, 5],\n",
    "     [4, 5, 6, 7],\n",
    "     [6, 7, 8, 9]]"
   ]
  },
  {
   "cell_type": "code",
   "execution_count": 3,
   "id": "9678c5bd",
   "metadata": {},
   "outputs": [
    {
     "name": "stdout",
     "output_type": "stream",
     "text": [
      "[1, 2]\n",
      "[2, 3]\n",
      "[3, 4]\n"
     ]
    }
   ],
   "source": [
    "X =[[1, 2, 3],\n",
    "    [2, 3, 4]]\n",
    "result = [[0, 0],\n",
    "          [0, 0],\n",
    "          [0, 0]]\n",
    "#iterate through column X\n",
    "for i in range(len(X)):\n",
    "    for j in range(len(X[0])):\n",
    "        result[j][i]=X[i][j]\n",
    "for r in result:\n",
    "    print(r)"
   ]
  },
  {
   "cell_type": "code",
   "execution_count": 1,
   "id": "af89ffc0",
   "metadata": {},
   "outputs": [
    {
     "name": "stdout",
     "output_type": "stream",
     "text": [
      "[2, 4, 6]\n",
      "[3, 5, 7]\n",
      "[4, 6, 8]\n",
      "[5, 7, 9]\n"
     ]
    }
   ],
   "source": [
    "Y = [[2, 3, 4, 5],\n",
    "     [4, 5, 6, 7],\n",
    "     [6, 7, 8, 9]]\n",
    "result = [[0,0,0],\n",
    "          [0,0,0],\n",
    "          [0,0,0],\n",
    "          [0,0,0]]\n",
    "for i in range(len(Y)):\n",
    "    for j in range(len(Y[0])):\n",
    "        result[j][i]=Y[i][j]\n",
    "for r in result:\n",
    "    print(r)"
   ]
  },
  {
   "cell_type": "code",
   "execution_count": null,
   "id": "db9bc3f3",
   "metadata": {},
   "outputs": [],
   "source": []
  }
 ],
 "metadata": {
  "kernelspec": {
   "display_name": "Python 3 (ipykernel)",
   "language": "python",
   "name": "python3"
  },
  "language_info": {
   "codemirror_mode": {
    "name": "ipython",
    "version": 3
   },
   "file_extension": ".py",
   "mimetype": "text/x-python",
   "name": "python",
   "nbconvert_exporter": "python",
   "pygments_lexer": "ipython3",
   "version": "3.9.7"
  }
 },
 "nbformat": 4,
 "nbformat_minor": 5
}
