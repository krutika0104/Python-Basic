{
 "cells": [
  {
   "cell_type": "markdown",
   "id": "9adeaca6",
   "metadata": {},
   "source": [
    "6. Write a program to check whether the number entered is three digit or not\n"
   ]
  },
  {
   "cell_type": "code",
   "execution_count": 11,
   "id": "5ff7404e",
   "metadata": {},
   "outputs": [
    {
     "name": "stdout",
     "output_type": "stream",
     "text": [
      "Enter num:676\n",
      "The number is Three Digit\n"
     ]
    }
   ],
   "source": [
    "num=(input(\"Enter num:\"))\n",
    "if len(num)==3:\n",
    "    print(\"The number is Three Digit\")\n",
    "else:\n",
    "    print(\"The number is not Three Digit\")\n",
    "    "
   ]
  }
 ],
 "metadata": {
  "kernelspec": {
   "display_name": "Python 3 (ipykernel)",
   "language": "python",
   "name": "python3"
  },
  "language_info": {
   "codemirror_mode": {
    "name": "ipython",
    "version": 3
   },
   "file_extension": ".py",
   "mimetype": "text/x-python",
   "name": "python",
   "nbconvert_exporter": "python",
   "pygments_lexer": "ipython3",
   "version": "3.9.7"
  }
 },
 "nbformat": 4,
 "nbformat_minor": 5
}
