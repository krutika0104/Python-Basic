{
 "cells": [
  {
   "cell_type": "markdown",
   "id": "9adca612",
   "metadata": {},
   "source": [
    "9.  Accept three numbers from the user and display the second largest number.\n"
   ]
  },
  {
   "cell_type": "code",
   "execution_count": 3,
   "id": "e2f23941",
   "metadata": {},
   "outputs": [
    {
     "name": "stdout",
     "output_type": "stream",
     "text": [
      "Enter Number1:8\n",
      "Enter Number2:9\n",
      "Enter Number3:0\n",
      "The Number1 is Second largest number\n"
     ]
    }
   ],
   "source": [
    "num1=int(input(\"Enter Number1:\"))\n",
    "num2=int(input(\"Enter Number2:\"))\n",
    "num3=int(input(\"Enter Number3:\"))\n",
    "if num1>num2 and num1<num3 or num1>num3 and num1<num2:\n",
    "    print(\"The Number1 is Second largest number\")\n",
    "elif num2>num1 and num2<num3 or num2>num3 and num2<num1:\n",
    "    print(\"The Number1 is Second largest number\")     \n",
    "else:\n",
    "    print(\"The Number3 is Second largest number\")\n"
   ]
  }
 ],
 "metadata": {
  "kernelspec": {
   "display_name": "Python 3 (ipykernel)",
   "language": "python",
   "name": "python3"
  },
  "language_info": {
   "codemirror_mode": {
    "name": "ipython",
    "version": 3
   },
   "file_extension": ".py",
   "mimetype": "text/x-python",
   "name": "python",
   "nbconvert_exporter": "python",
   "pygments_lexer": "ipython3",
   "version": "3.9.7"
  }
 },
 "nbformat": 4,
 "nbformat_minor": 5
}
