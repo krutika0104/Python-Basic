{
 "cells": [
  {
   "cell_type": "markdown",
   "id": "f914e1f0",
   "metadata": {},
   "source": [
    "2. Check if two strings are anagram or not. (care = race) length and letter same"
   ]
  },
  {
   "cell_type": "code",
   "execution_count": 10,
   "id": "adb14a32",
   "metadata": {},
   "outputs": [
    {
     "name": "stdout",
     "output_type": "stream",
     "text": [
      "Enter First String:CARE\n",
      "Enter Second String:race\n",
      "['a', 'c', 'e', 'r']\n",
      "['a', 'c', 'e', 'r']\n",
      "The string is anagram\n"
     ]
    }
   ],
   "source": [
    "s1=str(input(\"Enter First String:\"))\n",
    "s2=str(input(\"Enter Second String:\"))\n",
    "if len(s1)==len(s2):\n",
    "    s1=s1.lower()\n",
    "    s2=s2.lower()\n",
    "    s1=sorted(s1)\n",
    "    print(s1)\n",
    "    s2=sorted(s2)\n",
    "    print(s2)\n",
    "    if s1==s2:\n",
    "        print(\"The string is anagram\")\n",
    "    else:\n",
    "        print(\"The string is not anagram\")\n",
    "else:\n",
    "    (\"It is not string\")"
   ]
  }
 ],
 "metadata": {
  "kernelspec": {
   "display_name": "Python 3 (ipykernel)",
   "language": "python",
   "name": "python3"
  },
  "language_info": {
   "codemirror_mode": {
    "name": "ipython",
    "version": 3
   },
   "file_extension": ".py",
   "mimetype": "text/x-python",
   "name": "python",
   "nbconvert_exporter": "python",
   "pygments_lexer": "ipython3",
   "version": "3.9.7"
  }
 },
 "nbformat": 4,
 "nbformat_minor": 5
}
