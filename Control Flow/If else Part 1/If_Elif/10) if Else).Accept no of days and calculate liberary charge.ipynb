{
 "cells": [
  {
   "cell_type": "markdown",
   "id": "21c758d9",
   "metadata": {},
   "source": [
    "10. Accept the number of days from the user and calculate the charge for library according to following :\n",
    "\n",
    "Till five days : Rs 2/day.\n",
    "Six to ten days  : Rs 3/day.\n",
    "11 to 15 days  :   Rs 4/day\n",
    "After 15 days    : Rs 5/day"
   ]
  },
  {
   "cell_type": "code",
   "execution_count": 2,
   "id": "50ec83ba",
   "metadata": {},
   "outputs": [
    {
     "name": "stdout",
     "output_type": "stream",
     "text": [
      "Enter Number of Days:88\n",
      "The Charge for library is 440\n"
     ]
    }
   ],
   "source": [
    "nd=int(input(\"Enter Number of Days:\"))\n",
    "if nd<=5:\n",
    "    amt=nd*5\n",
    "elif nd>=6 and nd<=10:\n",
    "    amt=nd*3\n",
    "elif nd>=11 and nd<=15:\n",
    "    amt=nd*4\n",
    "elif nd>15:\n",
    "    amt=nd*5\n",
    "print(\"The Charge for library is\",amt)"
   ]
  }
 ],
 "metadata": {
  "kernelspec": {
   "display_name": "Python 3 (ipykernel)",
   "language": "python",
   "name": "python3"
  },
  "language_info": {
   "codemirror_mode": {
    "name": "ipython",
    "version": 3
   },
   "file_extension": ".py",
   "mimetype": "text/x-python",
   "name": "python",
   "nbconvert_exporter": "python",
   "pygments_lexer": "ipython3",
   "version": "3.9.7"
  }
 },
 "nbformat": 4,
 "nbformat_minor": 5
}
