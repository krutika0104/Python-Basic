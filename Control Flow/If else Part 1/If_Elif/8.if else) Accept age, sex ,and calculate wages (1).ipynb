{
 "cells": [
  {
   "cell_type": "markdown",
   "id": "a3778801",
   "metadata": {},
   "source": [
    "8. Accept the age, sex (‘M’, ‘F’), number of days and display the wages accordingly\n",
    "\n",
    "\tAge\t      Sex\t\tWage/day\n",
    "  >=18 and <30\tM\t\t700\n",
    "\t\t        F\t\t750\n",
    "\t\n",
    "\n",
    ">=30 and <=40\tM\t\t800\n",
    "\t\tF\t\t850\n",
    "\t\n",
    "Python if else\n",
    "If age does not fall in any range then display the following message: “Enter appropriate age”\n"
   ]
  },
  {
   "cell_type": "code",
   "execution_count": 2,
   "id": "67f2be6a",
   "metadata": {},
   "outputs": [
    {
     "name": "stdout",
     "output_type": "stream",
     "text": [
      "Enter number of working days:67\n",
      "Enter the age:25\n",
      "Enter sex:M\n",
      "The wages are 46900\n"
     ]
    }
   ],
   "source": [
    "nd=int(input(\"Enter number of working days:\"))\n",
    "age=int(input(\"Enter the age:\"))\n",
    "sex=str(input(\"Enter sex:\"))\n",
    "if (age>=18 and age<30) and sex.upper()=='M':\n",
    "    amt=nd*700\n",
    "    print(\"The wages are\",amt)\n",
    "elif (age>=18 and age<30) and sex.upper()=='F':\n",
    "    amt=nd*750\n",
    "    print(\"The wages are\",amt)\n",
    "elif (age>=30 and age<=40) and sex.upper()=='M':\n",
    "    amt=nd*800\n",
    "    print(\"The wages are\",amt)\n",
    "elif (age>=30 and age<=40) and  sex.upper()=='F':\n",
    "    amt=nd*850\n",
    "    print(\"The wages are\",amt)\n",
    "else:\n",
    "    print(\"Enter appropriate age\")\n",
    "    "
   ]
  }
 ],
 "metadata": {
  "kernelspec": {
   "display_name": "Python 3 (ipykernel)",
   "language": "python",
   "name": "python3"
  },
  "language_info": {
   "codemirror_mode": {
    "name": "ipython",
    "version": 3
   },
   "file_extension": ".py",
   "mimetype": "text/x-python",
   "name": "python",
   "nbconvert_exporter": "python",
   "pygments_lexer": "ipython3",
   "version": "3.9.7"
  }
 },
 "nbformat": 4,
 "nbformat_minor": 5
}
