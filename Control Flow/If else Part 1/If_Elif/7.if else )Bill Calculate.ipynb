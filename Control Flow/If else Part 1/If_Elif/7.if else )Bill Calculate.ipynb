{
 "cells": [
  {
   "cell_type": "markdown",
   "id": "a43dde2f",
   "metadata": {},
   "source": [
    "7. Accept the electric units from user and calculate the bill according to the following rates.\n",
    "\n",
    "First 100 Units     :  Free\n",
    "Next 200 Units      :  Rs 2 per unit.\n",
    "Above 300 Units     :  Rs 5 per unit.\n",
    "\n",
    "if number of unit is 500 then total bill = 0 +400 + 1000 = 1400\n"
   ]
  },
  {
   "cell_type": "code",
   "execution_count": 7,
   "id": "1de5cd94",
   "metadata": {},
   "outputs": [
    {
     "name": "stdout",
     "output_type": "stream",
     "text": [
      "Enter the electric unit: 500\n",
      "The bill is 1400\n"
     ]
    }
   ],
   "source": [
    "unit=int(input(\"Enter the electric unit: \"))\n",
    "if unit<=100:\n",
    "    amt=0\n",
    "elif (unit>=100 and unit<=200):\n",
    "    amt=(unit-100)*2\n",
    "elif (unit>=300):\n",
    "    amt=400+(unit-300)*5\n",
    "print(\"The bill is\",amt)"
   ]
  }
 ],
 "metadata": {
  "kernelspec": {
   "display_name": "Python 3 (ipykernel)",
   "language": "python",
   "name": "python3"
  },
  "language_info": {
   "codemirror_mode": {
    "name": "ipython",
    "version": 3
   },
   "file_extension": ".py",
   "mimetype": "text/x-python",
   "name": "python",
   "nbconvert_exporter": "python",
   "pygments_lexer": "ipython3",
   "version": "3.9.7"
  }
 },
 "nbformat": 4,
 "nbformat_minor": 5
}
