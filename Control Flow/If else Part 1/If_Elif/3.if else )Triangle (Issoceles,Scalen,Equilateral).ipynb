{
 "cells": [
  {
   "cell_type": "markdown",
   "id": "98a7045e",
   "metadata": {},
   "source": [
    "3. Accept three sides of a triangle and check whether it is an equilateral, isosceles or scalene triangle.\n",
    "Note :\n",
    "An equilateral triangle is a triangle in which all three sides are equal.\n",
    "A scalene triangle is a triangle that has three unequal sides.\n",
    "An isosceles triangle is a triangle with (at least) two equal sides."
   ]
  },
  {
   "cell_type": "code",
   "execution_count": 1,
   "id": "26e2b16b",
   "metadata": {},
   "outputs": [
    {
     "name": "stdout",
     "output_type": "stream",
     "text": [
      "Enter First Side:3\n",
      "Enter Second Side:4\n",
      "Enter Third Side:3\n",
      "The Triangle is Issoceles Triangle\n"
     ]
    }
   ],
   "source": [
    "side1=int(input(\"Enter First Side:\"))\n",
    "side2=int(input(\"Enter Second Side:\"))\n",
    "side3=int(input(\"Enter Third Side:\"))\n",
    "if side1==side2==side3: \n",
    "    print(\"The Triangle is Equilateral Triangle\")\n",
    "elif side1!=side2 and side2!=side3 and side1!=side3: \n",
    "    print(\"The Triangle is Scalene Triangle\")\n",
    "else: \n",
    "    print(\"The Triangle is Issoceles Triangle\")"
   ]
  }
 ],
 "metadata": {
  "kernelspec": {
   "display_name": "Python 3 (ipykernel)",
   "language": "python",
   "name": "python3"
  },
  "language_info": {
   "codemirror_mode": {
    "name": "ipython",
    "version": 3
   },
   "file_extension": ".py",
   "mimetype": "text/x-python",
   "name": "python",
   "nbconvert_exporter": "python",
   "pygments_lexer": "ipython3",
   "version": "3.9.7"
  }
 },
 "nbformat": 4,
 "nbformat_minor": 5
}
