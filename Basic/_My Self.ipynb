{
 "cells": [
  {
   "cell_type": "code",
   "execution_count": 64,
   "id": "929b8758",
   "metadata": {},
   "outputs": [
    {
     "name": "stdout",
     "output_type": "stream",
     "text": [
      "\t\t\t 😊 My Self 🙂\n",
      "\tMy name is Krutika Sanjay Kale.My age is 21.I live in Kalyan 🏡 with my parents 👫 and brother.My father is a Teacher and my mother is also Teacher. I have completedBachelor Of Science in Information Technology💻 branch from affiliated to Mumbai University with 9.13 CGPA (2018-2021) batch. I love programming and my favouraite langauge is Python and .Net.\n",
      "\n",
      "\tMy hobbies are reading book📖,dancing and playing with teddy bear 🧸.I love to play Squash 🎾.My favouraite colour is Pink I can speak in English, Marathi and Hindi langauge.My date of birth is 1 st April 2001.\n",
      "\n",
      "\tI want to be part of a renowned Organization, to contribute towards the growth of the organization, based on my personal capabilities and skills.\n"
     ]
    }
   ],
   "source": [
    "a=\"\\t\\t\\t \\U0001F60A My Self \\U0001F642\"\n",
    "b=\"\\tMy name is Krutika Sanjay Kale.My age is 21.I live in Kalyan \\U0001F3E1 with my parents \\U0001F46B and brother.My father is a Teacher and my mother is also Teacher.\"\n",
    "c=\"I have completedBachelor Of Science in Information Technology\\U0001F4BB branch from affiliated to Mumbai University with 9.13 CGPA (2018-2021) batch.\"\n",
    "d=\"I love programming and my favouraite langauge is Python and .Net.\\n\"\n",
    "e=\"\\tMy hobbies are reading book\\U0001F4D6,dancing and playing with teddy bear \\U0001F9F8.I love to play Squash \\U0001F3BE.My favouraite colour is Pink I can speak in English, Marathi and Hindi langauge.\"\"My date of birth is 1 st April 2001.\\n\"\n",
    "f=\"\\tI want to be part of a renowned Organization, to contribute towards the growth of the organization, based on my personal capabilities and skills.\"\n",
    "print(a)\n",
    "print(b,c,d)\n",
    "print(e)\n",
    "print(f)"
   ]
  }
 ],
 "metadata": {
  "kernelspec": {
   "display_name": "Python 3 (ipykernel)",
   "language": "python",
   "name": "python3"
  },
  "language_info": {
   "codemirror_mode": {
    "name": "ipython",
    "version": 3
   },
   "file_extension": ".py",
   "mimetype": "text/x-python",
   "name": "python",
   "nbconvert_exporter": "python",
   "pygments_lexer": "ipython3",
   "version": "3.9.7"
  }
 },
 "nbformat": 4,
 "nbformat_minor": 5
}
