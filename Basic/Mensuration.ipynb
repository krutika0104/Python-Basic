{
 "cells": [
  {
   "cell_type": "code",
   "execution_count": 5,
   "id": "84cb05e3",
   "metadata": {},
   "outputs": [
    {
     "name": "stdout",
     "output_type": "stream",
     "text": [
      "enter length 5\n",
      "enter breadth 6\n",
      "The area of rectangle is 30.0\n"
     ]
    }
   ],
   "source": [
    "#asking the usre t enter length and breadth of rectangle \n",
    "length=float(input(\"enter length \"))\n",
    "breadth=float(input(\"enter breadth \"))\n",
    "#calculating the area of rectangle \n",
    "Area_of_rectangle=length*breadth\n",
    "#printing the calculated area of rectangle  \n",
    "print(\"The area of rectangle is\", Area_of_rectangle )"
   ]
  },
  {
   "cell_type": "code",
   "execution_count": 7,
   "id": "43d2f9ac",
   "metadata": {},
   "outputs": [
    {
     "name": "stdout",
     "output_type": "stream",
     "text": [
      "enter length6\n",
      "enter breadth8\n",
      "The perimeter of rectangle is 28.0\n"
     ]
    }
   ],
   "source": [
    "length=float(input(\"enter length\"))\n",
    "breadth=float(input(\"enter breadth\"))\n",
    "Perimeter_of_rectangle=2*(length+breadth)\n",
    "print(\"The perimeter of rectangle is\",Perimeter_of_rectangle )"
   ]
  },
  {
   "cell_type": "code",
   "execution_count": 10,
   "id": "837f36bc",
   "metadata": {},
   "outputs": [
    {
     "name": "stdout",
     "output_type": "stream",
     "text": [
      "enter P5\n",
      "enter R7\n",
      "enter T8\n",
      "The simple interest is 3.92\n"
     ]
    }
   ],
   "source": [
    "P=float(input(\"enter P\"))\n",
    "R=float(input(\"enter R\"))\n",
    "T=float(input(\"enter T\"))\n",
    "Simple_interest=R*R*T/100\n",
    "print(\"The simple interest is\",Simple_interest )\n",
    "\n"
   ]
  },
  {
   "cell_type": "code",
   "execution_count": 12,
   "id": "9fbbdba2",
   "metadata": {},
   "outputs": [
    {
     "name": "stdout",
     "output_type": "stream",
     "text": [
      "enter C38\n",
      "the faranheit temp is 100.4\n"
     ]
    }
   ],
   "source": [
    "C=float(input(\"enter C\"))\n",
    "Celcius_to_faranite=9/5*C+32\n",
    "print(\"the faranheit temp is\",Celcius_to_faranheit )"
   ]
  },
  {
   "cell_type": "code",
   "execution_count": 13,
   "id": "dc1266f2",
   "metadata": {},
   "outputs": [
    {
     "name": "stdout",
     "output_type": "stream",
     "text": [
      "enter r8\n",
      "the circumference of circle is  50.272\n",
      "the area of circle is  201.088\n"
     ]
    }
   ],
   "source": [
    "r=float(input(\"enter r\"))\n",
    "Circumference_of_circle=2*3.142*r\n",
    "Area_of_circle=3.142*r*r\n",
    "print(\"the circumference of circle is \",Circumference_of_circle )\n",
    "print(\"the area of circle is \",Area_of_circle )"
   ]
  },
  {
   "cell_type": "code",
   "execution_count": 14,
   "id": "948a3769",
   "metadata": {},
   "outputs": [
    {
     "name": "stdout",
     "output_type": "stream",
     "text": [
      "enter side4\n",
      "enter l6\n",
      "enter b8\n",
      "enter h2\n",
      "total suurface area of cube is  24.0\n",
      "total surface area of cuboid is  152.0\n",
      "volume of cube is  216.0\n",
      "volume of cuboid is  96.0\n"
     ]
    }
   ],
   "source": [
    "side=float(input(\"enter side\"))\n",
    "l=float(input(\"enter l\"))\n",
    "b=float(input(\"enter b\"))\n",
    "h=float(input(\"enter h\"))\n",
    "Total_surface_area_of_cube=6*side\n",
    "Total_surface_area_of_cuboid=2*(l*b+b*h+h*l)\n",
    "Volume_of_cube=l*l*l\n",
    "Volume_of_cuboid=l*b*h\n",
    "print(\"total suurface area of cube is \", Total_surface_area_of_cube )\n",
    "print(\"total surface area of cuboid is \", Total_surface_area_of_cuboid)\n",
    "print(\"volume of cube is \",Volume_of_cube )\n",
    "print(\"volume of cuboid is \",Volume_of_cuboid)\n"
   ]
  },
  {
   "cell_type": "code",
   "execution_count": 16,
   "id": "a1e12922",
   "metadata": {},
   "outputs": [
    {
     "name": "stdout",
     "output_type": "stream",
     "text": [
      "enter n3\n",
      "n1 is 3\n",
      "n2 is 9\n",
      "n3 is 27\n",
      "n4 is 81\n",
      "n5 is 243\n",
      "n6 is 729\n",
      "n7 is 2187\n",
      "n8 is 6561\n",
      "n9 is 19683\n",
      "n10 is 59049\n"
     ]
    }
   ],
   "source": [
    "n=int(input(\"enter n\"))\n",
    "n1=n\n",
    "n2=n**2\n",
    "n3=n**3\n",
    "n4=n**4\n",
    "n5=n**5\n",
    "n6=n**6\n",
    "n7=n**7\n",
    "n8=n**8\n",
    "n9=n**9\n",
    "n10=n**10\n",
    "print(\"n1 is\", n1)\n",
    "print(\"n2 is\", n2)\n",
    "print(\"n3 is\", n3)\n",
    "print(\"n4 is\", n4)\n",
    "print(\"n5 is\", n5)\n",
    "print(\"n6 is\", n6)\n",
    "print(\"n7 is\", n7)\n",
    "print(\"n8 is\", n8)\n",
    "print(\"n9 is\", n9)\n",
    "print(\"n10 is\", n10)\n",
    "\n"
   ]
  },
  {
   "cell_type": "code",
   "execution_count": 17,
   "id": "129dae6f",
   "metadata": {},
   "outputs": [
    {
     "name": "stdout",
     "output_type": "stream",
     "text": [
      "enter l4\n",
      "enter b8\n",
      "enter h6\n",
      "area of pool is 176\n"
     ]
    }
   ],
   "source": [
    "l=int(input(\"enter l\"))\n",
    "b=int(input(\"enter b\"))\n",
    "h=int(input(\"enter h\"))\n",
    "Area_of_pool=2*(l*b+b*h+h*l)-l*b\n",
    "print(\"area of pool is\",Area_of_pool)"
   ]
  },
  {
   "cell_type": "code",
   "execution_count": 6,
   "id": "bf5c1486",
   "metadata": {},
   "outputs": [
    {
     "name": "stdout",
     "output_type": "stream",
     "text": [
      "enter r5\n",
      "enter h6\n",
      "area of bucket is 267.07\n"
     ]
    }
   ],
   "source": [
    "r=float(input(\"enter r\"))\n",
    "h=float(input(\"enter h\"))\n",
    "Area_of_cylinder=2*3.142*r*(r+h)-3.142*r*r\n",
    "print(\"area of bucket is\",Area_of_cylinder)"
   ]
  },
  {
   "cell_type": "code",
   "execution_count": 5,
   "id": "25cc66af",
   "metadata": {},
   "outputs": [
    {
     "name": "stdout",
     "output_type": "stream",
     "text": [
      "enter length 4\n",
      "enter breadth 6\n",
      "enter r 7\n",
      "area of fan is 11084.976\n"
     ]
    }
   ],
   "source": [
    "length=float(input(\"enter length \"))\n",
    "breadth=float(input(\"enter breadth \"))\n",
    "r=float(input(\"enter r \"))\n",
    "Area_of_recatngle=3*(length*breadth)\n",
    "Area_of_circle=3.142*r*r\n",
    "Area_of_fan=Area_of_recatngle*Area_of_circle\n",
    "print(\"area of fan is\",Area_of_fan )"
   ]
  },
  {
   "cell_type": "code",
   "execution_count": 25,
   "id": "f31f0eb2",
   "metadata": {},
   "outputs": [
    {
     "name": "stdout",
     "output_type": "stream",
     "text": [
      "enter length 5\n",
      "enter breadth 8\n",
      "enter l1 2\n",
      "enter b1 7\n",
      "enter r 2\n",
      "enter side6\n",
      "area of ceiling is 437.13599999999997\n"
     ]
    }
   ],
   "source": [
    "#roof area \n",
    "length=float(input(\"enter length \"))\n",
    "breadth=float(input(\"enter breadth \"))\n",
    "#fan area \n",
    "l1=float(input(\"enter l1 \"))\n",
    "b1=float(input(\"enter b1 \"))\n",
    "r=float(input(\"enter r \"))\n",
    "pie=3.142\n",
    "#led light\n",
    "side=float(input(\"enter side\"))\n",
    "#\n",
    "Area_of_fanblade=6*(l1*b1)\n",
    "Area_of_circle=2*(3.142*r*r)\n",
    "Area_of_square=8*(side*side)\n",
    "Area_of_roof=length*breadth\n",
    "Area_of_ceiling1=Area_of_fanblade+Area_of_circle+Area_of_square+Area_of_roof\n",
    "print(\"area of ceiling is\", Area_of_ceiling1)"
   ]
  },
  {
   "cell_type": "code",
   "execution_count": 14,
   "id": "4befebe8",
   "metadata": {},
   "outputs": [
    {
     "name": "stdout",
     "output_type": "stream",
     "text": [
      "enter r1 9\n",
      "enter r23\n",
      "enter length4\n",
      "enter breadth2\n",
      "enter base6\n",
      "enter height3\n",
      "area of face is 328.058\n"
     ]
    }
   ],
   "source": [
    "\n",
    "r1=int(input(\"enter r1 \"))\n",
    "r2=int(input(\"enter r2\"))\n",
    "length=int(input(\"enter length\"))\n",
    "breadth=int(input(\"enter breadth\"))\n",
    "base=int(input(\"enter base\"))\n",
    "height=int(input(\"enter height\"))\n",
    "pie=3.142\n",
    "Area_of_rectangle=length*breadth\n",
    "Area_of_triangle=1/2*(base*height)\n",
    "Area_of_circle2=2*(pie*r2*r2)\n",
    "Area_of_circle1=pie*r1*r1\n",
    "Area_of_face=Area_of_rectangle+Area_of_triangle+Area_of_circle2+Area_of_circle1\n",
    "print(\"area of face is\",Area_of_face )"
   ]
  },
  {
   "cell_type": "code",
   "execution_count": 26,
   "id": "86734851",
   "metadata": {},
   "outputs": [
    {
     "name": "stdout",
     "output_type": "stream",
     "text": [
      "enter length 7\n",
      "enter breadth 5\n",
      "enter l18\n",
      "enter b12\n",
      "enter l26\n",
      "enter b2\n",
      "area of window is 161\n"
     ]
    }
   ],
   "source": [
    "#area of rectangle\n",
    "length=int(input(\"enter length \"))\n",
    "breadth=int(input(\"enter breadth \"))\n",
    "Area_of_r1=3*(length*breadth)\n",
    "#area of raeling\n",
    "l1=int(input(\"enter l1\"))\n",
    "b1=int(input(\"enter b1\"))\n",
    "Area_of_r2=2*(l1*b1)\n",
    "#area of side raeling\n",
    "l2=int(input(\"enter l2\"))\n",
    "b2=int(input(\"enter b\"))\n",
    "Area_of_r3=2*(l2*b2)\n",
    "#\n",
    "Area_of_window=Area_of_r1+Area_of_r2+Area_of_r3\n",
    "print(\"area of window is\", Area_of_window)"
   ]
  },
  {
   "cell_type": "code",
   "execution_count": 28,
   "id": "abf4991e",
   "metadata": {},
   "outputs": [
    {
     "name": "stdout",
     "output_type": "stream",
     "text": [
      "enter l15\n",
      "enter b14\n",
      "enter l23\n",
      "enter b22\n",
      "enter l32\n",
      "enter b31\n",
      "enter side3\n",
      "enter r1\n",
      "enter h8\n",
      "area of ac 93.52000000000001\n"
     ]
    }
   ],
   "source": [
    "#area of complete frame \n",
    "l1=float(input(\"enter l1\"))\n",
    "b1=float(input(\"enter b1\"))\n",
    "area_of_frame=l1*b1\n",
    "#area of display\n",
    "l2=float(input(\"enter l2\"))\n",
    "b2=float(input(\"enter b2\"))\n",
    "area_of_display=l2*b2\n",
    "#area of flap\n",
    "l3=float(input(\"enter l3\"))\n",
    "b3=float(input(\"enter b3\"))\n",
    "area_of_flap=l3*b3\n",
    "#area of square\n",
    "side=float(input(\"enter side\"))\n",
    "area_of_square=side*side\n",
    "#area of wire\n",
    "r=float(input(\"enter r\"))\n",
    "h=float(input(\"enter h\"))\n",
    "pie=3.14\n",
    "area_of_cylinder=2*pie*r*(r+h)\n",
    "#print result\n",
    "area_of_ac=area_of_frame+area_of_display+area_of_flap+area_of_square+area_of_cylinder\n",
    "print(\"area of ac\",area_of_ac)"
   ]
  },
  {
   "cell_type": "code",
   "execution_count": 6,
   "id": "487076f5",
   "metadata": {},
   "outputs": [
    {
     "name": "stdout",
     "output_type": "stream",
     "text": [
      "enter number a2\n",
      "enter number b8\n",
      "add is 10\n",
      "subtract is -6\n",
      "mul is 16\n"
     ]
    }
   ],
   "source": [
    "a=int(input(\"enter number a\"))\n",
    "b=int(input(\"enter number b\"))\n",
    "addition=a+b\n",
    "subtraction=a-b\n",
    "multiplication=a*b\n",
    "print(\"add is\",addition)\n",
    "print(\"subtract is\",subtraction)\n",
    "print(\"mul is\",multiplication)\n",
    "\n"
   ]
  },
  {
   "cell_type": "code",
   "execution_count": null,
   "id": "93df8b72",
   "metadata": {},
   "outputs": [],
   "source": []
  }
 ],
 "metadata": {
  "kernelspec": {
   "display_name": "Python 3 (ipykernel)",
   "language": "python",
   "name": "python3"
  },
  "language_info": {
   "codemirror_mode": {
    "name": "ipython",
    "version": 3
   },
   "file_extension": ".py",
   "mimetype": "text/x-python",
   "name": "python",
   "nbconvert_exporter": "python",
   "pygments_lexer": "ipython3",
   "version": "3.9.7"
  }
 },
 "nbformat": 4,
 "nbformat_minor": 5
}
