{
 "cells": [
  {
   "cell_type": "code",
   "execution_count": null,
   "id": "cde6a8ef",
   "metadata": {},
   "outputs": [],
   "source": [
    "4. Find maximum and minimum number from two numbers using function\n"
   ]
  },
  {
   "cell_type": "code",
   "execution_count": 5,
   "id": "11fc9045",
   "metadata": {},
   "outputs": [
    {
     "name": "stdout",
     "output_type": "stream",
     "text": [
      "545  is maximum number compare to  88\n"
     ]
    }
   ],
   "source": [
    "def num(a,b):\n",
    "    if a>b:\n",
    "        print(a,\" is maximum number compare to \",b)\n",
    "    else: print(b,\" is maximum number compare to \",a)\n",
    "num(88,545)"
   ]
  }
 ],
 "metadata": {
  "kernelspec": {
   "display_name": "Python 3 (ipykernel)",
   "language": "python",
   "name": "python3"
  },
  "language_info": {
   "codemirror_mode": {
    "name": "ipython",
    "version": 3
   },
   "file_extension": ".py",
   "mimetype": "text/x-python",
   "name": "python",
   "nbconvert_exporter": "python",
   "pygments_lexer": "ipython3",
   "version": "3.9.7"
  }
 },
 "nbformat": 4,
 "nbformat_minor": 5
}
