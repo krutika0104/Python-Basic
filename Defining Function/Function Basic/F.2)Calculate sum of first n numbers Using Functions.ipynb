{
 "cells": [
  {
   "cell_type": "markdown",
   "id": "5e451b53",
   "metadata": {},
   "source": [
    "2. Calculate sum of first n numbers.\n"
   ]
  },
  {
   "cell_type": "code",
   "execution_count": 2,
   "id": "d9a76174",
   "metadata": {},
   "outputs": [
    {
     "name": "stdout",
     "output_type": "stream",
     "text": [
      "15\n"
     ]
    }
   ],
   "source": [
    "def sum(a):\n",
    "    if a==0 or a==1:\n",
    "        return(a)\n",
    "    else:return(a+sum(a-1))\n",
    "print(sum(5))\n"
   ]
  },
  {
   "cell_type": "code",
   "execution_count": null,
   "id": "5d975377",
   "metadata": {},
   "outputs": [],
   "source": []
  }
 ],
 "metadata": {
  "kernelspec": {
   "display_name": "Python 3 (ipykernel)",
   "language": "python",
   "name": "python3"
  },
  "language_info": {
   "codemirror_mode": {
    "name": "ipython",
    "version": 3
   },
   "file_extension": ".py",
   "mimetype": "text/x-python",
   "name": "python",
   "nbconvert_exporter": "python",
   "pygments_lexer": "ipython3",
   "version": "3.9.7"
  }
 },
 "nbformat": 4,
 "nbformat_minor": 5
}
