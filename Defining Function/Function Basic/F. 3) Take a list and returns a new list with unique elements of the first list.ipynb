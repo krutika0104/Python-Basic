{
 "cells": [
  {
   "cell_type": "code",
   "execution_count": null,
   "id": "6b2a3798",
   "metadata": {},
   "outputs": [],
   "source": [
    "3. Write a python function that takes a list and returns a new list with unique elements of the first list\n"
   ]
  },
  {
   "cell_type": "code",
   "execution_count": 3,
   "id": "477541b6",
   "metadata": {},
   "outputs": [
    {
     "name": "stdout",
     "output_type": "stream",
     "text": [
      "[111, 2, 3, 5, 66, 78, 90, 0]\n"
     ]
    }
   ],
   "source": [
    "def ulist(m):\n",
    "    n=[]\n",
    "    for i in m:\n",
    "        if i not in n:\n",
    "            n.append(i)\n",
    "    return n\n",
    "print(ulist([111,2,3,5,66,78,90,0]))\n",
    "    "
   ]
  }
 ],
 "metadata": {
  "kernelspec": {
   "display_name": "Python 3 (ipykernel)",
   "language": "python",
   "name": "python3"
  },
  "language_info": {
   "codemirror_mode": {
    "name": "ipython",
    "version": 3
   },
   "file_extension": ".py",
   "mimetype": "text/x-python",
   "name": "python",
   "nbconvert_exporter": "python",
   "pygments_lexer": "ipython3",
   "version": "3.9.7"
  }
 },
 "nbformat": 4,
 "nbformat_minor": 5
}
