{
 "cells": [
  {
   "cell_type": "code",
   "execution_count": null,
   "id": "65421d9f",
   "metadata": {},
   "outputs": [],
   "source": [
    "16. Write a python function that accepts a string and calculate the number of uppercase letters and lowercase"
   ]
  },
  {
   "cell_type": "code",
   "execution_count": 1,
   "id": "0dfeab1d",
   "metadata": {},
   "outputs": [
    {
     "name": "stdout",
     "output_type": "stream",
     "text": [
      "Enter the string: KrUtIKa\n",
      "Number of Uppercase letters is: 4\n",
      "Number of Lowercase letters is: 3\n"
     ]
    }
   ],
   "source": [
    " def String(a):\n",
    "    d={'uppercase':0,'lowercase':0}\n",
    "    for i in a:\n",
    "        if i.isupper():\n",
    "            d['uppercase']+=1\n",
    "        elif i.islower():\n",
    "            d['lowercase']+=1\n",
    "        else: pass\n",
    "    print('Enter the string:',a)\n",
    "    print('Number of Uppercase letters is:',d['uppercase'])\n",
    "    print('Number of Lowercase letters is:',d['lowercase'])\n",
    "String('KrUtIKa')"
   ]
  },
  {
   "cell_type": "code",
   "execution_count": null,
   "id": "c597416b",
   "metadata": {},
   "outputs": [],
   "source": []
  }
 ],
 "metadata": {
  "kernelspec": {
   "display_name": "Python 3 (ipykernel)",
   "language": "python",
   "name": "python3"
  },
  "language_info": {
   "codemirror_mode": {
    "name": "ipython",
    "version": 3
   },
   "file_extension": ".py",
   "mimetype": "text/x-python",
   "name": "python",
   "nbconvert_exporter": "python",
   "pygments_lexer": "ipython3",
   "version": "3.9.7"
  }
 },
 "nbformat": 4,
 "nbformat_minor": 5
}
