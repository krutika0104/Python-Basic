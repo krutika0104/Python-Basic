{
 "cells": [
  {
   "cell_type": "code",
   "execution_count": null,
   "id": "13814618",
   "metadata": {},
   "outputs": [],
   "source": [
    "6. write a program to check number is prime or not\n"
   ]
  },
  {
   "cell_type": "code",
   "execution_count": 5,
   "id": "17237ac0",
   "metadata": {},
   "outputs": [
    {
     "name": "stdout",
     "output_type": "stream",
     "text": [
      "Enter a:11\n"
     ]
    },
    {
     "data": {
      "text/plain": [
       "'This is prime number'"
      ]
     },
     "execution_count": 5,
     "metadata": {},
     "output_type": "execute_result"
    }
   ],
   "source": [
    "def prime(a):\n",
    "    for i in range(2,a):\n",
    "        if a%i==0:\n",
    "            return(\"Not a prime number\")\n",
    "    return(\"This is prime number\")\n",
    "a=int(input(\"Enter a:\"))\n",
    "prime(a)"
   ]
  }
 ],
 "metadata": {
  "kernelspec": {
   "display_name": "Python 3 (ipykernel)",
   "language": "python",
   "name": "python3"
  },
  "language_info": {
   "codemirror_mode": {
    "name": "ipython",
    "version": 3
   },
   "file_extension": ".py",
   "mimetype": "text/x-python",
   "name": "python",
   "nbconvert_exporter": "python",
   "pygments_lexer": "ipython3",
   "version": "3.9.7"
  }
 },
 "nbformat": 4,
 "nbformat_minor": 5
}
