{
 "cells": [
  {
   "cell_type": "code",
   "execution_count": null,
   "id": "9659626f",
   "metadata": {},
   "outputs": [],
   "source": [
    "7. Display the powers of 2 using anonymous functions\n"
   ]
  },
  {
   "cell_type": "code",
   "execution_count": 3,
   "id": "35310669",
   "metadata": {},
   "outputs": [
    {
     "data": {
      "text/plain": [
       "4"
      ]
     },
     "execution_count": 3,
     "metadata": {},
     "output_type": "execute_result"
    }
   ],
   "source": [
    "(lambda x: x**x)(2)\n"
   ]
  },
  {
   "cell_type": "code",
   "execution_count": 4,
   "id": "42bddfad",
   "metadata": {},
   "outputs": [
    {
     "name": "stdout",
     "output_type": "stream",
     "text": [
      "2 to the p 0 is: 0\n",
      "2 to the p 1 is: 1\n",
      "2 to the p 2 is: 2\n",
      "2 to the p 3 is: 3\n",
      "2 to the p 4 is: 4\n"
     ]
    }
   ],
   "source": [
    "p = list(filter(lambda x: 2 ** x, range(5)))\n",
    "for i in range(5):\n",
    "    print(\"2 to the p\",i,\"is:\",p[i])"
   ]
  }
 ],
 "metadata": {
  "kernelspec": {
   "display_name": "Python 3 (ipykernel)",
   "language": "python",
   "name": "python3"
  },
  "language_info": {
   "codemirror_mode": {
    "name": "ipython",
    "version": 3
   },
   "file_extension": ".py",
   "mimetype": "text/x-python",
   "name": "python",
   "nbconvert_exporter": "python",
   "pygments_lexer": "ipython3",
   "version": "3.9.7"
  }
 },
 "nbformat": 4,
 "nbformat_minor": 5
}
