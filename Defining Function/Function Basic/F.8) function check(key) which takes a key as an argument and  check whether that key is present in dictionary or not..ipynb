{
 "cells": [
  {
   "cell_type": "markdown",
   "id": "6c5469b5",
   "metadata": {},
   "source": [
    "8. Write a function check(key) which takes a key as an argument and check whether that key is present in dictionary or not."
   ]
  },
  {
   "cell_type": "code",
   "execution_count": 3,
   "id": "20c09fb2",
   "metadata": {},
   "outputs": [
    {
     "name": "stdout",
     "output_type": "stream",
     "text": [
      "The favouraite colour is Pink\n"
     ]
    }
   ],
   "source": [
    "def colours(color='Pink'):\n",
    "    print('The favouraite colour is',color)\n",
    "colours()"
   ]
  }
 ],
 "metadata": {
  "kernelspec": {
   "display_name": "Python 3 (ipykernel)",
   "language": "python",
   "name": "python3"
  },
  "language_info": {
   "codemirror_mode": {
    "name": "ipython",
    "version": 3
   },
   "file_extension": ".py",
   "mimetype": "text/x-python",
   "name": "python",
   "nbconvert_exporter": "python",
   "pygments_lexer": "ipython3",
   "version": "3.9.7"
  }
 },
 "nbformat": 4,
 "nbformat_minor": 5
}
