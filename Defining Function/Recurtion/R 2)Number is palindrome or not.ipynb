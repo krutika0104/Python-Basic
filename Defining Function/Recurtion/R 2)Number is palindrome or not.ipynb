{
 "cells": [
  {
   "cell_type": "markdown",
   "id": "32655797",
   "metadata": {},
   "source": [
    "3. A recursive Python program to check whether a given number is palindrome or not\n"
   ]
  },
  {
   "cell_type": "code",
   "execution_count": 15,
   "id": "78c7cfc3",
   "metadata": {},
   "outputs": [
    {
     "name": "stdout",
     "output_type": "stream",
     "text": [
      "Enter a:krutika\n",
      "krutika\n",
      "The string is not palindrome\n"
     ]
    }
   ],
   "source": [
    "def p(a):\n",
    "    if len(a)<1:\n",
    "        return True\n",
    "    else:\n",
    "        if a[0]==a[-1]:\n",
    "            return p(a[1:-1])\n",
    "        else:\n",
    "            return False\n",
    "a=str(input(\"Enter a:\"))\n",
    "print(a)\n",
    "if p(a)==True:print(\"The string is palindrome\")\n",
    "else:print(\"The string is not palindrome\")"
   ]
  },
  {
   "cell_type": "code",
   "execution_count": null,
   "id": "c509cfd6",
   "metadata": {},
   "outputs": [],
   "source": []
  }
 ],
 "metadata": {
  "kernelspec": {
   "display_name": "Python 3 (ipykernel)",
   "language": "python",
   "name": "python3"
  },
  "language_info": {
   "codemirror_mode": {
    "name": "ipython",
    "version": 3
   },
   "file_extension": ".py",
   "mimetype": "text/x-python",
   "name": "python",
   "nbconvert_exporter": "python",
   "pygments_lexer": "ipython3",
   "version": "3.9.7"
  }
 },
 "nbformat": 4,
 "nbformat_minor": 5
}
